{
 "cells": [
  {
   "cell_type": "code",
   "execution_count": 1,
   "id": "bbce6068",
   "metadata": {},
   "outputs": [],
   "source": [
    "import torch\n",
    "import dgl\n",
    "import dgl.nn as dglnn\n",
    "from dgl import from_networkx\n",
    "import torch.nn as nn\n",
    "import torch as th\n",
    "import torch.nn.functional as F\n",
    "import dgl.function as fn\n",
    "from dgl.data.utils import load_graphs\n",
    "import networkx as nx\n",
    "import pandas as pd\n",
    "import socket\n",
    "import struct\n",
    "import random\n",
    "from sklearn.preprocessing import LabelEncoder\n",
    "from sklearn.preprocessing import StandardScaler\n",
    "from sklearn.model_selection import train_test_split\n",
    "import seaborn as sns\n",
    "import matplotlib.pyplot as plt\n",
    "import numpy as np"
   ]
  },
  {
   "cell_type": "code",
   "execution_count": 2,
   "id": "5e2d4682",
   "metadata": {},
   "outputs": [
    {
     "name": "stderr",
     "output_type": "stream",
     "text": [
      "/tmp/ipykernel_1331/3993269919.py:1: DtypeWarning: Columns (7,9) have mixed types. Specify dtype option on import or set low_memory=False.\n",
      "  data = pd.read_csv('../../../Untitled Folder 1/bot_iot/bot.csv')\n"
     ]
    }
   ],
   "source": [
    "data = pd.read_csv('../../../Untitled Folder 1/bot_iot/bot.csv')"
   ]
  },
  {
   "cell_type": "code",
   "execution_count": 3,
   "id": "8e64a276",
   "metadata": {},
   "outputs": [],
   "source": [
    "data.drop(columns=['subcategory','pkSeqID','stime','flgs','category','state','proto','seq','sum','pkts','TnP_PSrcIP',\n",
    "                   'AR_P_Proto_P_DstIP', 'dbytes','dur', 'flgs_number', 'rate', 'AR_P_Proto_P_Sport', 'proto_number',\n",
    "                   'state_number', 'AR_P_Proto_P_Dport', 'dpkts', 'max', 'mean', 'min', 'drate'],inplace=True)"
   ]
  },
  {
   "cell_type": "code",
   "execution_count": 4,
   "id": "5571cf5b",
   "metadata": {},
   "outputs": [],
   "source": [
    "data.rename(columns={\"attack\": \"label\"},inplace = True)"
   ]
  },
  {
   "cell_type": "code",
   "execution_count": 5,
   "id": "d33a9467",
   "metadata": {},
   "outputs": [
    {
     "data": {
      "text/plain": [
       "1    3668045\n",
       "0        477\n",
       "Name: label, dtype: int64"
      ]
     },
     "execution_count": 5,
     "metadata": {},
     "output_type": "execute_result"
    }
   ],
   "source": [
    "data.label.value_counts()"
   ]
  },
  {
   "cell_type": "code",
   "execution_count": 6,
   "id": "04e58f5b",
   "metadata": {},
   "outputs": [],
   "source": [
    "# le = LabelEncoder()\n",
    "# le.fit_transform(data.label.values)\n",
    "# data['label'] = le.transform(data['label'])"
   ]
  },
  {
   "cell_type": "code",
   "execution_count": 7,
   "id": "67fcfb80",
   "metadata": {},
   "outputs": [],
   "source": [
    "data['saddr'] = data.saddr.apply(str)\n",
    "data['sport'] = data.sport.apply(str)\n",
    "data['daddr'] = data.daddr.apply(str)\n",
    "data['dport'] = data.dport.apply(str)"
   ]
  },
  {
   "cell_type": "code",
   "execution_count": 8,
   "id": "52e9ec56",
   "metadata": {},
   "outputs": [],
   "source": [
    "data['saddr'] = data['saddr'] + ':' + data['sport']\n",
    "data['daddr'] = data['daddr'] + ':' + data['dport']"
   ]
  },
  {
   "cell_type": "code",
   "execution_count": 9,
   "id": "89ab6f98",
   "metadata": {},
   "outputs": [],
   "source": [
    "data.drop(columns=['sport','dport'],inplace=True)\n",
    "label_ground_truth = data[[\"saddr\", \"daddr\",\"label\"]]\n",
    "# data = pd.get_dummies(data, columns = ['flgs_number','state_number', 'proto_number'])"
   ]
  },
  {
   "cell_type": "code",
   "execution_count": 10,
   "id": "ed721798",
   "metadata": {},
   "outputs": [],
   "source": [
    "data = data.reset_index()\n",
    "data.replace([np.inf, -np.inf], np.nan,inplace = True)"
   ]
  },
  {
   "cell_type": "code",
   "execution_count": 11,
   "id": "ff459681",
   "metadata": {},
   "outputs": [],
   "source": [
    "data.fillna(0,inplace = True)"
   ]
  },
  {
   "cell_type": "code",
   "execution_count": 12,
   "id": "433ae531",
   "metadata": {},
   "outputs": [],
   "source": [
    "label_ground_truth = data[[\"saddr\", \"daddr\",\"label\"]]"
   ]
  },
  {
   "cell_type": "code",
   "execution_count": 13,
   "id": "a17d57a5",
   "metadata": {},
   "outputs": [],
   "source": [
    "data.drop(columns=['index'],inplace=True)"
   ]
  },
  {
   "cell_type": "code",
   "execution_count": 14,
   "id": "cf482003",
   "metadata": {},
   "outputs": [
    {
     "data": {
      "text/html": [
       "<div>\n",
       "<style scoped>\n",
       "    .dataframe tbody tr th:only-of-type {\n",
       "        vertical-align: middle;\n",
       "    }\n",
       "\n",
       "    .dataframe tbody tr th {\n",
       "        vertical-align: top;\n",
       "    }\n",
       "\n",
       "    .dataframe thead th {\n",
       "        text-align: right;\n",
       "    }\n",
       "</style>\n",
       "<table border=\"1\" class=\"dataframe\">\n",
       "  <thead>\n",
       "    <tr style=\"text-align: right;\">\n",
       "      <th></th>\n",
       "      <th>saddr</th>\n",
       "      <th>daddr</th>\n",
       "      <th>bytes</th>\n",
       "      <th>ltime</th>\n",
       "      <th>stddev</th>\n",
       "      <th>spkts</th>\n",
       "      <th>sbytes</th>\n",
       "      <th>srate</th>\n",
       "      <th>TnBPSrcIP</th>\n",
       "      <th>TnBPDstIP</th>\n",
       "      <th>TnP_PDstIP</th>\n",
       "      <th>TnP_PerProto</th>\n",
       "      <th>TnP_Per_Dport</th>\n",
       "      <th>AR_P_Proto_P_SrcIP</th>\n",
       "      <th>N_IN_Conn_P_DstIP</th>\n",
       "      <th>N_IN_Conn_P_SrcIP</th>\n",
       "      <th>Pkts_P_State_P_Protocol_P_DestIP</th>\n",
       "      <th>Pkts_P_State_P_Protocol_P_SrcIP</th>\n",
       "      <th>label</th>\n",
       "    </tr>\n",
       "  </thead>\n",
       "  <tbody>\n",
       "    <tr>\n",
       "      <th>0</th>\n",
       "      <td>192.168.100.147:49960</td>\n",
       "      <td>192.168.100.7:80</td>\n",
       "      <td>1980</td>\n",
       "      <td>1.528089e+09</td>\n",
       "      <td>0.068909</td>\n",
       "      <td>5</td>\n",
       "      <td>650</td>\n",
       "      <td>0.566862</td>\n",
       "      <td>157426</td>\n",
       "      <td>201841</td>\n",
       "      <td>770</td>\n",
       "      <td>772</td>\n",
       "      <td>772</td>\n",
       "      <td>1.142970</td>\n",
       "      <td>96</td>\n",
       "      <td>75</td>\n",
       "      <td>770</td>\n",
       "      <td>602</td>\n",
       "      <td>1</td>\n",
       "    </tr>\n",
       "    <tr>\n",
       "      <th>1</th>\n",
       "      <td>192.168.100.7:-1</td>\n",
       "      <td>192.168.100.147:-1</td>\n",
       "      <td>120</td>\n",
       "      <td>1.528089e+09</td>\n",
       "      <td>0.000000</td>\n",
       "      <td>1</td>\n",
       "      <td>60</td>\n",
       "      <td>0.000000</td>\n",
       "      <td>360</td>\n",
       "      <td>120</td>\n",
       "      <td>2</td>\n",
       "      <td>8</td>\n",
       "      <td>8</td>\n",
       "      <td>0.003857</td>\n",
       "      <td>1</td>\n",
       "      <td>2</td>\n",
       "      <td>2</td>\n",
       "      <td>6</td>\n",
       "      <td>1</td>\n",
       "    </tr>\n",
       "    <tr>\n",
       "      <th>2</th>\n",
       "      <td>192.168.100.147:49962</td>\n",
       "      <td>192.168.100.7:80</td>\n",
       "      <td>2126</td>\n",
       "      <td>1.528089e+09</td>\n",
       "      <td>0.064494</td>\n",
       "      <td>5</td>\n",
       "      <td>796</td>\n",
       "      <td>0.567549</td>\n",
       "      <td>157426</td>\n",
       "      <td>201841</td>\n",
       "      <td>770</td>\n",
       "      <td>772</td>\n",
       "      <td>772</td>\n",
       "      <td>1.142970</td>\n",
       "      <td>96</td>\n",
       "      <td>75</td>\n",
       "      <td>770</td>\n",
       "      <td>602</td>\n",
       "      <td>1</td>\n",
       "    </tr>\n",
       "    <tr>\n",
       "      <th>3</th>\n",
       "      <td>192.168.100.147:49964</td>\n",
       "      <td>192.168.100.7:80</td>\n",
       "      <td>2024</td>\n",
       "      <td>1.528089e+09</td>\n",
       "      <td>0.064189</td>\n",
       "      <td>5</td>\n",
       "      <td>694</td>\n",
       "      <td>0.567570</td>\n",
       "      <td>157426</td>\n",
       "      <td>201841</td>\n",
       "      <td>770</td>\n",
       "      <td>772</td>\n",
       "      <td>772</td>\n",
       "      <td>1.142970</td>\n",
       "      <td>96</td>\n",
       "      <td>75</td>\n",
       "      <td>770</td>\n",
       "      <td>602</td>\n",
       "      <td>1</td>\n",
       "    </tr>\n",
       "    <tr>\n",
       "      <th>4</th>\n",
       "      <td>192.168.100.147:49966</td>\n",
       "      <td>192.168.100.7:80</td>\n",
       "      <td>2319</td>\n",
       "      <td>1.528089e+09</td>\n",
       "      <td>0.063887</td>\n",
       "      <td>5</td>\n",
       "      <td>989</td>\n",
       "      <td>0.567630</td>\n",
       "      <td>157426</td>\n",
       "      <td>201841</td>\n",
       "      <td>770</td>\n",
       "      <td>772</td>\n",
       "      <td>772</td>\n",
       "      <td>1.142970</td>\n",
       "      <td>96</td>\n",
       "      <td>75</td>\n",
       "      <td>770</td>\n",
       "      <td>602</td>\n",
       "      <td>1</td>\n",
       "    </tr>\n",
       "    <tr>\n",
       "      <th>...</th>\n",
       "      <td>...</td>\n",
       "      <td>...</td>\n",
       "      <td>...</td>\n",
       "      <td>...</td>\n",
       "      <td>...</td>\n",
       "      <td>...</td>\n",
       "      <td>...</td>\n",
       "      <td>...</td>\n",
       "      <td>...</td>\n",
       "      <td>...</td>\n",
       "      <td>...</td>\n",
       "      <td>...</td>\n",
       "      <td>...</td>\n",
       "      <td>...</td>\n",
       "      <td>...</td>\n",
       "      <td>...</td>\n",
       "      <td>...</td>\n",
       "      <td>...</td>\n",
       "      <td>...</td>\n",
       "    </tr>\n",
       "    <tr>\n",
       "      <th>3668517</th>\n",
       "      <td>192.168.100.150:35064</td>\n",
       "      <td>192.168.100.3:22</td>\n",
       "      <td>434</td>\n",
       "      <td>1.529381e+09</td>\n",
       "      <td>0.000000</td>\n",
       "      <td>3</td>\n",
       "      <td>228</td>\n",
       "      <td>151.917969</td>\n",
       "      <td>79240</td>\n",
       "      <td>79240</td>\n",
       "      <td>471</td>\n",
       "      <td>475</td>\n",
       "      <td>471</td>\n",
       "      <td>9.889330</td>\n",
       "      <td>19</td>\n",
       "      <td>19</td>\n",
       "      <td>30</td>\n",
       "      <td>30</td>\n",
       "      <td>1</td>\n",
       "    </tr>\n",
       "    <tr>\n",
       "      <th>3668518</th>\n",
       "      <td>192.168.100.150:35066</td>\n",
       "      <td>192.168.100.3:22</td>\n",
       "      <td>434</td>\n",
       "      <td>1.529381e+09</td>\n",
       "      <td>0.000000</td>\n",
       "      <td>3</td>\n",
       "      <td>228</td>\n",
       "      <td>3484.320557</td>\n",
       "      <td>79240</td>\n",
       "      <td>79240</td>\n",
       "      <td>471</td>\n",
       "      <td>475</td>\n",
       "      <td>471</td>\n",
       "      <td>9.889330</td>\n",
       "      <td>19</td>\n",
       "      <td>19</td>\n",
       "      <td>30</td>\n",
       "      <td>30</td>\n",
       "      <td>1</td>\n",
       "    </tr>\n",
       "    <tr>\n",
       "      <th>3668519</th>\n",
       "      <td>192.168.100.150:35070</td>\n",
       "      <td>192.168.100.3:22</td>\n",
       "      <td>5472</td>\n",
       "      <td>1.529381e+09</td>\n",
       "      <td>0.000000</td>\n",
       "      <td>14</td>\n",
       "      <td>1802</td>\n",
       "      <td>4.522837</td>\n",
       "      <td>79240</td>\n",
       "      <td>79240</td>\n",
       "      <td>471</td>\n",
       "      <td>475</td>\n",
       "      <td>471</td>\n",
       "      <td>9.889330</td>\n",
       "      <td>19</td>\n",
       "      <td>19</td>\n",
       "      <td>441</td>\n",
       "      <td>441</td>\n",
       "      <td>1</td>\n",
       "    </tr>\n",
       "    <tr>\n",
       "      <th>3668520</th>\n",
       "      <td>192.168.100.3:43001</td>\n",
       "      <td>192.168.100.150:4433</td>\n",
       "      <td>134</td>\n",
       "      <td>1.529381e+09</td>\n",
       "      <td>0.000000</td>\n",
       "      <td>1</td>\n",
       "      <td>74</td>\n",
       "      <td>0.000000</td>\n",
       "      <td>1228</td>\n",
       "      <td>134</td>\n",
       "      <td>2</td>\n",
       "      <td>475</td>\n",
       "      <td>4</td>\n",
       "      <td>22346.400000</td>\n",
       "      <td>1</td>\n",
       "      <td>3</td>\n",
       "      <td>2</td>\n",
       "      <td>4</td>\n",
       "      <td>1</td>\n",
       "    </tr>\n",
       "    <tr>\n",
       "      <th>3668521</th>\n",
       "      <td>192.168.100.3:-1</td>\n",
       "      <td>192.168.100.149:-1</td>\n",
       "      <td>960</td>\n",
       "      <td>1.529382e+09</td>\n",
       "      <td>0.000056</td>\n",
       "      <td>8</td>\n",
       "      <td>480</td>\n",
       "      <td>0.008255</td>\n",
       "      <td>1228</td>\n",
       "      <td>1094</td>\n",
       "      <td>18</td>\n",
       "      <td>16</td>\n",
       "      <td>16</td>\n",
       "      <td>0.018868</td>\n",
       "      <td>2</td>\n",
       "      <td>3</td>\n",
       "      <td>16</td>\n",
       "      <td>16</td>\n",
       "      <td>1</td>\n",
       "    </tr>\n",
       "  </tbody>\n",
       "</table>\n",
       "<p>3668522 rows × 19 columns</p>\n",
       "</div>"
      ],
      "text/plain": [
       "                         saddr                 daddr  bytes         ltime  \\\n",
       "0        192.168.100.147:49960      192.168.100.7:80   1980  1.528089e+09   \n",
       "1             192.168.100.7:-1    192.168.100.147:-1    120  1.528089e+09   \n",
       "2        192.168.100.147:49962      192.168.100.7:80   2126  1.528089e+09   \n",
       "3        192.168.100.147:49964      192.168.100.7:80   2024  1.528089e+09   \n",
       "4        192.168.100.147:49966      192.168.100.7:80   2319  1.528089e+09   \n",
       "...                        ...                   ...    ...           ...   \n",
       "3668517  192.168.100.150:35064      192.168.100.3:22    434  1.529381e+09   \n",
       "3668518  192.168.100.150:35066      192.168.100.3:22    434  1.529381e+09   \n",
       "3668519  192.168.100.150:35070      192.168.100.3:22   5472  1.529381e+09   \n",
       "3668520    192.168.100.3:43001  192.168.100.150:4433    134  1.529381e+09   \n",
       "3668521       192.168.100.3:-1    192.168.100.149:-1    960  1.529382e+09   \n",
       "\n",
       "           stddev  spkts  sbytes        srate  TnBPSrcIP  TnBPDstIP  \\\n",
       "0        0.068909      5     650     0.566862     157426     201841   \n",
       "1        0.000000      1      60     0.000000        360        120   \n",
       "2        0.064494      5     796     0.567549     157426     201841   \n",
       "3        0.064189      5     694     0.567570     157426     201841   \n",
       "4        0.063887      5     989     0.567630     157426     201841   \n",
       "...           ...    ...     ...          ...        ...        ...   \n",
       "3668517  0.000000      3     228   151.917969      79240      79240   \n",
       "3668518  0.000000      3     228  3484.320557      79240      79240   \n",
       "3668519  0.000000     14    1802     4.522837      79240      79240   \n",
       "3668520  0.000000      1      74     0.000000       1228        134   \n",
       "3668521  0.000056      8     480     0.008255       1228       1094   \n",
       "\n",
       "         TnP_PDstIP  TnP_PerProto  TnP_Per_Dport  AR_P_Proto_P_SrcIP  \\\n",
       "0               770           772            772            1.142970   \n",
       "1                 2             8              8            0.003857   \n",
       "2               770           772            772            1.142970   \n",
       "3               770           772            772            1.142970   \n",
       "4               770           772            772            1.142970   \n",
       "...             ...           ...            ...                 ...   \n",
       "3668517         471           475            471            9.889330   \n",
       "3668518         471           475            471            9.889330   \n",
       "3668519         471           475            471            9.889330   \n",
       "3668520           2           475              4        22346.400000   \n",
       "3668521          18            16             16            0.018868   \n",
       "\n",
       "         N_IN_Conn_P_DstIP  N_IN_Conn_P_SrcIP  \\\n",
       "0                       96                 75   \n",
       "1                        1                  2   \n",
       "2                       96                 75   \n",
       "3                       96                 75   \n",
       "4                       96                 75   \n",
       "...                    ...                ...   \n",
       "3668517                 19                 19   \n",
       "3668518                 19                 19   \n",
       "3668519                 19                 19   \n",
       "3668520                  1                  3   \n",
       "3668521                  2                  3   \n",
       "\n",
       "         Pkts_P_State_P_Protocol_P_DestIP  Pkts_P_State_P_Protocol_P_SrcIP  \\\n",
       "0                                     770                              602   \n",
       "1                                       2                                6   \n",
       "2                                     770                              602   \n",
       "3                                     770                              602   \n",
       "4                                     770                              602   \n",
       "...                                   ...                              ...   \n",
       "3668517                                30                               30   \n",
       "3668518                                30                               30   \n",
       "3668519                               441                              441   \n",
       "3668520                                 2                                4   \n",
       "3668521                                16                               16   \n",
       "\n",
       "         label  \n",
       "0            1  \n",
       "1            1  \n",
       "2            1  \n",
       "3            1  \n",
       "4            1  \n",
       "...        ...  \n",
       "3668517      1  \n",
       "3668518      1  \n",
       "3668519      1  \n",
       "3668520      1  \n",
       "3668521      1  \n",
       "\n",
       "[3668522 rows x 19 columns]"
      ]
     },
     "execution_count": 14,
     "metadata": {},
     "output_type": "execute_result"
    }
   ],
   "source": [
    "data"
   ]
  },
  {
   "cell_type": "code",
   "execution_count": 15,
   "id": "9d1077b9",
   "metadata": {},
   "outputs": [],
   "source": [
    "scaler = StandardScaler()\n",
    "cols_to_norm = list(set(list(data.iloc[:, 0:].columns ))  - set(list(['label', 'saddr', 'daddr'])) )\n",
    "data[cols_to_norm] = scaler.fit_transform(data[cols_to_norm])"
   ]
  },
  {
   "cell_type": "code",
   "execution_count": 16,
   "id": "ed94dccf",
   "metadata": {},
   "outputs": [],
   "source": [
    "X_train, X_test, y_train, y_test = train_test_split(\n",
    "     data, label_ground_truth, test_size=0.3, random_state=42, stratify=label_ground_truth.label)"
   ]
  },
  {
   "cell_type": "code",
   "execution_count": 17,
   "id": "7fe94c49",
   "metadata": {},
   "outputs": [],
   "source": [
    "X_train['h'] = X_train[ cols_to_norm ].values.tolist()"
   ]
  },
  {
   "cell_type": "code",
   "execution_count": 18,
   "id": "a2e18d0a",
   "metadata": {},
   "outputs": [],
   "source": [
    "G = nx.from_pandas_edgelist(X_train, \"daddr\", \"saddr\", ['h','label'],create_using=nx.MultiDiGraph)"
   ]
  },
  {
   "cell_type": "code",
   "execution_count": 19,
   "id": "243b162a",
   "metadata": {},
   "outputs": [
    {
     "data": {
      "text/plain": [
       "2567965"
      ]
     },
     "execution_count": 19,
     "metadata": {},
     "output_type": "execute_result"
    }
   ],
   "source": [
    "G.number_of_edges()"
   ]
  },
  {
   "cell_type": "code",
   "execution_count": 20,
   "id": "68b17353",
   "metadata": {},
   "outputs": [],
   "source": [
    "G1 = nx.from_pandas_edgelist(X_train, \"daddr\", \"saddr\",create_using=nx.MultiGraph)"
   ]
  },
  {
   "cell_type": "code",
   "execution_count": 21,
   "id": "4be730fd",
   "metadata": {},
   "outputs": [
    {
     "data": {
      "text/plain": [
       "2567965"
      ]
     },
     "execution_count": 21,
     "metadata": {},
     "output_type": "execute_result"
    }
   ],
   "source": [
    "G1.number_of_edges()"
   ]
  },
  {
   "cell_type": "code",
   "execution_count": 22,
   "id": "7ce96131",
   "metadata": {},
   "outputs": [],
   "source": [
    "G1 = G1.to_directed()"
   ]
  },
  {
   "cell_type": "code",
   "execution_count": 23,
   "id": "6e95b662",
   "metadata": {},
   "outputs": [],
   "source": [
    "G = from_networkx(G,edge_attrs=['h','label'] )"
   ]
  },
  {
   "cell_type": "code",
   "execution_count": 24,
   "id": "93f07ada",
   "metadata": {},
   "outputs": [],
   "source": [
    "G1 = from_networkx(G1)"
   ]
  },
  {
   "cell_type": "code",
   "execution_count": 25,
   "id": "56c04a7b",
   "metadata": {},
   "outputs": [],
   "source": [
    "G1 = dgl.add_self_loop(G1)"
   ]
  },
  {
   "cell_type": "code",
   "execution_count": 26,
   "id": "bfe29497",
   "metadata": {},
   "outputs": [],
   "source": [
    "G.edata['train_mask'] = th.ones(len(G.edata['h']), dtype=th.bool)"
   ]
  },
  {
   "cell_type": "code",
   "execution_count": 27,
   "id": "b508c6ae",
   "metadata": {},
   "outputs": [
    {
     "data": {
      "text/plain": [
       "Graph(num_nodes=272566, num_edges=2567965,\n",
       "      ndata_schemes={}\n",
       "      edata_schemes={'h': Scheme(shape=(16,), dtype=torch.float32), 'label': Scheme(shape=(), dtype=torch.int64), 'train_mask': Scheme(shape=(), dtype=torch.bool)})"
      ]
     },
     "execution_count": 27,
     "metadata": {},
     "output_type": "execute_result"
    }
   ],
   "source": [
    "G"
   ]
  },
  {
   "cell_type": "code",
   "execution_count": 28,
   "id": "262f60cc",
   "metadata": {},
   "outputs": [
    {
     "data": {
      "text/plain": [
       "Graph(num_nodes=272566, num_edges=5408496,\n",
       "      ndata_schemes={}\n",
       "      edata_schemes={})"
      ]
     },
     "execution_count": 28,
     "metadata": {},
     "output_type": "execute_result"
    }
   ],
   "source": [
    "G1"
   ]
  },
  {
   "cell_type": "code",
   "execution_count": 29,
   "id": "b4f371d5",
   "metadata": {},
   "outputs": [],
   "source": [
    "def compute_accuracy(pred, labels):\n",
    "    return (pred.argmax(1) == labels).float().mean().item()"
   ]
  },
  {
   "cell_type": "code",
   "execution_count": 30,
   "id": "51ca4453",
   "metadata": {},
   "outputs": [],
   "source": [
    "from dgl.utils import expand_as_pair\n",
    "from dgl.nn.functional import edge_softmax\n",
    "class GATConv(nn.Module):\n",
    "    def __init__(\n",
    "        self,\n",
    "        in_feats,\n",
    "        out_feats,\n",
    "        feat_drop=0.0,\n",
    "        attn_drop=0.0,\n",
    "        negative_slope=0.2,\n",
    "    ):\n",
    "        super(GATConv, self).__init__()\n",
    "        self._in_src_feats, self._in_dst_feats = expand_as_pair(in_feats)\n",
    "        self._out_feats = out_feats\n",
    "        \n",
    "        self.fc = nn.Linear(\n",
    "            self._in_src_feats, out_feats, bias=False\n",
    "        )\n",
    "        \n",
    "        self.attn = nn.Parameter(\n",
    "            th.FloatTensor(size=(1, out_feats))\n",
    "        )\n",
    "\n",
    "        self.feat_drop = nn.Dropout(feat_drop)\n",
    "        self.attn_drop = nn.Dropout(attn_drop)\n",
    "        self.leaky_relu = nn.LeakyReLU(negative_slope)\n",
    "\n",
    "        \n",
    "        self.reset_parameters()\n",
    "       \n",
    "    \n",
    "    def reset_parameters(self):\n",
    "        gain = nn.init.calculate_gain('relu')\n",
    "        \n",
    "        nn.init.xavier_normal_(self.fc.weight, gain=gain)\n",
    "\n",
    "        nn.init.xavier_normal_(self.attn, gain=gain)\n",
    "\n",
    "    \n",
    "    def message_func(self, edges):\n",
    "        return {'m': edges.data['a'] * edges.data['ft']}\n",
    "    \n",
    "    def forward(self, graph, efeat):\n",
    "        with graph.local_scope(): \n",
    "            efeat = self.feat_drop(efeat)\n",
    "            efeat = self.fc(efeat)\n",
    "            graph.edata['ft'] = efeat\n",
    "            e = (efeat * self.attn).sum(dim=-1).unsqueeze(-1)\n",
    "            graph.edata['e']= e         \n",
    "            e = self.leaky_relu(graph.edata.pop('e'))\n",
    "            graph.edata['a'] = self.attn_drop(edge_softmax(graph, e))\n",
    "            # message passing\n",
    "            graph.update_all(self.message_func, fn.sum('m', 'ft'))\n",
    "            rst = graph.ndata['ft']\n",
    "            return rst,efeat"
   ]
  },
  {
   "cell_type": "code",
   "execution_count": 31,
   "id": "932a0c7b",
   "metadata": {},
   "outputs": [],
   "source": [
    "class MLPPredictor(nn.Module):\n",
    "    def __init__(self, in_features, out_classes):\n",
    "        super().__init__()\n",
    "        self.W = nn.Linear(in_features * 3, out_classes)\n",
    "\n",
    "    def apply_edges(self, edges):\n",
    "        h_u = edges.src['h']\n",
    "        h_v = edges.dst['h']\n",
    "        h_e = edges.data['e']\n",
    "        score = self.W(th.cat([h_u, h_v, h_e], 1))\n",
    "        return {'score': score}\n",
    "\n",
    "    def forward(self, graph, h, e):\n",
    "        with graph.local_scope():\n",
    "            graph.ndata['h'] = h\n",
    "            graph.edata['e'] = e\n",
    "            graph.apply_edges(self.apply_edges)\n",
    "            return graph.edata['score']"
   ]
  },
  {
   "cell_type": "code",
   "execution_count": 32,
   "id": "d8a2d9e7",
   "metadata": {},
   "outputs": [],
   "source": [
    "class SAGEConv(nn.Module):\n",
    "   \n",
    "    def __init__(\n",
    "        self,\n",
    "        in_feats,\n",
    "        out_feats,\n",
    "        k=2,\n",
    "        feat_drop=0.1,\n",
    "        cached=False,\n",
    "        bias=True,\n",
    "    ):\n",
    "        super(SAGEConv, self).__init__()\n",
    "        self.fc = nn.Linear(in_feats, out_feats, bias=bias)\n",
    "        self._k = k\n",
    "        self.feat_drop = nn.Dropout(feat_drop)\n",
    "        self.reset_parameters()\n",
    "\n",
    "\n",
    "    def reset_parameters(self):\n",
    "        nn.init.xavier_uniform_(self.fc.weight)\n",
    "        if self.fc.bias is not None:\n",
    "            nn.init.zeros_(self.fc.bias)\n",
    "        \n",
    "    def forward(self, graph, feat, edge_weight=None):\n",
    "        with graph.local_scope():\n",
    "          \n",
    "            msg_fn = fn.copy_u(\"h\", \"m\")\n",
    "            \n",
    "            for _ in range(self._k):\n",
    "                h_self = self.feat_drop(feat)\n",
    "                graph.ndata[\"h\"] = h_self\n",
    "                graph.update_all(msg_fn, fn.mean(\"m\", \"neigh\"))\n",
    "#                 feat = self.feat_drop(graph.ndata.pop(\"neigh\"))\n",
    "                h_neigh = graph.ndata.pop(\"neigh\")\n",
    "                feat = h_neigh\n",
    "            return self.fc(feat)"
   ]
  },
  {
   "cell_type": "code",
   "execution_count": 33,
   "id": "cc5de6af",
   "metadata": {},
   "outputs": [],
   "source": [
    "class Model(nn.Module):\n",
    "    def __init__(self, edim_in, edim_out, ndim_out):\n",
    "        super().__init__()\n",
    "        self.gat = GATConv(edim_in, ndim_out)\n",
    "        self.conv1 = SAGEConv(ndim_out, edim_out, k=2)\n",
    "        self.pred = MLPPredictor(edim_out, 2)\n",
    "    def forward(self, g, g1, efeats):\n",
    "        h,e = self.gat(g, efeats)\n",
    "        h = F.relu(h)\n",
    "        h = self.conv1(g1, h)\n",
    "        return self.pred(g, h, e)"
   ]
  },
  {
   "cell_type": "code",
   "execution_count": 34,
   "id": "1298d4f7",
   "metadata": {},
   "outputs": [],
   "source": [
    "from sklearn.utils import class_weight\n",
    "class_weights = class_weight.compute_class_weight(class_weight = 'balanced',\n",
    "                                                  classes = np.unique(G.edata['label'].cpu().numpy()),\n",
    "                                                  y = G.edata['label'].cpu().numpy())\n",
    "class_weights = th.FloatTensor(class_weights).cuda()\n",
    "criterion = nn.CrossEntropyLoss(weight = class_weights)"
   ]
  },
  {
   "cell_type": "code",
   "execution_count": 35,
   "id": "8b8e7f3e",
   "metadata": {},
   "outputs": [],
   "source": [
    "# criterion = nn.CrossEntropyLoss()"
   ]
  },
  {
   "cell_type": "code",
   "execution_count": 36,
   "id": "d2804d1c",
   "metadata": {},
   "outputs": [],
   "source": [
    "G = G.to('cuda:0')\n",
    "G1 = G1.to('cuda:0')"
   ]
  },
  {
   "cell_type": "code",
   "execution_count": 37,
   "id": "58996abc",
   "metadata": {},
   "outputs": [
    {
     "name": "stdout",
     "output_type": "stream",
     "text": [
      "epoc:100 Training acc:0.784090518951416 loss:0.21857818961143494\n",
      "epoc:200 Training acc:0.9738174080848694 loss:0.12615223228931427\n",
      "epoc:300 Training acc:0.9821543097496033 loss:0.08698602020740509\n",
      "epoc:400 Training acc:0.9828023314476013 loss:0.06575027853250504\n",
      "epoc:500 Training acc:0.9821975827217102 loss:0.046927180141210556\n",
      "epoc:600 Training acc:0.986254870891571 loss:0.04310416802763939\n",
      "epoc:700 Training acc:0.9868666529655457 loss:0.03446342796087265\n",
      "epoc:800 Training acc:0.9893678426742554 loss:0.029583105817437172\n",
      "epoc:900 Training acc:0.9905664324760437 loss:0.029248498380184174\n",
      "epoc:1000 Training acc:0.9912078380584717 loss:0.029305744916200638\n",
      "epoc:1100 Training acc:0.9934083819389343 loss:0.024795547127723694\n",
      "epoc:1200 Training acc:0.9947168231010437 loss:0.01810562238097191\n",
      "epoc:1300 Training acc:0.9936513900756836 loss:0.023910826072096825\n",
      "epoc:1400 Training acc:0.9950548410415649 loss:0.016515975818037987\n",
      "epoc:1500 Training acc:0.9950416088104248 loss:0.01666245050728321\n",
      "epoc:1600 Training acc:0.9960583448410034 loss:0.010737041011452675\n",
      "epoc:1700 Training acc:0.9956782460212708 loss:0.011459955014288425\n",
      "epoc:1800 Training acc:0.9941256642341614 loss:0.017318623140454292\n",
      "epoc:1900 Training acc:0.9971140623092651 loss:0.006941735744476318\n",
      "epoc:2000 Training acc:0.9973772764205933 loss:0.008868603967130184\n",
      "epoc:2100 Training acc:0.9973745346069336 loss:0.010145848616957664\n",
      "epoc:2200 Training acc:0.9973769187927246 loss:0.008229190483689308\n",
      "epoc:2300 Training acc:0.9973995089530945 loss:0.007830389775335789\n",
      "epoc:2400 Training acc:0.9972503185272217 loss:0.009780009277164936\n",
      "epoc:2500 Training acc:0.9974072575569153 loss:0.007292959839105606\n",
      "epoc:2600 Training acc:0.9974287152290344 loss:0.008152526803314686\n",
      "epoc:2700 Training acc:0.9974130988121033 loss:0.005360669922083616\n",
      "epoc:2800 Training acc:0.9974115490913391 loss:0.00721962284296751\n",
      "epoc:2900 Training acc:0.9973036646842957 loss:0.006228250451385975\n",
      "epoc:3000 Training acc:0.9974313974380493 loss:0.006537844892591238\n",
      "epoc:3100 Training acc:0.9974395632743835 loss:0.007344375364482403\n",
      "epoc:3200 Training acc:0.9974570870399475 loss:0.006935803219676018\n",
      "epoc:3300 Training acc:0.9974240064620972 loss:0.0072669885121285915\n",
      "epoc:3400 Training acc:0.997404158115387 loss:0.005393436178565025\n",
      "epoc:3500 Training acc:0.9974302649497986 loss:0.006101051811128855\n",
      "epoc:3600 Training acc:0.9974493384361267 loss:0.005462220404297113\n",
      "epoc:3700 Training acc:0.9974594712257385 loss:0.006905587390065193\n",
      "epoc:3800 Training acc:0.9974625706672668 loss:0.003960052039474249\n",
      "epoc:3900 Training acc:0.9963138103485107 loss:0.0056397137232124805\n",
      "epoc:4000 Training acc:0.9975423812866211 loss:0.0027031139470636845\n",
      "epoc:4100 Training acc:0.9974738359451294 loss:0.004448147490620613\n",
      "epoc:4200 Training acc:0.997648298740387 loss:0.00235228193923831\n",
      "epoc:4300 Training acc:0.9980536699295044 loss:0.005315337795764208\n",
      "epoc:4400 Training acc:0.9995654225349426 loss:0.0029633885715156794\n",
      "epoc:4500 Training acc:0.9975486397743225 loss:0.0038916198536753654\n",
      "epoc:4600 Training acc:0.9984282851219177 loss:0.002313359407708049\n",
      "epoc:4700 Training acc:0.9976794719696045 loss:0.0024922892916947603\n",
      "epoc:4800 Training acc:0.9983819723129272 loss:0.007111749611794949\n",
      "epoc:4900 Training acc:0.9983776807785034 loss:0.0018964180490002036\n",
      "epoc:5000 Training acc:0.9984501004219055 loss:0.0016715083038434386\n",
      "epoc:5100 Training acc:0.998522937297821 loss:0.0017376103205606341\n",
      "epoc:5200 Training acc:0.9993753433227539 loss:0.0013077198527753353\n",
      "epoc:5300 Training acc:0.9997153282165527 loss:0.000991874374449253\n",
      "epoc:5400 Training acc:0.99826979637146 loss:0.002107128268107772\n",
      "epoc:5500 Training acc:0.9998839497566223 loss:0.0009677977068349719\n",
      "epoc:5600 Training acc:0.9997904896736145 loss:0.0010685924207791686\n",
      "epoc:5700 Training acc:0.9999131560325623 loss:0.0013545273104682565\n",
      "epoc:5800 Training acc:0.999916672706604 loss:0.0009468800853937864\n",
      "epoc:5900 Training acc:0.9997258186340332 loss:0.0011725631775334477\n",
      "epoc:6000 Training acc:0.9999182224273682 loss:0.0007732647354714572\n",
      "epoc:6100 Training acc:0.9992632269859314 loss:0.0011613316601142287\n",
      "epoc:6200 Training acc:0.9999213218688965 loss:0.0006797552923671901\n",
      "epoc:6300 Training acc:0.9999150633811951 loss:0.0008332845172844827\n",
      "epoc:6400 Training acc:0.9996612071990967 loss:0.0009304529521614313\n",
      "epoc:6500 Training acc:0.9996518492698669 loss:0.0009887218475341797\n",
      "epoc:6600 Training acc:0.9992604851722717 loss:0.0011710679391399026\n",
      "epoc:6700 Training acc:0.9997484087944031 loss:0.0015613880241289735\n",
      "epoc:6800 Training acc:0.9998870491981506 loss:0.0007768254727125168\n",
      "epoc:6900 Training acc:0.9992433786392212 loss:0.0013192332116886973\n",
      "epoc:7000 Training acc:0.9997239112854004 loss:0.0024930054787546396\n",
      "epoc:7100 Training acc:0.9998481273651123 loss:0.0012998186284676194\n",
      "epoc:7200 Training acc:0.9999150633811951 loss:0.000882103806361556\n",
      "epoc:7300 Training acc:0.9998952150344849 loss:0.000747515878174454\n",
      "epoc:7400 Training acc:0.999896764755249 loss:0.0007422399357892573\n",
      "epoc:7500 Training acc:0.9997289776802063 loss:0.0518185980618\n",
      "epoc:7600 Training acc:0.9999068975448608 loss:0.0006286533316597342\n",
      "epoc:7700 Training acc:0.9998699426651001 loss:0.0006802825373597443\n",
      "epoc:7800 Training acc:0.9999158978462219 loss:0.0006133171846158803\n",
      "epoc:7900 Training acc:0.9999174475669861 loss:0.000557465071324259\n",
      "epoc:8000 Training acc:0.9999279379844666 loss:0.0006814661319367588\n",
      "epoc:8100 Training acc:0.9998730421066284 loss:0.0008316794992424548\n",
      "epoc:8200 Training acc:0.9999147057533264 loss:0.0006336849182844162\n",
      "epoc:8300 Training acc:0.9999076724052429 loss:0.000624811218585819\n",
      "epoc:8400 Training acc:0.9997254610061646 loss:0.0008961514104157686\n",
      "epoc:8500 Training acc:0.9996954798698425 loss:0.0010254543740302324\n",
      "epoc:8600 Training acc:0.9998816251754761 loss:0.0005809110007248819\n",
      "epoc:8700 Training acc:0.9999174475669861 loss:0.000568956311326474\n",
      "epoc:8800 Training acc:0.999843418598175 loss:0.008865528739988804\n",
      "epoc:8900 Training acc:0.9999131560325623 loss:0.0006438018754124641\n",
      "epoc:9000 Training acc:0.9999018311500549 loss:0.0008777837501838803\n",
      "epoc:9100 Training acc:0.9998773336410522 loss:0.0005460036918520927\n",
      "epoc:9200 Training acc:0.9998944401741028 loss:0.0014808414271101356\n",
      "epoc:9300 Training acc:0.9999162554740906 loss:0.0007726182811893523\n",
      "epoc:9400 Training acc:0.9999178051948547 loss:0.0004803496995009482\n",
      "epoc:9500 Training acc:0.9999185800552368 loss:0.00201983330771327\n",
      "epoc:9600 Training acc:0.9996393918991089 loss:0.000957782263867557\n",
      "epoc:9700 Training acc:0.9999116063117981 loss:0.0006945357890799642\n",
      "epoc:9800 Training acc:0.9999116063117981 loss:0.0008525208686478436\n",
      "epoc:9900 Training acc:0.9999275803565979 loss:0.0005039153038524091\n",
      "epoc:10000 Training acc:0.9999189972877502 loss:0.00045107718324288726\n",
      "epoc:10100 Training acc:0.9997636079788208 loss:0.0007865476072765887\n",
      "epoc:10200 Training acc:0.9999162554740906 loss:0.0006292732432484627\n",
      "epoc:10300 Training acc:0.9997344017028809 loss:0.0012532549444586039\n",
      "epoc:10400 Training acc:0.9999057650566101 loss:0.0005484935827553272\n",
      "epoc:10500 Training acc:0.9999104142189026 loss:0.0005588213098235428\n",
      "epoc:10600 Training acc:0.9999287128448486 loss:0.0005078026442788541\n",
      "epoc:10700 Training acc:0.999938428401947 loss:0.0012981424806639552\n",
      "epoc:10800 Training acc:0.9998971819877625 loss:0.0005046646110713482\n",
      "epoc:10900 Training acc:0.999910831451416 loss:0.0005479120300151408\n",
      "epoc:11000 Training acc:0.9999337792396545 loss:0.00030745856929570436\n",
      "epoc:11100 Training acc:0.9999088644981384 loss:0.000493824016302824\n",
      "epoc:11200 Training acc:0.9999178051948547 loss:0.00048730146954767406\n",
      "epoc:11300 Training acc:0.9999123811721802 loss:0.0003594489535316825\n",
      "epoc:11400 Training acc:0.999908447265625 loss:0.0014445442939177155\n",
      "epoc:11500 Training acc:0.9998905658721924 loss:0.0005763628869317472\n",
      "epoc:11600 Training acc:0.9997262358665466 loss:0.0006819432019256055\n",
      "epoc:11700 Training acc:0.9999154806137085 loss:0.0005158389685675502\n",
      "epoc:11800 Training acc:0.9999209046363831 loss:0.00048171068192459643\n",
      "epoc:11900 Training acc:0.9998874664306641 loss:0.00047191287740133703\n",
      "程序执行时间为：590.8793318271637 秒\n"
     ]
    }
   ],
   "source": [
    "import time\n",
    "start_time = time.time()\n",
    "\n",
    "edge_features = G.edata['h']\n",
    "\n",
    "edge_label = G.edata['label']\n",
    "train_mask = G.edata['train_mask']\n",
    "\n",
    "model = Model(G.edata['h'].shape[1], 8, 8).cuda()\n",
    "opt = th.optim.Adam(model.parameters())\n",
    "\n",
    "for epoch in range(1,12000):\n",
    "    pred = model(G, G1, edge_features).cuda()\n",
    "    loss = criterion(pred[train_mask] ,edge_label[train_mask])\n",
    "    opt.zero_grad()\n",
    "    loss.backward()\n",
    "    opt.step()\n",
    "    if epoch % 100 == 0:\n",
    "        print('epoc:{} Training acc:{} loss:{}'.format(epoch, compute_accuracy(pred[train_mask], edge_label[train_mask]), loss))\n",
    "        \n",
    "end_time = time.time()\n",
    "execution_time = end_time - start_time\n",
    "print(f\"程序执行时间为：{execution_time} 秒\")"
   ]
  },
  {
   "cell_type": "code",
   "execution_count": 38,
   "id": "d9103c49",
   "metadata": {},
   "outputs": [],
   "source": [
    "X_test['h'] = X_test[ cols_to_norm ].values.tolist()"
   ]
  },
  {
   "cell_type": "code",
   "execution_count": 39,
   "id": "79ca777c",
   "metadata": {},
   "outputs": [],
   "source": [
    "G_test = nx.from_pandas_edgelist(X_test, \"daddr\", \"saddr\", ['h','label'],create_using=nx.MultiDiGraph)\n",
    "G1_test = nx.from_pandas_edgelist(X_test, \"daddr\", \"saddr\",create_using=nx.MultiGraph)\n",
    "G1_test = G1_test.to_directed()\n",
    "G_test = from_networkx(G_test, edge_attrs=['h','label'])\n",
    "G1_test = from_networkx(G1_test)\n",
    "G1_test = dgl.add_self_loop(G1_test)\n",
    "actual = G_test.edata.pop('label')"
   ]
  },
  {
   "cell_type": "code",
   "execution_count": 40,
   "id": "cbccd12a",
   "metadata": {},
   "outputs": [],
   "source": [
    "G_test = G_test.to('cuda:0')\n",
    "G1_test = G1_test.to('cuda:0')"
   ]
  },
  {
   "cell_type": "code",
   "execution_count": 41,
   "id": "b513638c",
   "metadata": {},
   "outputs": [],
   "source": [
    "th.cuda.empty_cache()"
   ]
  },
  {
   "cell_type": "code",
   "execution_count": 42,
   "id": "cc106bf8",
   "metadata": {},
   "outputs": [],
   "source": [
    "import timeit\n",
    "\n",
    "edge_features_test = G_test.edata['h']\n",
    "\n",
    "torch.cuda.synchronize()\n",
    "start_time = timeit.default_timer()\n",
    "\n",
    "with torch.no_grad():\n",
    "    test_pred =model(G_test, G1_test, edge_features_test).cuda()\n",
    "\n",
    "torch.cuda.synchronize()\n",
    "elapsed = timeit.default_timer() - start_time"
   ]
  },
  {
   "cell_type": "code",
   "execution_count": 43,
   "id": "9955b4dd",
   "metadata": {},
   "outputs": [
    {
     "name": "stdout",
     "output_type": "stream",
     "text": [
      "0.0031482920021517202 seconds\n"
     ]
    }
   ],
   "source": [
    "print(str(elapsed) + ' seconds')"
   ]
  },
  {
   "cell_type": "code",
   "execution_count": 44,
   "id": "577203a1",
   "metadata": {},
   "outputs": [
    {
     "name": "stdout",
     "output_type": "stream",
     "text": [
      "2.8606351167197337e-09\n"
     ]
    }
   ],
   "source": [
    "print(elapsed/len(X_test))"
   ]
  },
  {
   "cell_type": "code",
   "execution_count": 45,
   "id": "76a17022",
   "metadata": {},
   "outputs": [],
   "source": [
    "test_pred = test_pred.argmax(1)"
   ]
  },
  {
   "cell_type": "code",
   "execution_count": 46,
   "id": "4875bea8",
   "metadata": {},
   "outputs": [],
   "source": [
    "test_pred = th.Tensor.cpu(test_pred).detach().numpy()"
   ]
  },
  {
   "cell_type": "code",
   "execution_count": 47,
   "id": "b0324440",
   "metadata": {},
   "outputs": [
    {
     "name": "stdout",
     "output_type": "stream",
     "text": [
      "Accuracy: 0.9998955074566788\n",
      "Precision: 1.0\n",
      "F1-Score: 0.9999477442083544\n",
      "Recall: 0.9998954938777588\n",
      "FAR: 0.0\n"
     ]
    }
   ],
   "source": [
    "from sklearn import metrics\n",
    "\n",
    "accuracy = metrics.accuracy_score(actual, test_pred)\n",
    "precision = metrics.precision_score(actual, test_pred)\n",
    "f1_score = metrics.f1_score(actual, test_pred)\n",
    "recall = metrics.recall_score(actual, test_pred)\n",
    "\n",
    "tn, fp, fn, tp = metrics.confusion_matrix(actual, test_pred).ravel()\n",
    "far = fp / (fp + tn)\n",
    "\n",
    "print(f\"Accuracy: {accuracy}\")\n",
    "print(f\"Precision: {precision}\")\n",
    "print(f\"F1-Score: {f1_score}\")\n",
    "print(f\"Recall: {recall}\")\n",
    "print(f\"FAR: {far}\")"
   ]
  },
  {
   "cell_type": "code",
   "execution_count": 48,
   "id": "bb6f13dc",
   "metadata": {},
   "outputs": [],
   "source": [
    "actual = [\"Normal\" if i == 0 else \"Attack\" for i in actual]\n",
    "test_pred = [\"Normal\" if i == 0 else \"Attack\" for i in test_pred]"
   ]
  },
  {
   "cell_type": "code",
   "execution_count": 49,
   "id": "25250756",
   "metadata": {},
   "outputs": [],
   "source": [
    "import numpy as np\n",
    "\n",
    "\n",
    "def plot_confusion_matrix(cm,\n",
    "                          target_names,\n",
    "                          title='Confusion matrix',\n",
    "                          cmap=None,\n",
    "                          normalize=True):\n",
    "    \n",
    "    import matplotlib.pyplot as plt\n",
    "    import numpy as np\n",
    "    import itertools\n",
    "\n",
    "    accuracy = np.trace(cm) / float(np.sum(cm))\n",
    "    misclass = 1 - accuracy\n",
    "\n",
    "    if cmap is None:\n",
    "        cmap = plt.get_cmap('Blues')\n",
    "\n",
    "    plt.figure(figsize=(12, 12))\n",
    "    plt.imshow(cm, interpolation='nearest', cmap=cmap)\n",
    "    plt.title(title)\n",
    "    plt.colorbar()\n",
    "\n",
    "    if target_names is not None:\n",
    "        tick_marks = np.arange(len(target_names))\n",
    "        plt.xticks(tick_marks, target_names, rotation=45)\n",
    "        plt.yticks(tick_marks, target_names)\n",
    "\n",
    "    if normalize:\n",
    "        cm = cm.astype('float') / cm.sum(axis=1)[:, np.newaxis]\n",
    "\n",
    "\n",
    "    thresh = cm.max() / 1.5 if normalize else cm.max() / 2\n",
    "    for i, j in itertools.product(range(cm.shape[0]), range(cm.shape[1])):\n",
    "        if normalize:\n",
    "            plt.text(j, i, \"{:0.4f}\".format(cm[i, j]),\n",
    "                     horizontalalignment=\"center\",\n",
    "                     color=\"white\" if cm[i, j] > thresh else \"black\")\n",
    "        else:\n",
    "            plt.text(j, i, \"{:,}\".format(cm[i, j]),\n",
    "                     horizontalalignment=\"center\",\n",
    "                     color=\"white\" if cm[i, j] > thresh else \"black\")\n",
    "\n",
    "\n",
    "    plt.tight_layout()\n",
    "    plt.ylabel('True label')\n",
    "    plt.xlabel('Predicted label\\naccuracy={:0.4f}; misclass={:0.4f}'.format(accuracy, misclass))\n",
    "    plt.show()"
   ]
  },
  {
   "cell_type": "code",
   "execution_count": 50,
   "id": "55795797",
   "metadata": {},
   "outputs": [
    {
     "data": {
      "image/png": "[encoded data removed]",
      "text/plain": [
       "<Figure size 1200x1200 with 2 Axes>"
      ]
     },
     "metadata": {},
     "output_type": "display_data"
    }
   ],
   "source": [
    "from sklearn.metrics import confusion_matrix\n",
    "plot_confusion_matrix(cm = confusion_matrix(actual, test_pred), \n",
    "                      normalize    = False,\n",
    "                      target_names = np.unique(actual),\n",
    "                      title        = \"Confusion Matrix\")"
   ]
  },
  {
   "cell_type": "code",
   "execution_count": 51,
   "id": "e817b0a0",
   "metadata": {},
   "outputs": [],
   "source": [
    "def plot_confusion_matrix(cm,\n",
    "                          target_names,\n",
    "                          title='Confusion matrix',\n",
    "                          cmap=None,\n",
    "                          normalize=True,\n",
    "                          title_fontsize=14):\n",
    "    \n",
    "    import matplotlib.pyplot as plt\n",
    "    import numpy as np\n",
    "    import itertools\n",
    "\n",
    "    accuracy = np.trace(cm) / float(np.sum(cm))\n",
    "    misclass = 1 - accuracy\n",
    "\n",
    "    if cmap is None:\n",
    "        cmap = plt.get_cmap('Blues')\n",
    "\n",
    "    plt.figure(figsize=(8, 5))\n",
    "    if normalize:\n",
    "        cm = cm.astype('float') / cm.sum(axis=1)[:, np.newaxis]\n",
    "\n",
    "    plt.imshow(cm, interpolation='nearest', cmap=cmap, vmin=0, vmax=1)\n",
    "    plt.title(title)\n",
    "    plt.colorbar()\n",
    "\n",
    "    if target_names is not None:\n",
    "        tick_marks = np.arange(len(target_names))\n",
    "        plt.xticks(tick_marks, target_names, rotation=45)\n",
    "        plt.yticks(tick_marks, target_names)\n",
    "\n",
    "    thresh = cm.max() / 1.5 if normalize else cm.max() / 2\n",
    "    for i, j in itertools.product(range(cm.shape[0]), range(cm.shape[1])):\n",
    "        if normalize:\n",
    "            plt.text(j, i, \"{:0.2f}\".format(cm[i, j]),\n",
    "                     horizontalalignment=\"center\",\n",
    "                     color=\"white\" if cm[i, j] > thresh else \"black\")\n",
    "        else:\n",
    "            plt.text(j, i, \"{:,}\".format(cm[i, j]),\n",
    "                     horizontalalignment=\"center\",\n",
    "                     color=\"white\" if cm[i, j] > thresh else \"black\")\n",
    "\n",
    "    plt.tight_layout()\n",
    "    plt.ylabel('True label',fontsize=14)\n",
    "#     plt.xlabel('Predicted label\\naccuracy={:0.4f}; misclass={:0.4f}'.format(accuracy, misclass))\n",
    "    plt.xlabel('Predicted label', fontsize=14)\n",
    "    plt.show()"
   ]
  },
  {
   "cell_type": "code",
   "execution_count": 52,
   "id": "83db2afd",
   "metadata": {},
   "outputs": [
    {
     "data": {
      "image/png": "[encoded data removed]",
      "text/plain": [
       "<Figure size 800x500 with 2 Axes>"
      ]
     },
     "metadata": {},
     "output_type": "display_data"
    }
   ],
   "source": [
    "from sklearn.metrics import confusion_matrix\n",
    "plot_confusion_matrix(cm = confusion_matrix(actual, test_pred), \n",
    "                      normalize    = True,\n",
    "                      target_names = np.unique(actual),\n",
    "                      title        = \"Confusion Matrix\")"
   ]
  },
  {
   "cell_type": "code",
   "execution_count": 53,
   "id": "5c4a0f1a",
   "metadata": {},
   "outputs": [
    {
     "name": "stdout",
     "output_type": "stream",
     "text": [
      "1032\n"
     ]
    }
   ],
   "source": [
    "model.parameters()\n",
    "print(sum(p.numel() for p in model.parameters())*4)"
   ]
  },
  {
   "cell_type": "code",
   "execution_count": 54,
   "id": "daa9ae89",
   "metadata": {},
   "outputs": [],
   "source": [
    "# torch.save(model, 'binary.pth')"
   ]
  },
  {
   "cell_type": "code",
   "execution_count": 55,
   "id": "9980160e",
   "metadata": {},
   "outputs": [
    {
     "data": {
      "text/plain": [
       "Model(\n",
       "  (gat): GATConv(\n",
       "    (fc): Linear(in_features=16, out_features=8, bias=False)\n",
       "    (feat_drop): Dropout(p=0.0, inplace=False)\n",
       "    (attn_drop): Dropout(p=0.0, inplace=False)\n",
       "    (leaky_relu): LeakyReLU(negative_slope=0.2)\n",
       "  )\n",
       "  (conv1): SAGEConv(\n",
       "    (fc): Linear(in_features=8, out_features=8, bias=True)\n",
       "    (feat_drop): Dropout(p=0.1, inplace=False)\n",
       "  )\n",
       "  (pred): MLPPredictor(\n",
       "    (W): Linear(in_features=24, out_features=2, bias=True)\n",
       "  )\n",
       ")"
      ]
     },
     "execution_count": 55,
     "metadata": {},
     "output_type": "execute_result"
    }
   ],
   "source": [
    "model"
   ]
  },
  {
   "cell_type": "code",
   "execution_count": 56,
   "id": "0b0fc933",
   "metadata": {},
   "outputs": [
    {
     "name": "stdout",
     "output_type": "stream",
     "text": [
      "模型大小（增量）： 3072 字节\n"
     ]
    }
   ],
   "source": [
    "import torch\n",
    "\n",
    "\n",
    "initial_memory = torch.cuda.memory_allocated()\n",
    "model_1 = torch.load('binary.pth')\n",
    "final_memory = torch.cuda.memory_allocated()\n",
    "model_size = final_memory - initial_memory\n",
    "print(\"模型大小（增量）：\", model_size, \"字节\")"
   ]
  }
 ],
 "metadata": {
  "kernelspec": {
   "display_name": "Python 3 (ipykernel)",
   "language": "python",
   "name": "python3"
  },
  "language_info": {
   "codemirror_mode": {
    "name": "ipython",
    "version": 3
   },
   "file_extension": ".py",
   "mimetype": "text/x-python",
   "name": "python",
   "nbconvert_exporter": "python",
   "pygments_lexer": "ipython3",
   "version": "3.10.8"
  }
 },
 "nbformat": 4,
 "nbformat_minor": 5
}
