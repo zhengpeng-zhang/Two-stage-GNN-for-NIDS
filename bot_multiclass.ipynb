{
 "cells": [
  {
   "cell_type": "code",
   "execution_count": 1,
   "id": "bbce6068",
   "metadata": {},
   "outputs": [],
   "source": [
    "import dgl\n",
    "import dgl.nn as dglnn\n",
    "from dgl import from_networkx\n",
    "import torch\n",
    "import torch.nn as nn\n",
    "import torch as th\n",
    "import torch.nn.functional as F\n",
    "import dgl.function as fn\n",
    "from dgl.data.utils import load_graphs\n",
    "import networkx as nx\n",
    "import pandas as pd\n",
    "import socket\n",
    "import struct\n",
    "import random\n",
    "from sklearn.preprocessing import LabelEncoder\n",
    "from sklearn.preprocessing import StandardScaler\n",
    "from sklearn.model_selection import train_test_split\n",
    "import seaborn as sns\n",
    "import matplotlib.pyplot as plt\n",
    "import numpy as np"
   ]
  },
  {
   "cell_type": "code",
   "execution_count": 2,
   "id": "5e2d4682",
   "metadata": {},
   "outputs": [
    {
     "name": "stderr",
     "output_type": "stream",
     "text": [
      "/tmp/ipykernel_3188/3993269919.py:1: DtypeWarning: Columns (7,9) have mixed types. Specify dtype option on import or set low_memory=False.\n",
      "  data = pd.read_csv('../../../Untitled Folder 1/bot_iot/bot.csv')\n"
     ]
    }
   ],
   "source": [
    "data = pd.read_csv('../../../Untitled Folder 1/bot_iot/bot.csv')"
   ]
  },
  {
   "cell_type": "code",
   "execution_count": 3,
   "id": "8e64a276",
   "metadata": {},
   "outputs": [],
   "source": [
    "data.drop(columns=['subcategory','pkSeqID','stime','flgs','attack','state','proto','seq','rate','srate','AR_P_Proto_P_DstIP',\n",
    "                   'bytes', 'state_number','Pkts_P_State_P_Protocol_P_SrcIP', 'spkts', 'pkts', 'dbytes', 'mean', 'TnP_PSrcIP',\n",
    "                   'max', 'TnBPSrcIP', 'min', 'drate', 'dpkts', 'flgs_number'],inplace=True)"
   ]
  },
  {
   "cell_type": "code",
   "execution_count": 4,
   "id": "5571cf5b",
   "metadata": {},
   "outputs": [],
   "source": [
    "data.rename(columns={\"category\": \"label\"},inplace = True)"
   ]
  },
  {
   "cell_type": "code",
   "execution_count": 5,
   "id": "d33a9467",
   "metadata": {},
   "outputs": [
    {
     "data": {
      "text/plain": [
       "DDoS              1926624\n",
       "DoS               1650260\n",
       "Reconnaissance      91082\n",
       "Normal                477\n",
       "Theft                  79\n",
       "Name: label, dtype: int64"
      ]
     },
     "execution_count": 5,
     "metadata": {},
     "output_type": "execute_result"
    }
   ],
   "source": [
    "data.label.value_counts()"
   ]
  },
  {
   "cell_type": "code",
   "execution_count": 6,
   "id": "04e58f5b",
   "metadata": {},
   "outputs": [],
   "source": [
    "le = LabelEncoder()\n",
    "le.fit_transform(data.label.values)\n",
    "data['label'] = le.transform(data['label'])"
   ]
  },
  {
   "cell_type": "code",
   "execution_count": 7,
   "id": "67fcfb80",
   "metadata": {},
   "outputs": [],
   "source": [
    "data['saddr'] = data.saddr.apply(str)\n",
    "data['sport'] = data.sport.apply(str)\n",
    "data['daddr'] = data.daddr.apply(str)\n",
    "data['dport'] = data.dport.apply(str)"
   ]
  },
  {
   "cell_type": "code",
   "execution_count": 8,
   "id": "52e9ec56",
   "metadata": {},
   "outputs": [],
   "source": [
    "data['saddr'] = data['saddr'] + ':' + data['sport']\n",
    "data['daddr'] = data['daddr'] + ':' + data['dport']"
   ]
  },
  {
   "cell_type": "code",
   "execution_count": 9,
   "id": "89ab6f98",
   "metadata": {},
   "outputs": [],
   "source": [
    "data.drop(columns=['sport','dport'],inplace=True)\n",
    "label_ground_truth = data[[\"saddr\", \"daddr\",\"label\"]]\n",
    "# data = pd.get_dummies(data, columns = ['flgs_number','state_number', 'proto_number'])"
   ]
  },
  {
   "cell_type": "code",
   "execution_count": 10,
   "id": "ed721798",
   "metadata": {},
   "outputs": [],
   "source": [
    "data = data.reset_index()\n",
    "data.replace([np.inf, -np.inf], np.nan,inplace = True)"
   ]
  },
  {
   "cell_type": "code",
   "execution_count": 11,
   "id": "ff459681",
   "metadata": {},
   "outputs": [],
   "source": [
    "data.fillna(0,inplace = True)"
   ]
  },
  {
   "cell_type": "code",
   "execution_count": 12,
   "id": "433ae531",
   "metadata": {},
   "outputs": [],
   "source": [
    "label_ground_truth = data[[\"saddr\", \"daddr\",\"label\"]]"
   ]
  },
  {
   "cell_type": "code",
   "execution_count": 13,
   "id": "a17d57a5",
   "metadata": {},
   "outputs": [],
   "source": [
    "data.drop(columns=['index'],inplace=True)"
   ]
  },
  {
   "cell_type": "code",
   "execution_count": 14,
   "id": "cf482003",
   "metadata": {},
   "outputs": [
    {
     "data": {
      "text/html": [
       "<div>\n",
       "<style scoped>\n",
       "    .dataframe tbody tr th:only-of-type {\n",
       "        vertical-align: middle;\n",
       "    }\n",
       "\n",
       "    .dataframe tbody tr th {\n",
       "        vertical-align: top;\n",
       "    }\n",
       "\n",
       "    .dataframe thead th {\n",
       "        text-align: right;\n",
       "    }\n",
       "</style>\n",
       "<table border=\"1\" class=\"dataframe\">\n",
       "  <thead>\n",
       "    <tr style=\"text-align: right;\">\n",
       "      <th></th>\n",
       "      <th>proto_number</th>\n",
       "      <th>saddr</th>\n",
       "      <th>daddr</th>\n",
       "      <th>ltime</th>\n",
       "      <th>dur</th>\n",
       "      <th>stddev</th>\n",
       "      <th>sum</th>\n",
       "      <th>sbytes</th>\n",
       "      <th>TnBPDstIP</th>\n",
       "      <th>TnP_PDstIP</th>\n",
       "      <th>TnP_PerProto</th>\n",
       "      <th>TnP_Per_Dport</th>\n",
       "      <th>AR_P_Proto_P_SrcIP</th>\n",
       "      <th>N_IN_Conn_P_DstIP</th>\n",
       "      <th>N_IN_Conn_P_SrcIP</th>\n",
       "      <th>AR_P_Proto_P_Sport</th>\n",
       "      <th>AR_P_Proto_P_Dport</th>\n",
       "      <th>Pkts_P_State_P_Protocol_P_DestIP</th>\n",
       "      <th>label</th>\n",
       "    </tr>\n",
       "  </thead>\n",
       "  <tbody>\n",
       "    <tr>\n",
       "      <th>0</th>\n",
       "      <td>1</td>\n",
       "      <td>192.168.100.147:49960</td>\n",
       "      <td>192.168.100.7:80</td>\n",
       "      <td>1.528089e+09</td>\n",
       "      <td>7.056393</td>\n",
       "      <td>0.068909</td>\n",
       "      <td>0.137818</td>\n",
       "      <td>650</td>\n",
       "      <td>201841</td>\n",
       "      <td>770</td>\n",
       "      <td>772</td>\n",
       "      <td>772</td>\n",
       "      <td>1.142970</td>\n",
       "      <td>96</td>\n",
       "      <td>75</td>\n",
       "      <td>1.133720</td>\n",
       "      <td>1.129970</td>\n",
       "      <td>770</td>\n",
       "      <td>1</td>\n",
       "    </tr>\n",
       "    <tr>\n",
       "      <th>1</th>\n",
       "      <td>2</td>\n",
       "      <td>192.168.100.7:-1</td>\n",
       "      <td>192.168.100.147:-1</td>\n",
       "      <td>1.528089e+09</td>\n",
       "      <td>0.000131</td>\n",
       "      <td>0.000000</td>\n",
       "      <td>0.000131</td>\n",
       "      <td>60</td>\n",
       "      <td>120</td>\n",
       "      <td>2</td>\n",
       "      <td>8</td>\n",
       "      <td>8</td>\n",
       "      <td>0.003857</td>\n",
       "      <td>1</td>\n",
       "      <td>2</td>\n",
       "      <td>0.005142</td>\n",
       "      <td>0.005142</td>\n",
       "      <td>2</td>\n",
       "      <td>1</td>\n",
       "    </tr>\n",
       "    <tr>\n",
       "      <th>2</th>\n",
       "      <td>1</td>\n",
       "      <td>192.168.100.147:49962</td>\n",
       "      <td>192.168.100.7:80</td>\n",
       "      <td>1.528089e+09</td>\n",
       "      <td>7.047852</td>\n",
       "      <td>0.064494</td>\n",
       "      <td>0.128988</td>\n",
       "      <td>796</td>\n",
       "      <td>201841</td>\n",
       "      <td>770</td>\n",
       "      <td>772</td>\n",
       "      <td>772</td>\n",
       "      <td>1.142970</td>\n",
       "      <td>96</td>\n",
       "      <td>75</td>\n",
       "      <td>1.135100</td>\n",
       "      <td>1.129970</td>\n",
       "      <td>770</td>\n",
       "      <td>1</td>\n",
       "    </tr>\n",
       "    <tr>\n",
       "      <th>3</th>\n",
       "      <td>1</td>\n",
       "      <td>192.168.100.147:49964</td>\n",
       "      <td>192.168.100.7:80</td>\n",
       "      <td>1.528089e+09</td>\n",
       "      <td>7.047592</td>\n",
       "      <td>0.064189</td>\n",
       "      <td>0.128378</td>\n",
       "      <td>694</td>\n",
       "      <td>201841</td>\n",
       "      <td>770</td>\n",
       "      <td>772</td>\n",
       "      <td>772</td>\n",
       "      <td>1.142970</td>\n",
       "      <td>96</td>\n",
       "      <td>75</td>\n",
       "      <td>1.135140</td>\n",
       "      <td>1.129970</td>\n",
       "      <td>770</td>\n",
       "      <td>1</td>\n",
       "    </tr>\n",
       "    <tr>\n",
       "      <th>4</th>\n",
       "      <td>1</td>\n",
       "      <td>192.168.100.147:49966</td>\n",
       "      <td>192.168.100.7:80</td>\n",
       "      <td>1.528089e+09</td>\n",
       "      <td>7.046841</td>\n",
       "      <td>0.063887</td>\n",
       "      <td>0.127774</td>\n",
       "      <td>989</td>\n",
       "      <td>201841</td>\n",
       "      <td>770</td>\n",
       "      <td>772</td>\n",
       "      <td>772</td>\n",
       "      <td>1.142970</td>\n",
       "      <td>96</td>\n",
       "      <td>75</td>\n",
       "      <td>1.135260</td>\n",
       "      <td>1.129970</td>\n",
       "      <td>770</td>\n",
       "      <td>1</td>\n",
       "    </tr>\n",
       "    <tr>\n",
       "      <th>...</th>\n",
       "      <td>...</td>\n",
       "      <td>...</td>\n",
       "      <td>...</td>\n",
       "      <td>...</td>\n",
       "      <td>...</td>\n",
       "      <td>...</td>\n",
       "      <td>...</td>\n",
       "      <td>...</td>\n",
       "      <td>...</td>\n",
       "      <td>...</td>\n",
       "      <td>...</td>\n",
       "      <td>...</td>\n",
       "      <td>...</td>\n",
       "      <td>...</td>\n",
       "      <td>...</td>\n",
       "      <td>...</td>\n",
       "      <td>...</td>\n",
       "      <td>...</td>\n",
       "      <td>...</td>\n",
       "    </tr>\n",
       "    <tr>\n",
       "      <th>3668517</th>\n",
       "      <td>1</td>\n",
       "      <td>192.168.100.150:35064</td>\n",
       "      <td>192.168.100.3:22</td>\n",
       "      <td>1.529381e+09</td>\n",
       "      <td>0.013165</td>\n",
       "      <td>0.000000</td>\n",
       "      <td>0.013165</td>\n",
       "      <td>228</td>\n",
       "      <td>79240</td>\n",
       "      <td>471</td>\n",
       "      <td>475</td>\n",
       "      <td>471</td>\n",
       "      <td>9.889330</td>\n",
       "      <td>19</td>\n",
       "      <td>19</td>\n",
       "      <td>455.754000</td>\n",
       "      <td>9.889330</td>\n",
       "      <td>30</td>\n",
       "      <td>4</td>\n",
       "    </tr>\n",
       "    <tr>\n",
       "      <th>3668518</th>\n",
       "      <td>1</td>\n",
       "      <td>192.168.100.150:35066</td>\n",
       "      <td>192.168.100.3:22</td>\n",
       "      <td>1.529381e+09</td>\n",
       "      <td>0.000574</td>\n",
       "      <td>0.000000</td>\n",
       "      <td>0.000574</td>\n",
       "      <td>228</td>\n",
       "      <td>79240</td>\n",
       "      <td>471</td>\n",
       "      <td>475</td>\n",
       "      <td>471</td>\n",
       "      <td>9.889330</td>\n",
       "      <td>19</td>\n",
       "      <td>19</td>\n",
       "      <td>10453.000000</td>\n",
       "      <td>9.889330</td>\n",
       "      <td>30</td>\n",
       "      <td>4</td>\n",
       "    </tr>\n",
       "    <tr>\n",
       "      <th>3668519</th>\n",
       "      <td>1</td>\n",
       "      <td>192.168.100.150:35070</td>\n",
       "      <td>192.168.100.3:22</td>\n",
       "      <td>1.529381e+09</td>\n",
       "      <td>2.874302</td>\n",
       "      <td>0.000000</td>\n",
       "      <td>2.874302</td>\n",
       "      <td>1802</td>\n",
       "      <td>79240</td>\n",
       "      <td>471</td>\n",
       "      <td>475</td>\n",
       "      <td>471</td>\n",
       "      <td>9.889330</td>\n",
       "      <td>19</td>\n",
       "      <td>19</td>\n",
       "      <td>10.785200</td>\n",
       "      <td>9.889330</td>\n",
       "      <td>441</td>\n",
       "      <td>4</td>\n",
       "    </tr>\n",
       "    <tr>\n",
       "      <th>3668520</th>\n",
       "      <td>1</td>\n",
       "      <td>192.168.100.3:43001</td>\n",
       "      <td>192.168.100.150:4433</td>\n",
       "      <td>1.529381e+09</td>\n",
       "      <td>0.000003</td>\n",
       "      <td>0.000000</td>\n",
       "      <td>0.000003</td>\n",
       "      <td>74</td>\n",
       "      <td>134</td>\n",
       "      <td>2</td>\n",
       "      <td>475</td>\n",
       "      <td>4</td>\n",
       "      <td>22346.400000</td>\n",
       "      <td>1</td>\n",
       "      <td>3</td>\n",
       "      <td>666667.000000</td>\n",
       "      <td>22346.400000</td>\n",
       "      <td>2</td>\n",
       "      <td>4</td>\n",
       "    </tr>\n",
       "    <tr>\n",
       "      <th>3668521</th>\n",
       "      <td>2</td>\n",
       "      <td>192.168.100.3:-1</td>\n",
       "      <td>192.168.100.149:-1</td>\n",
       "      <td>1.529382e+09</td>\n",
       "      <td>848.002686</td>\n",
       "      <td>0.000056</td>\n",
       "      <td>0.001160</td>\n",
       "      <td>480</td>\n",
       "      <td>1094</td>\n",
       "      <td>18</td>\n",
       "      <td>16</td>\n",
       "      <td>16</td>\n",
       "      <td>0.018868</td>\n",
       "      <td>2</td>\n",
       "      <td>3</td>\n",
       "      <td>0.018868</td>\n",
       "      <td>0.018868</td>\n",
       "      <td>16</td>\n",
       "      <td>4</td>\n",
       "    </tr>\n",
       "  </tbody>\n",
       "</table>\n",
       "<p>3668522 rows × 19 columns</p>\n",
       "</div>"
      ],
      "text/plain": [
       "         proto_number                  saddr                 daddr  \\\n",
       "0                   1  192.168.100.147:49960      192.168.100.7:80   \n",
       "1                   2       192.168.100.7:-1    192.168.100.147:-1   \n",
       "2                   1  192.168.100.147:49962      192.168.100.7:80   \n",
       "3                   1  192.168.100.147:49964      192.168.100.7:80   \n",
       "4                   1  192.168.100.147:49966      192.168.100.7:80   \n",
       "...               ...                    ...                   ...   \n",
       "3668517             1  192.168.100.150:35064      192.168.100.3:22   \n",
       "3668518             1  192.168.100.150:35066      192.168.100.3:22   \n",
       "3668519             1  192.168.100.150:35070      192.168.100.3:22   \n",
       "3668520             1    192.168.100.3:43001  192.168.100.150:4433   \n",
       "3668521             2       192.168.100.3:-1    192.168.100.149:-1   \n",
       "\n",
       "                ltime         dur    stddev       sum  sbytes  TnBPDstIP  \\\n",
       "0        1.528089e+09    7.056393  0.068909  0.137818     650     201841   \n",
       "1        1.528089e+09    0.000131  0.000000  0.000131      60        120   \n",
       "2        1.528089e+09    7.047852  0.064494  0.128988     796     201841   \n",
       "3        1.528089e+09    7.047592  0.064189  0.128378     694     201841   \n",
       "4        1.528089e+09    7.046841  0.063887  0.127774     989     201841   \n",
       "...               ...         ...       ...       ...     ...        ...   \n",
       "3668517  1.529381e+09    0.013165  0.000000  0.013165     228      79240   \n",
       "3668518  1.529381e+09    0.000574  0.000000  0.000574     228      79240   \n",
       "3668519  1.529381e+09    2.874302  0.000000  2.874302    1802      79240   \n",
       "3668520  1.529381e+09    0.000003  0.000000  0.000003      74        134   \n",
       "3668521  1.529382e+09  848.002686  0.000056  0.001160     480       1094   \n",
       "\n",
       "         TnP_PDstIP  TnP_PerProto  TnP_Per_Dport  AR_P_Proto_P_SrcIP  \\\n",
       "0               770           772            772            1.142970   \n",
       "1                 2             8              8            0.003857   \n",
       "2               770           772            772            1.142970   \n",
       "3               770           772            772            1.142970   \n",
       "4               770           772            772            1.142970   \n",
       "...             ...           ...            ...                 ...   \n",
       "3668517         471           475            471            9.889330   \n",
       "3668518         471           475            471            9.889330   \n",
       "3668519         471           475            471            9.889330   \n",
       "3668520           2           475              4        22346.400000   \n",
       "3668521          18            16             16            0.018868   \n",
       "\n",
       "         N_IN_Conn_P_DstIP  N_IN_Conn_P_SrcIP  AR_P_Proto_P_Sport  \\\n",
       "0                       96                 75            1.133720   \n",
       "1                        1                  2            0.005142   \n",
       "2                       96                 75            1.135100   \n",
       "3                       96                 75            1.135140   \n",
       "4                       96                 75            1.135260   \n",
       "...                    ...                ...                 ...   \n",
       "3668517                 19                 19          455.754000   \n",
       "3668518                 19                 19        10453.000000   \n",
       "3668519                 19                 19           10.785200   \n",
       "3668520                  1                  3       666667.000000   \n",
       "3668521                  2                  3            0.018868   \n",
       "\n",
       "         AR_P_Proto_P_Dport  Pkts_P_State_P_Protocol_P_DestIP  label  \n",
       "0                  1.129970                               770      1  \n",
       "1                  0.005142                                 2      1  \n",
       "2                  1.129970                               770      1  \n",
       "3                  1.129970                               770      1  \n",
       "4                  1.129970                               770      1  \n",
       "...                     ...                               ...    ...  \n",
       "3668517            9.889330                                30      4  \n",
       "3668518            9.889330                                30      4  \n",
       "3668519            9.889330                               441      4  \n",
       "3668520        22346.400000                                 2      4  \n",
       "3668521            0.018868                                16      4  \n",
       "\n",
       "[3668522 rows x 19 columns]"
      ]
     },
     "execution_count": 14,
     "metadata": {},
     "output_type": "execute_result"
    }
   ],
   "source": [
    "data"
   ]
  },
  {
   "cell_type": "code",
   "execution_count": 15,
   "id": "8254a540",
   "metadata": {},
   "outputs": [],
   "source": [
    "scaler = StandardScaler()\n",
    "cols_to_norm = list(set(list(data.iloc[:, 0:].columns ))  - set(list(['label','saddr','daddr'])) )\n",
    "data[cols_to_norm] = scaler.fit_transform(data[cols_to_norm])"
   ]
  },
  {
   "cell_type": "code",
   "execution_count": 16,
   "id": "9d1077b9",
   "metadata": {},
   "outputs": [],
   "source": [
    "X_train, X_test, y_train, y_test = train_test_split(\n",
    "     data, label_ground_truth, test_size=0.3, random_state=123, stratify=label_ground_truth.label)"
   ]
  },
  {
   "cell_type": "code",
   "execution_count": 17,
   "id": "7fe94c49",
   "metadata": {},
   "outputs": [],
   "source": [
    "X_train['h'] = X_train[cols_to_norm].values.tolist()"
   ]
  },
  {
   "cell_type": "code",
   "execution_count": 18,
   "id": "a2e18d0a",
   "metadata": {},
   "outputs": [],
   "source": [
    "G = nx.from_pandas_edgelist(X_train, \"daddr\", \"saddr\",  ['h','label'],create_using=nx.MultiDiGraph)"
   ]
  },
  {
   "cell_type": "code",
   "execution_count": 19,
   "id": "243b162a",
   "metadata": {},
   "outputs": [
    {
     "data": {
      "text/plain": [
       "2567965"
      ]
     },
     "execution_count": 19,
     "metadata": {},
     "output_type": "execute_result"
    }
   ],
   "source": [
    "G.number_of_edges()"
   ]
  },
  {
   "cell_type": "code",
   "execution_count": 20,
   "id": "c57829fc",
   "metadata": {},
   "outputs": [],
   "source": [
    "G1 = nx.from_pandas_edgelist(X_train, \"daddr\", \"saddr\",create_using=nx.MultiGraph)"
   ]
  },
  {
   "cell_type": "code",
   "execution_count": 21,
   "id": "4be730fd",
   "metadata": {},
   "outputs": [
    {
     "data": {
      "text/plain": [
       "2567965"
      ]
     },
     "execution_count": 21,
     "metadata": {},
     "output_type": "execute_result"
    }
   ],
   "source": [
    "G1.number_of_edges()"
   ]
  },
  {
   "cell_type": "code",
   "execution_count": 22,
   "id": "7ce96131",
   "metadata": {},
   "outputs": [],
   "source": [
    "G1 = G1.to_directed()"
   ]
  },
  {
   "cell_type": "code",
   "execution_count": 23,
   "id": "6e95b662",
   "metadata": {},
   "outputs": [],
   "source": [
    "G = from_networkx(G,edge_attrs=['h','label'] )"
   ]
  },
  {
   "cell_type": "code",
   "execution_count": 24,
   "id": "93f07ada",
   "metadata": {},
   "outputs": [],
   "source": [
    "G1 = from_networkx(G1)"
   ]
  },
  {
   "cell_type": "code",
   "execution_count": 25,
   "id": "45529e06",
   "metadata": {},
   "outputs": [],
   "source": [
    "G1 = dgl.add_self_loop(G1)"
   ]
  },
  {
   "cell_type": "code",
   "execution_count": 26,
   "id": "b72e45cb",
   "metadata": {},
   "outputs": [],
   "source": [
    "G.edata['train_mask'] = th.ones(len(G.edata['h']), dtype=th.bool)"
   ]
  },
  {
   "cell_type": "code",
   "execution_count": 27,
   "id": "b508c6ae",
   "metadata": {},
   "outputs": [
    {
     "data": {
      "text/plain": [
       "Graph(num_nodes=272559, num_edges=2567965,\n",
       "      ndata_schemes={}\n",
       "      edata_schemes={'h': Scheme(shape=(16,), dtype=torch.float32), 'label': Scheme(shape=(), dtype=torch.int64), 'train_mask': Scheme(shape=(), dtype=torch.bool)})"
      ]
     },
     "execution_count": 27,
     "metadata": {},
     "output_type": "execute_result"
    }
   ],
   "source": [
    "G"
   ]
  },
  {
   "cell_type": "code",
   "execution_count": 28,
   "id": "262f60cc",
   "metadata": {},
   "outputs": [
    {
     "data": {
      "text/plain": [
       "Graph(num_nodes=272559, num_edges=5408489,\n",
       "      ndata_schemes={}\n",
       "      edata_schemes={})"
      ]
     },
     "execution_count": 28,
     "metadata": {},
     "output_type": "execute_result"
    }
   ],
   "source": [
    "G1"
   ]
  },
  {
   "cell_type": "code",
   "execution_count": 29,
   "id": "b4f371d5",
   "metadata": {},
   "outputs": [],
   "source": [
    "def compute_accuracy(pred, labels):\n",
    "    return (pred.argmax(1) == labels).float().mean().item()"
   ]
  },
  {
   "cell_type": "code",
   "execution_count": 30,
   "id": "51ca4453",
   "metadata": {},
   "outputs": [],
   "source": [
    "from dgl.utils import expand_as_pair\n",
    "from dgl.nn.functional import edge_softmax\n",
    "class GATConv(nn.Module):\n",
    "    def __init__(\n",
    "        self,\n",
    "        in_feats,\n",
    "        out_feats,\n",
    "        feat_drop=0.0,\n",
    "        attn_drop=0.0,\n",
    "        negative_slope=0.2,\n",
    "    ):\n",
    "        super(GATConv, self).__init__()\n",
    "        self._in_src_feats, self._in_dst_feats = expand_as_pair(in_feats)\n",
    "        self._out_feats = out_feats\n",
    "        \n",
    "        self.fc = nn.Linear(\n",
    "            self._in_src_feats, out_feats, bias=False\n",
    "        )\n",
    "        \n",
    "        self.attn = nn.Parameter(\n",
    "            th.FloatTensor(size=(1, out_feats))\n",
    "        )\n",
    "\n",
    "        self.feat_drop = nn.Dropout(feat_drop)\n",
    "        self.attn_drop = nn.Dropout(attn_drop)\n",
    "        self.leaky_relu = nn.LeakyReLU(negative_slope)\n",
    "\n",
    "        \n",
    "        self.reset_parameters()\n",
    "       \n",
    "    \n",
    "    def reset_parameters(self):\n",
    "        gain = nn.init.calculate_gain('relu')\n",
    "        \n",
    "        nn.init.xavier_normal_(self.fc.weight, gain=gain)\n",
    "\n",
    "        nn.init.xavier_normal_(self.attn, gain=gain)\n",
    "\n",
    "    \n",
    "    def message_func(self, edges):\n",
    "        return {'m': edges.data['a'] * edges.data['ft']}\n",
    "    \n",
    "    def forward(self, graph, efeat):\n",
    "        with graph.local_scope(): \n",
    "            efeat = self.feat_drop(efeat)\n",
    "            efeat = self.fc(efeat)\n",
    "            graph.edata['ft'] = efeat\n",
    "            e = (efeat * self.attn).sum(dim=-1).unsqueeze(-1)\n",
    "            graph.edata['e']= e         \n",
    "            e = self.leaky_relu(graph.edata.pop('e'))\n",
    "            graph.edata['a'] = self.attn_drop(edge_softmax(graph, e))\n",
    "            # message passing\n",
    "            graph.update_all(self.message_func, fn.sum('m', 'ft'))\n",
    "            rst = graph.ndata['ft']\n",
    "            return rst,efeat"
   ]
  },
  {
   "cell_type": "code",
   "execution_count": 31,
   "id": "932a0c7b",
   "metadata": {},
   "outputs": [],
   "source": [
    "class MLPPredictor(nn.Module):\n",
    "    def __init__(self, in_features, out_classes):\n",
    "        super().__init__()\n",
    "        self.W = nn.Linear(in_features * 3, out_classes)\n",
    "\n",
    "    def apply_edges(self, edges):\n",
    "        h_u = edges.src['h']\n",
    "        h_v = edges.dst['h']\n",
    "        h_e = edges.data['e']\n",
    "        score = self.W(th.cat([h_u, h_v, h_e], 1))\n",
    "        return {'score': score}\n",
    "\n",
    "    def forward(self, graph, h, e):\n",
    "        with graph.local_scope():\n",
    "            graph.ndata['h'] = h\n",
    "            graph.edata['e'] = e\n",
    "            graph.apply_edges(self.apply_edges)\n",
    "            return graph.edata['score']"
   ]
  },
  {
   "cell_type": "code",
   "execution_count": 32,
   "id": "d490b863",
   "metadata": {},
   "outputs": [],
   "source": [
    "class SAGEConv(nn.Module):\n",
    "   \n",
    "    def __init__(\n",
    "        self,\n",
    "        in_feats,\n",
    "        out_feats,\n",
    "        k=2,\n",
    "        feat_drop=0.2,\n",
    "        cached=False,\n",
    "        bias=True,\n",
    "    ):\n",
    "        super(SAGEConv, self).__init__()\n",
    "        self.fc = nn.Linear(in_feats, out_feats, bias=bias)\n",
    "        self._k = k\n",
    "        self.feat_drop = nn.Dropout(feat_drop)\n",
    "        self.reset_parameters()\n",
    "\n",
    "\n",
    "    def reset_parameters(self):\n",
    "        nn.init.xavier_uniform_(self.fc.weight)\n",
    "        if self.fc.bias is not None:\n",
    "            nn.init.zeros_(self.fc.bias)\n",
    "        \n",
    "    def forward(self, graph, feat, edge_weight=None):\n",
    "        with graph.local_scope():\n",
    "          \n",
    "            msg_fn = fn.copy_u(\"h\", \"m\")\n",
    "            \n",
    "            for _ in range(self._k):\n",
    "                h_self = self.feat_drop(feat)\n",
    "                graph.ndata[\"h\"] = h_self\n",
    "                graph.update_all(msg_fn, fn.mean(\"m\", \"neigh\"))\n",
    "#                 feat = self.feat_drop(graph.ndata.pop(\"neigh\"))\n",
    "                h_neigh = graph.ndata.pop(\"neigh\")\n",
    "                feat = h_neigh\n",
    "            return self.fc(feat)"
   ]
  },
  {
   "cell_type": "code",
   "execution_count": 33,
   "id": "cc5de6af",
   "metadata": {},
   "outputs": [],
   "source": [
    "class Model(nn.Module):\n",
    "    def __init__(self, edim_in, edim_out, ndim_out):\n",
    "        super().__init__()\n",
    "        self.gat = GATConv(edim_in, ndim_out)\n",
    "        self.conv1 = SAGEConv(ndim_out, edim_out, k=2)\n",
    "        self.pred = MLPPredictor(edim_out, 5)\n",
    "    def forward(self, g, g1, efeats):\n",
    "        h,e = self.gat(g, efeats)\n",
    "        h = F.relu(h)\n",
    "        h = self.conv1(g1, h)\n",
    "        return self.pred(g, h, e)"
   ]
  },
  {
   "cell_type": "code",
   "execution_count": 35,
   "id": "a72acb01",
   "metadata": {},
   "outputs": [],
   "source": [
    "criterion = nn.CrossEntropyLoss()"
   ]
  },
  {
   "cell_type": "code",
   "execution_count": 36,
   "id": "d2804d1c",
   "metadata": {},
   "outputs": [],
   "source": [
    "G = G.to('cuda:0')\n",
    "G1 = G1.to('cuda:0')"
   ]
  },
  {
   "cell_type": "code",
   "execution_count": 37,
   "id": "58996abc",
   "metadata": {
    "scrolled": false
   },
   "outputs": [
    {
     "name": "stdout",
     "output_type": "stream",
     "text": [
      "epoc:100 Training acc:0.5865971446037292 loss:1.4381952285766602\n",
      "epoc:200 Training acc:0.7628386616706848 loss:0.7279762625694275\n",
      "epoc:300 Training acc:0.8780707716941833 loss:0.385198712348938\n",
      "epoc:400 Training acc:0.8912485241889954 loss:0.33372199535369873\n",
      "epoc:500 Training acc:0.910602331161499 loss:0.3080088794231415\n",
      "epoc:600 Training acc:0.9163469672203064 loss:0.2915481925010681\n",
      "epoc:700 Training acc:0.9194969534873962 loss:0.2760699987411499\n",
      "epoc:800 Training acc:0.9250959157943726 loss:0.27278855443000793\n",
      "epoc:900 Training acc:0.9105346202850342 loss:0.30420631170272827\n",
      "epoc:1000 Training acc:0.9299597144126892 loss:0.2611791491508484\n",
      "epoc:1100 Training acc:0.9308506846427917 loss:0.25459977984428406\n",
      "epoc:1200 Training acc:0.9161051511764526 loss:0.2609000504016876\n",
      "epoc:1300 Training acc:0.9322498440742493 loss:0.2493111938238144\n",
      "epoc:1400 Training acc:0.9344983100891113 loss:0.23955179750919342\n",
      "epoc:1500 Training acc:0.9276820421218872 loss:0.24328023195266724\n",
      "epoc:1600 Training acc:0.9371662139892578 loss:0.23518328368663788\n",
      "epoc:1700 Training acc:0.9328343272209167 loss:0.23386847972869873\n",
      "epoc:1800 Training acc:0.9305866360664368 loss:0.24021586775779724\n",
      "epoc:1900 Training acc:0.939618706703186 loss:0.23269391059875488\n",
      "epoc:2000 Training acc:0.9287431836128235 loss:0.22146999835968018\n",
      "epoc:2100 Training acc:0.9268140196800232 loss:0.22440071403980255\n",
      "epoc:2200 Training acc:0.9395552277565002 loss:0.20900659263134003\n",
      "epoc:2300 Training acc:0.948502779006958 loss:0.2033180147409439\n",
      "epoc:2400 Training acc:0.9511106610298157 loss:0.1912165731191635\n",
      "epoc:2500 Training acc:0.9507166147232056 loss:0.18588121235370636\n",
      "epoc:2600 Training acc:0.9523073434829712 loss:0.1786791980266571\n",
      "epoc:2700 Training acc:0.9461943507194519 loss:0.1827736347913742\n",
      "epoc:2800 Training acc:0.9490830302238464 loss:0.17474177479743958\n",
      "epoc:2900 Training acc:0.9544884562492371 loss:0.16471035778522491\n",
      "epoc:3000 Training acc:0.9552501440048218 loss:0.15883606672286987\n",
      "epoc:3100 Training acc:0.9564133286476135 loss:0.15491802990436554\n",
      "epoc:3200 Training acc:0.9566614031791687 loss:0.1496853083372116\n",
      "epoc:3300 Training acc:0.9548490643501282 loss:0.15750078856945038\n",
      "epoc:3400 Training acc:0.9521803855895996 loss:0.1550392210483551\n",
      "epoc:3500 Training acc:0.9362082481384277 loss:0.1792360544204712\n",
      "epoc:3600 Training acc:0.9598721265792847 loss:0.13489916920661926\n",
      "epoc:3700 Training acc:0.960419237613678 loss:0.1280343383550644\n",
      "epoc:3800 Training acc:0.9609048366546631 loss:0.13027535378932953\n",
      "epoc:3900 Training acc:0.9650657176971436 loss:0.11733338981866837\n",
      "epoc:4000 Training acc:0.9516617059707642 loss:0.12936213612556458\n",
      "epoc:4100 Training acc:0.9656957983970642 loss:0.11118457466363907\n",
      "epoc:4200 Training acc:0.965901792049408 loss:0.11542698740959167\n",
      "epoc:4300 Training acc:0.979665994644165 loss:0.10439169406890869\n",
      "epoc:4400 Training acc:0.9831041097640991 loss:0.10266795754432678\n",
      "epoc:4500 Training acc:0.9844043850898743 loss:0.09568963199853897\n",
      "epoc:4600 Training acc:0.9834954738616943 loss:0.09352020174264908\n",
      "epoc:4700 Training acc:0.9841399788856506 loss:0.0936051458120346\n",
      "epoc:4800 Training acc:0.9878522157669067 loss:0.08492211252450943\n",
      "epoc:4900 Training acc:0.9902735948562622 loss:0.08316824585199356\n",
      "epoc:5000 Training acc:0.9872883558273315 loss:0.08139107376337051\n",
      "epoc:5100 Training acc:0.9914730191230774 loss:0.07646503299474716\n",
      "epoc:5200 Training acc:0.9924333095550537 loss:0.07609587907791138\n",
      "epoc:5300 Training acc:0.9923713803291321 loss:0.06981798261404037\n",
      "epoc:5400 Training acc:0.9933710098266602 loss:0.06793259084224701\n",
      "epoc:5500 Training acc:0.9956381916999817 loss:0.06860814243555069\n",
      "epoc:5600 Training acc:0.9931225776672363 loss:0.06444969028234482\n",
      "epoc:5700 Training acc:0.9966331124305725 loss:0.0701068714261055\n",
      "epoc:5800 Training acc:0.9951732158660889 loss:0.0578705258667469\n",
      "epoc:5900 Training acc:0.9955143332481384 loss:0.05638979375362396\n",
      "epoc:6000 Training acc:0.9953402876853943 loss:0.06280115991830826\n",
      "epoc:6100 Training acc:0.9981343150138855 loss:0.05202056095004082\n",
      "epoc:6200 Training acc:0.9988582134246826 loss:0.04969390109181404\n",
      "epoc:6300 Training acc:0.9990798234939575 loss:0.049135997891426086\n",
      "epoc:6400 Training acc:0.9971323609352112 loss:0.047256361693143845\n",
      "epoc:6500 Training acc:0.9991101622581482 loss:0.04495862498879433\n",
      "epoc:6600 Training acc:0.9992441534996033 loss:0.044333625584840775\n",
      "epoc:6700 Training acc:0.9992538690567017 loss:0.04187893867492676\n",
      "epoc:6800 Training acc:0.9992861747741699 loss:0.04100105166435242\n",
      "epoc:6900 Training acc:0.9992787837982178 loss:0.039415787905454636\n",
      "epoc:7000 Training acc:0.9992865920066833 loss:0.036947738379240036\n",
      "epoc:7100 Training acc:0.9991759657859802 loss:0.03640123829245567\n",
      "epoc:7200 Training acc:0.9992994070053101 loss:0.03532708063721657\n",
      "epoc:7300 Training acc:0.9992943406105042 loss:0.03432508930563927\n",
      "epoc:7400 Training acc:0.9992912411689758 loss:0.032849375158548355\n",
      "epoc:7500 Training acc:0.9992908835411072 loss:0.03264053538441658\n",
      "epoc:7600 Training acc:0.9992846250534058 loss:0.0309976227581501\n",
      "epoc:7700 Training acc:0.9992939829826355 loss:0.030250420793890953\n",
      "epoc:7800 Training acc:0.9993076324462891 loss:0.030235543847084045\n",
      "epoc:7900 Training acc:0.9993013739585876 loss:0.028101516887545586\n",
      "epoc:8000 Training acc:0.9993219971656799 loss:0.029269622638821602\n",
      "epoc:8100 Training acc:0.9993235468864441 loss:0.026699019595980644\n",
      "epoc:8200 Training acc:0.9993161559104919 loss:0.026355989277362823\n",
      "epoc:8300 Training acc:0.9993161559104919 loss:0.025442596524953842\n",
      "epoc:8400 Training acc:0.9993247389793396 loss:0.02408493123948574\n",
      "epoc:8500 Training acc:0.9993317723274231 loss:0.02462914027273655\n",
      "epoc:8600 Training acc:0.9993259310722351 loss:0.022895799949765205\n",
      "epoc:8700 Training acc:0.9993383884429932 loss:0.022940142080187798\n",
      "epoc:8800 Training acc:0.999354362487793 loss:0.026034744456410408\n",
      "epoc:8900 Training acc:0.9993438124656677 loss:0.021161802113056183\n",
      "epoc:9000 Training acc:0.999370276927948 loss:0.02041183039546013\n",
      "epoc:9100 Training acc:0.9993430376052856 loss:0.026313163340091705\n",
      "epoc:9200 Training acc:0.9993839263916016 loss:0.019788270816206932\n",
      "epoc:9300 Training acc:0.9993862509727478 loss:0.01956649124622345\n",
      "epoc:9400 Training acc:0.9993975758552551 loss:0.018513251096010208\n",
      "epoc:9500 Training acc:0.9993983507156372 loss:0.017975298687815666\n",
      "epoc:9600 Training acc:0.9994166493415833 loss:0.018351014703512192\n",
      "epoc:9700 Training acc:0.9994065165519714 loss:0.01791803166270256\n",
      "epoc:9800 Training acc:0.9994349479675293 loss:0.017427152022719383\n",
      "epoc:9900 Training acc:0.9994454383850098 loss:0.016263378784060478\n",
      "epoc:10000 Training acc:0.9994458556175232 loss:0.016201404854655266\n",
      "epoc:10100 Training acc:0.9994653463363647 loss:0.017299281433224678\n",
      "epoc:10200 Training acc:0.9994789361953735 loss:0.015141144394874573\n",
      "epoc:10300 Training acc:0.9995070099830627 loss:0.014411341398954391\n",
      "epoc:10400 Training acc:0.9994961023330688 loss:0.015379228629171848\n",
      "epoc:10500 Training acc:0.9994953274726868 loss:0.013728229328989983\n",
      "epoc:10600 Training acc:0.9995108842849731 loss:0.014232663437724113\n",
      "epoc:10700 Training acc:0.9995124340057373 loss:0.01293981820344925\n",
      "epoc:10800 Training acc:0.9995322823524475 loss:0.012342279776930809\n",
      "epoc:10900 Training acc:0.9995346069335938 loss:0.012360943481326103\n",
      "epoc:11000 Training acc:0.9995540976524353 loss:0.011775716207921505\n",
      "epoc:11100 Training acc:0.999557614326477 loss:0.011300942860543728\n",
      "epoc:11200 Training acc:0.9995603561401367 loss:0.011302392929792404\n",
      "epoc:11300 Training acc:0.999568521976471 loss:0.010563020594418049\n",
      "epoc:11400 Training acc:0.9995696544647217 loss:0.010087094269692898\n",
      "epoc:11500 Training acc:0.9996199011802673 loss:0.009695990011096\n",
      "epoc:11600 Training acc:0.9995977282524109 loss:0.009139242582023144\n",
      "epoc:11700 Training acc:0.9995864033699036 loss:0.009847769513726234\n",
      "epoc:11800 Training acc:0.9996097683906555 loss:0.008577569387853146\n",
      "epoc:11900 Training acc:0.9996086359024048 loss:0.007932051084935665\n",
      "程序执行时间为：887.5200011730194 秒\n"
     ]
    }
   ],
   "source": [
    "import time\n",
    "start_time = time.time()\n",
    "\n",
    "edge_features = G.edata['h']\n",
    "\n",
    "edge_label = G.edata['label']\n",
    "train_mask = G.edata['train_mask']\n",
    "\n",
    "model = Model(G.edata['h'].shape[1], 8, 8).cuda()\n",
    "opt = th.optim.Adam(model.parameters())\n",
    "\n",
    "for epoch in range(1,12000):\n",
    "    pred = model(G, G1, edge_features).cuda()\n",
    "    loss = criterion(pred[train_mask] ,edge_label[train_mask])\n",
    "    opt.zero_grad()\n",
    "    loss.backward()\n",
    "    opt.step()\n",
    "    if epoch % 100 == 0:\n",
    "        print('epoc:{} Training acc:{} loss:{}'.format(epoch, compute_accuracy(pred[train_mask], edge_label[train_mask]), loss))\n",
    "        \n",
    "end_time = time.time()\n",
    "execution_time = end_time - start_time\n",
    "print(f\"程序执行时间为：{execution_time} 秒\")"
   ]
  },
  {
   "cell_type": "code",
   "execution_count": 38,
   "id": "d9103c49",
   "metadata": {},
   "outputs": [],
   "source": [
    "X_test['h'] = X_test[ cols_to_norm ].values.tolist()"
   ]
  },
  {
   "cell_type": "code",
   "execution_count": 39,
   "id": "79ca777c",
   "metadata": {},
   "outputs": [],
   "source": [
    "G_test = nx.from_pandas_edgelist(X_test, \"daddr\", \"saddr\", ['h','label'],create_using=nx.MultiDiGraph)\n",
    "G1_test = nx.from_pandas_edgelist(X_test, \"daddr\", \"saddr\",create_using=nx.MultiGraph)\n",
    "G1_test = G1_test.to_directed()\n",
    "G_test = from_networkx(G_test, edge_attrs=['h','label'])\n",
    "G1_test = from_networkx(G1_test)\n",
    "G1_test = dgl.add_self_loop(G1_test)\n",
    "actual = G_test.edata.pop('label')"
   ]
  },
  {
   "cell_type": "code",
   "execution_count": 40,
   "id": "cbccd12a",
   "metadata": {},
   "outputs": [],
   "source": [
    "G_test = G_test.to('cuda:0')\n",
    "G1_test = G1_test.to('cuda:0')"
   ]
  },
  {
   "cell_type": "code",
   "execution_count": 41,
   "id": "e7da04f1",
   "metadata": {},
   "outputs": [],
   "source": [
    "th.cuda.empty_cache()"
   ]
  },
  {
   "cell_type": "code",
   "execution_count": 42,
   "id": "cc106bf8",
   "metadata": {},
   "outputs": [],
   "source": [
    "import timeit\n",
    "\n",
    "edge_features_test = G_test.edata['h']\n",
    "\n",
    "torch.cuda.synchronize()\n",
    "start_time = timeit.default_timer()\n",
    "\n",
    "with torch.no_grad():\n",
    "    test_pred =model(G_test, G1_test, edge_features_test).cuda()\n",
    "\n",
    "torch.cuda.synchronize()\n",
    "elapsed = timeit.default_timer() - start_time"
   ]
  },
  {
   "cell_type": "code",
   "execution_count": 43,
   "id": "9955b4dd",
   "metadata": {},
   "outputs": [
    {
     "name": "stdout",
     "output_type": "stream",
     "text": [
      "0.003116206000413513 seconds\n"
     ]
    }
   ],
   "source": [
    "print(str(elapsed) + ' seconds')"
   ]
  },
  {
   "cell_type": "code",
   "execution_count": 44,
   "id": "e1f38635",
   "metadata": {},
   "outputs": [
    {
     "name": "stdout",
     "output_type": "stream",
     "text": [
      "2.831480786922906e-09\n"
     ]
    }
   ],
   "source": [
    "print(elapsed/len(X_test))"
   ]
  },
  {
   "cell_type": "code",
   "execution_count": 45,
   "id": "76a17022",
   "metadata": {},
   "outputs": [],
   "source": [
    "test_pred = test_pred.argmax(1)"
   ]
  },
  {
   "cell_type": "code",
   "execution_count": 46,
   "id": "4875bea8",
   "metadata": {},
   "outputs": [],
   "source": [
    "test_pred = th.Tensor.cpu(test_pred).detach().numpy()"
   ]
  },
  {
   "cell_type": "code",
   "execution_count": 47,
   "id": "bb6f13dc",
   "metadata": {},
   "outputs": [],
   "source": [
    "edge_label = le.inverse_transform(actual)\n",
    "test_pred = le.inverse_transform(test_pred)"
   ]
  },
  {
   "cell_type": "code",
   "execution_count": 48,
   "id": "25250756",
   "metadata": {},
   "outputs": [],
   "source": [
    "def plot_confusion_matrix(cm,\n",
    "                          target_names,\n",
    "                          title='Confusion matrix',\n",
    "                          cmap=None,\n",
    "                          normalize=True):\n",
    "    \n",
    "    import matplotlib.pyplot as plt\n",
    "    import numpy as np\n",
    "    import itertools\n",
    "\n",
    "    accuracy = np.trace(cm) / float(np.sum(cm))\n",
    "    misclass = 1 - accuracy\n",
    "\n",
    "    if cmap is None:\n",
    "        cmap = plt.get_cmap('Blues')\n",
    "\n",
    "    plt.figure(figsize=(12, 12))\n",
    "    plt.imshow(cm, interpolation='nearest', cmap=cmap)\n",
    "    plt.title(title)\n",
    "    plt.colorbar()\n",
    "\n",
    "    if target_names is not None:\n",
    "        tick_marks = np.arange(len(target_names))\n",
    "        plt.xticks(tick_marks, target_names, rotation=45)\n",
    "        plt.yticks(tick_marks, target_names)\n",
    "\n",
    "    if normalize:\n",
    "        cm = cm.astype('float') / cm.sum(axis=1)[:, np.newaxis]\n",
    "\n",
    "\n",
    "    thresh = cm.max() / 1.5 if normalize else cm.max() / 2\n",
    "    for i, j in itertools.product(range(cm.shape[0]), range(cm.shape[1])):\n",
    "        if normalize:\n",
    "            plt.text(j, i, \"{:0.4f}\".format(cm[i, j]),\n",
    "                     horizontalalignment=\"center\",\n",
    "                     color=\"white\" if cm[i, j] > thresh else \"black\")\n",
    "        else:\n",
    "            plt.text(j, i, \"{:,}\".format(cm[i, j]),\n",
    "                     horizontalalignment=\"center\",\n",
    "                     color=\"white\" if cm[i, j] > thresh else \"black\")\n",
    "\n",
    "\n",
    "    plt.tight_layout()\n",
    "    plt.ylabel('True label')\n",
    "    plt.xlabel('Predicted label\\naccuracy={:0.4f}; misclass={:0.4f}'.format(accuracy, misclass))\n",
    "    plt.show()"
   ]
  },
  {
   "cell_type": "code",
   "execution_count": 49,
   "id": "55795797",
   "metadata": {},
   "outputs": [
    {
     "data": {
      "image/png": "[encoded data removed]",
      "text/plain": [
       "<Figure size 1200x1200 with 2 Axes>"
      ]
     },
     "metadata": {},
     "output_type": "display_data"
    }
   ],
   "source": [
    "from sklearn.metrics import confusion_matrix\n",
    "\n",
    "plot_confusion_matrix(cm = confusion_matrix(edge_label, test_pred), \n",
    "                      normalize    = False,\n",
    "                      target_names = np.unique(edge_label),\n",
    "                      title        = \"Confusion Matrix\")"
   ]
  },
  {
   "cell_type": "code",
   "execution_count": 50,
   "id": "3ff5a1b0",
   "metadata": {},
   "outputs": [],
   "source": [
    "def plot_confusion_matrix(cm,\n",
    "                          target_names,\n",
    "                          title='Confusion matrix',\n",
    "                          cmap=None,\n",
    "                          normalize=True,\n",
    "                          title_fontsize=14):\n",
    "    \n",
    "    import matplotlib.pyplot as plt\n",
    "    import numpy as np\n",
    "    import itertools\n",
    "\n",
    "    accuracy = np.trace(cm) / float(np.sum(cm))\n",
    "    misclass = 1 - accuracy\n",
    "\n",
    "    if cmap is None:\n",
    "        cmap = plt.get_cmap('Blues')\n",
    "\n",
    "    plt.figure(figsize=(8, 5))\n",
    "    if normalize:\n",
    "        cm = cm.astype('float') / cm.sum(axis=1)[:, np.newaxis]\n",
    "\n",
    "    plt.imshow(cm, interpolation='nearest', cmap=cmap, vmin=0, vmax=1)\n",
    "    plt.title(title)\n",
    "    plt.colorbar()\n",
    "\n",
    "    if target_names is not None:\n",
    "        tick_marks = np.arange(len(target_names))\n",
    "        plt.xticks(tick_marks, target_names, rotation=45)\n",
    "        plt.yticks(tick_marks, target_names)\n",
    "\n",
    "    thresh = cm.max() / 1.5 if normalize else cm.max() / 2\n",
    "    for i, j in itertools.product(range(cm.shape[0]), range(cm.shape[1])):\n",
    "        if normalize:\n",
    "            plt.text(j, i, \"{:0.2f}\".format(cm[i, j]),\n",
    "                     horizontalalignment=\"center\",\n",
    "                     color=\"white\" if cm[i, j] > thresh else \"black\")\n",
    "        else:\n",
    "            plt.text(j, i, \"{:,}\".format(cm[i, j]),\n",
    "                     horizontalalignment=\"center\",\n",
    "                     color=\"white\" if cm[i, j] > thresh else \"black\")\n",
    "\n",
    "    plt.tight_layout()\n",
    "    plt.ylabel('True label',fontsize=14)\n",
    "#     plt.xlabel('Predicted label\\naccuracy={:0.4f}; misclass={:0.4f}'.format(accuracy, misclass))\n",
    "    plt.xlabel('Predicted label', fontsize=14)\n",
    "    plt.show()"
   ]
  },
  {
   "cell_type": "code",
   "execution_count": 51,
   "id": "e0ebb3a1",
   "metadata": {},
   "outputs": [
    {
     "data": {
      "image/png": "[encoded data removed]",
      "text/plain": [
       "<Figure size 800x500 with 2 Axes>"
      ]
     },
     "metadata": {},
     "output_type": "display_data"
    }
   ],
   "source": [
    "from sklearn.metrics import confusion_matrix\n",
    "\n",
    "plot_confusion_matrix(cm = confusion_matrix(edge_label, test_pred), \n",
    "                      normalize    = True,\n",
    "                      target_names = np.unique(edge_label),\n",
    "                      title        = \"Confusion Matrix\")"
   ]
  },
  {
   "cell_type": "code",
   "execution_count": 52,
   "id": "6c76ea56",
   "metadata": {},
   "outputs": [
    {
     "name": "stdout",
     "output_type": "stream",
     "text": [
      "                precision    recall  f1-score   support\n",
      "\n",
      "          DDoS     0.9990    0.9998    0.9994    577987\n",
      "           DoS     0.9998    0.9988    0.9993    495078\n",
      "        Normal     0.9254    0.8671    0.8953       143\n",
      "Reconnaissance     0.9994    0.9997    0.9995     27325\n",
      "         Theft     0.7273    1.0000    0.8421        24\n",
      "\n",
      "      accuracy                         0.9993   1100557\n",
      "     macro avg     0.9302    0.9731    0.9471   1100557\n",
      "  weighted avg     0.9993    0.9993    0.9993   1100557\n",
      "\n"
     ]
    }
   ],
   "source": [
    "from sklearn.metrics import classification_report\n",
    "target_names = np.unique(edge_label)\n",
    "print(classification_report(edge_label, test_pred, target_names=target_names, digits=4))"
   ]
  },
  {
   "cell_type": "code",
   "execution_count": 53,
   "id": "c4fb2667",
   "metadata": {},
   "outputs": [
    {
     "name": "stdout",
     "output_type": "stream",
     "text": [
      "class 0 acc 0.9998304460134917\n",
      "class 1 acc 0.9988042288285887\n",
      "class 2 acc 0.8671328671328671\n",
      "class 3 acc 0.9996706312900274\n",
      "class 4 acc 1.0\n"
     ]
    }
   ],
   "source": [
    "cm = confusion_matrix(edge_label, test_pred)\n",
    "class_acc = {}\n",
    "for i in range(len(cm)):\n",
    "    class_ac = cm[i,i]/cm[i,:].sum()\n",
    "    class_acc[i] = class_ac\n",
    "    \n",
    "for class_label, acc in class_acc.items():\n",
    "    print(f\"class {class_label} acc\", acc)"
   ]
  },
  {
   "cell_type": "code",
   "execution_count": 54,
   "id": "0f5a2f75",
   "metadata": {},
   "outputs": [
    {
     "name": "stdout",
     "output_type": "stream",
     "text": [
      "1332\n"
     ]
    }
   ],
   "source": [
    "model.parameters()\n",
    "print(sum(p.numel() for p in model.parameters())*4)"
   ]
  },
  {
   "cell_type": "code",
   "execution_count": 56,
   "id": "45a621db",
   "metadata": {},
   "outputs": [
    {
     "name": "stdout",
     "output_type": "stream",
     "text": [
      "Parameter name: gat.attn, Shape: torch.Size([1, 8])\n",
      "Parameter name: gat.fc.weight, Shape: torch.Size([8, 16])\n",
      "Parameter name: conv1.fc.weight, Shape: torch.Size([8, 8])\n",
      "Parameter name: conv1.fc.bias, Shape: torch.Size([8])\n",
      "Parameter name: pred.W.weight, Shape: torch.Size([5, 24])\n",
      "Parameter name: pred.W.bias, Shape: torch.Size([5])\n",
      "Total number of parameters: 1332 B\n"
     ]
    }
   ],
   "source": [
    "total_bits = 0\n",
    "for name, param in model.named_parameters():\n",
    "    if param.requires_grad:\n",
    "        total_bits += param.numel() * param.element_size()\n",
    "        print(f\"Parameter name: {name}, Shape: {param.shape}\")\n",
    "\n",
    "print(f\"Total number of parameters: {total_bits} B\")"
   ]
  },
  {
   "cell_type": "code",
   "execution_count": 57,
   "id": "9d8d38d1",
   "metadata": {},
   "outputs": [],
   "source": [
    "torch.save(model, 'model.pth')"
   ]
  },
  {
   "cell_type": "code",
   "execution_count": 58,
   "id": "05cff03c",
   "metadata": {},
   "outputs": [
    {
     "name": "stdout",
     "output_type": "stream",
     "text": [
      "模型大小（增量）： 3072 字节\n"
     ]
    }
   ],
   "source": [
    "import torch\n",
    "\n",
    "\n",
    "initial_memory = torch.cuda.memory_allocated()\n",
    "\n",
    "model_100 = torch.load('model.pth')\n",
    "\n",
    "final_memory = torch.cuda.memory_allocated()\n",
    "\n",
    "model_size = final_memory - initial_memory\n",
    "print(\"模型大小（增量）：\", model_size, \"字节\")"
   ]
  },
  {
   "cell_type": "code",
   "execution_count": null,
   "id": "cb7ffae2",
   "metadata": {},
   "outputs": [],
   "source": []
  }
 ],
 "metadata": {
  "kernelspec": {
   "display_name": "Python 3 (ipykernel)",
   "language": "python",
   "name": "python3"
  },
  "language_info": {
   "codemirror_mode": {
    "name": "ipython",
    "version": 3
   },
   "file_extension": ".py",
   "mimetype": "text/x-python",
   "name": "python",
   "nbconvert_exporter": "python",
   "pygments_lexer": "ipython3",
   "version": "3.10.8"
  }
 },
 "nbformat": 4,
 "nbformat_minor": 5
}
