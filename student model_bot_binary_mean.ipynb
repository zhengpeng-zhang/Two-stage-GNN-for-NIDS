{
 "cells": [
  {
   "cell_type": "code",
   "execution_count": 1,
   "id": "bbce6068",
   "metadata": {},
   "outputs": [],
   "source": [
    "import torch\n",
    "import dgl\n",
    "import dgl.nn as dglnn\n",
    "from dgl import from_networkx\n",
    "import torch.nn as nn\n",
    "import torch as th\n",
    "import torch.nn.functional as F\n",
    "import dgl.function as fn\n",
    "from dgl.data.utils import load_graphs\n",
    "import networkx as nx\n",
    "import pandas as pd\n",
    "import socket\n",
    "import struct\n",
    "import random\n",
    "from sklearn.preprocessing import LabelEncoder\n",
    "from sklearn.preprocessing import StandardScaler\n",
    "from sklearn.model_selection import train_test_split\n",
    "import seaborn as sns\n",
    "import matplotlib.pyplot as plt\n",
    "import numpy as np"
   ]
  },
  {
   "cell_type": "code",
   "execution_count": 2,
   "id": "5e2d4682",
   "metadata": {},
   "outputs": [
    {
     "name": "stderr",
     "output_type": "stream",
     "text": [
      "/tmp/ipykernel_1880/3993269919.py:1: DtypeWarning: Columns (7,9) have mixed types. Specify dtype option on import or set low_memory=False.\n",
      "  data = pd.read_csv('../../../Untitled Folder 1/bot_iot/bot.csv')\n"
     ]
    }
   ],
   "source": [
    "data = pd.read_csv('../../../Untitled Folder 1/bot_iot/bot.csv')"
   ]
  },
  {
   "cell_type": "code",
   "execution_count": 3,
   "id": "8e64a276",
   "metadata": {},
   "outputs": [],
   "source": [
    "data.drop(columns=['subcategory','pkSeqID','stime','flgs','category','state','proto','seq','sum','pkts','TnP_PSrcIP',\n",
    "                   'AR_P_Proto_P_DstIP', 'dbytes','dur', 'flgs_number', 'rate', 'AR_P_Proto_P_Sport', 'proto_number',\n",
    "                   'state_number', 'AR_P_Proto_P_Dport', 'dpkts', 'max', 'mean', 'min', 'drate'],inplace=True)"
   ]
  },
  {
   "cell_type": "code",
   "execution_count": 4,
   "id": "5571cf5b",
   "metadata": {},
   "outputs": [],
   "source": [
    "data.rename(columns={\"attack\": \"label\"},inplace = True)"
   ]
  },
  {
   "cell_type": "code",
   "execution_count": 5,
   "id": "d33a9467",
   "metadata": {},
   "outputs": [
    {
     "data": {
      "text/plain": [
       "label\n",
       "1    3668045\n",
       "0        477\n",
       "Name: count, dtype: int64"
      ]
     },
     "execution_count": 5,
     "metadata": {},
     "output_type": "execute_result"
    }
   ],
   "source": [
    "data.label.value_counts()"
   ]
  },
  {
   "cell_type": "code",
   "execution_count": 6,
   "id": "04e58f5b",
   "metadata": {},
   "outputs": [],
   "source": [
    "# le = LabelEncoder()\n",
    "# le.fit_transform(data.label.values)\n",
    "# data['label'] = le.transform(data['label'])"
   ]
  },
  {
   "cell_type": "code",
   "execution_count": 7,
   "id": "67fcfb80",
   "metadata": {},
   "outputs": [],
   "source": [
    "data['saddr'] = data.saddr.apply(str)\n",
    "data['sport'] = data.sport.apply(str)\n",
    "data['daddr'] = data.daddr.apply(str)\n",
    "data['dport'] = data.dport.apply(str)"
   ]
  },
  {
   "cell_type": "code",
   "execution_count": 8,
   "id": "52e9ec56",
   "metadata": {},
   "outputs": [],
   "source": [
    "data['saddr'] = data['saddr'] + ':' + data['sport']\n",
    "data['daddr'] = data['daddr'] + ':' + data['dport']"
   ]
  },
  {
   "cell_type": "code",
   "execution_count": 9,
   "id": "89ab6f98",
   "metadata": {},
   "outputs": [],
   "source": [
    "data.drop(columns=['sport','dport'],inplace=True)\n",
    "label_ground_truth = data[[\"saddr\", \"daddr\",\"label\"]]\n",
    "# data = pd.get_dummies(data, columns = ['flgs_number','state_number', 'proto_number'])"
   ]
  },
  {
   "cell_type": "code",
   "execution_count": 10,
   "id": "ed721798",
   "metadata": {},
   "outputs": [],
   "source": [
    "data = data.reset_index()\n",
    "data.replace([np.inf, -np.inf], np.nan,inplace = True)"
   ]
  },
  {
   "cell_type": "code",
   "execution_count": 11,
   "id": "ff459681",
   "metadata": {},
   "outputs": [],
   "source": [
    "data.fillna(0,inplace = True)"
   ]
  },
  {
   "cell_type": "code",
   "execution_count": 12,
   "id": "433ae531",
   "metadata": {},
   "outputs": [],
   "source": [
    "label_ground_truth = data[[\"saddr\", \"daddr\",\"label\"]]"
   ]
  },
  {
   "cell_type": "code",
   "execution_count": 13,
   "id": "a17d57a5",
   "metadata": {},
   "outputs": [],
   "source": [
    "data.drop(columns=['index'],inplace=True)"
   ]
  },
  {
   "cell_type": "code",
   "execution_count": 14,
   "id": "cf482003",
   "metadata": {},
   "outputs": [
    {
     "data": {
      "text/html": [
       "<div>\n",
       "<style scoped>\n",
       "    .dataframe tbody tr th:only-of-type {\n",
       "        vertical-align: middle;\n",
       "    }\n",
       "\n",
       "    .dataframe tbody tr th {\n",
       "        vertical-align: top;\n",
       "    }\n",
       "\n",
       "    .dataframe thead th {\n",
       "        text-align: right;\n",
       "    }\n",
       "</style>\n",
       "<table border=\"1\" class=\"dataframe\">\n",
       "  <thead>\n",
       "    <tr style=\"text-align: right;\">\n",
       "      <th></th>\n",
       "      <th>saddr</th>\n",
       "      <th>daddr</th>\n",
       "      <th>bytes</th>\n",
       "      <th>ltime</th>\n",
       "      <th>stddev</th>\n",
       "      <th>spkts</th>\n",
       "      <th>sbytes</th>\n",
       "      <th>srate</th>\n",
       "      <th>TnBPSrcIP</th>\n",
       "      <th>TnBPDstIP</th>\n",
       "      <th>TnP_PDstIP</th>\n",
       "      <th>TnP_PerProto</th>\n",
       "      <th>TnP_Per_Dport</th>\n",
       "      <th>AR_P_Proto_P_SrcIP</th>\n",
       "      <th>N_IN_Conn_P_DstIP</th>\n",
       "      <th>N_IN_Conn_P_SrcIP</th>\n",
       "      <th>Pkts_P_State_P_Protocol_P_DestIP</th>\n",
       "      <th>Pkts_P_State_P_Protocol_P_SrcIP</th>\n",
       "      <th>label</th>\n",
       "    </tr>\n",
       "  </thead>\n",
       "  <tbody>\n",
       "    <tr>\n",
       "      <th>0</th>\n",
       "      <td>192.168.100.147:49960</td>\n",
       "      <td>192.168.100.7:80</td>\n",
       "      <td>1980</td>\n",
       "      <td>1.528089e+09</td>\n",
       "      <td>0.068909</td>\n",
       "      <td>5</td>\n",
       "      <td>650</td>\n",
       "      <td>0.566862</td>\n",
       "      <td>157426</td>\n",
       "      <td>201841</td>\n",
       "      <td>770</td>\n",
       "      <td>772</td>\n",
       "      <td>772</td>\n",
       "      <td>1.142970</td>\n",
       "      <td>96</td>\n",
       "      <td>75</td>\n",
       "      <td>770</td>\n",
       "      <td>602</td>\n",
       "      <td>1</td>\n",
       "    </tr>\n",
       "    <tr>\n",
       "      <th>1</th>\n",
       "      <td>192.168.100.7:-1</td>\n",
       "      <td>192.168.100.147:-1</td>\n",
       "      <td>120</td>\n",
       "      <td>1.528089e+09</td>\n",
       "      <td>0.000000</td>\n",
       "      <td>1</td>\n",
       "      <td>60</td>\n",
       "      <td>0.000000</td>\n",
       "      <td>360</td>\n",
       "      <td>120</td>\n",
       "      <td>2</td>\n",
       "      <td>8</td>\n",
       "      <td>8</td>\n",
       "      <td>0.003857</td>\n",
       "      <td>1</td>\n",
       "      <td>2</td>\n",
       "      <td>2</td>\n",
       "      <td>6</td>\n",
       "      <td>1</td>\n",
       "    </tr>\n",
       "    <tr>\n",
       "      <th>2</th>\n",
       "      <td>192.168.100.147:49962</td>\n",
       "      <td>192.168.100.7:80</td>\n",
       "      <td>2126</td>\n",
       "      <td>1.528089e+09</td>\n",
       "      <td>0.064494</td>\n",
       "      <td>5</td>\n",
       "      <td>796</td>\n",
       "      <td>0.567549</td>\n",
       "      <td>157426</td>\n",
       "      <td>201841</td>\n",
       "      <td>770</td>\n",
       "      <td>772</td>\n",
       "      <td>772</td>\n",
       "      <td>1.142970</td>\n",
       "      <td>96</td>\n",
       "      <td>75</td>\n",
       "      <td>770</td>\n",
       "      <td>602</td>\n",
       "      <td>1</td>\n",
       "    </tr>\n",
       "    <tr>\n",
       "      <th>3</th>\n",
       "      <td>192.168.100.147:49964</td>\n",
       "      <td>192.168.100.7:80</td>\n",
       "      <td>2024</td>\n",
       "      <td>1.528089e+09</td>\n",
       "      <td>0.064189</td>\n",
       "      <td>5</td>\n",
       "      <td>694</td>\n",
       "      <td>0.567570</td>\n",
       "      <td>157426</td>\n",
       "      <td>201841</td>\n",
       "      <td>770</td>\n",
       "      <td>772</td>\n",
       "      <td>772</td>\n",
       "      <td>1.142970</td>\n",
       "      <td>96</td>\n",
       "      <td>75</td>\n",
       "      <td>770</td>\n",
       "      <td>602</td>\n",
       "      <td>1</td>\n",
       "    </tr>\n",
       "    <tr>\n",
       "      <th>4</th>\n",
       "      <td>192.168.100.147:49966</td>\n",
       "      <td>192.168.100.7:80</td>\n",
       "      <td>2319</td>\n",
       "      <td>1.528089e+09</td>\n",
       "      <td>0.063887</td>\n",
       "      <td>5</td>\n",
       "      <td>989</td>\n",
       "      <td>0.567630</td>\n",
       "      <td>157426</td>\n",
       "      <td>201841</td>\n",
       "      <td>770</td>\n",
       "      <td>772</td>\n",
       "      <td>772</td>\n",
       "      <td>1.142970</td>\n",
       "      <td>96</td>\n",
       "      <td>75</td>\n",
       "      <td>770</td>\n",
       "      <td>602</td>\n",
       "      <td>1</td>\n",
       "    </tr>\n",
       "    <tr>\n",
       "      <th>...</th>\n",
       "      <td>...</td>\n",
       "      <td>...</td>\n",
       "      <td>...</td>\n",
       "      <td>...</td>\n",
       "      <td>...</td>\n",
       "      <td>...</td>\n",
       "      <td>...</td>\n",
       "      <td>...</td>\n",
       "      <td>...</td>\n",
       "      <td>...</td>\n",
       "      <td>...</td>\n",
       "      <td>...</td>\n",
       "      <td>...</td>\n",
       "      <td>...</td>\n",
       "      <td>...</td>\n",
       "      <td>...</td>\n",
       "      <td>...</td>\n",
       "      <td>...</td>\n",
       "      <td>...</td>\n",
       "    </tr>\n",
       "    <tr>\n",
       "      <th>3668517</th>\n",
       "      <td>192.168.100.150:35064</td>\n",
       "      <td>192.168.100.3:22</td>\n",
       "      <td>434</td>\n",
       "      <td>1.529381e+09</td>\n",
       "      <td>0.000000</td>\n",
       "      <td>3</td>\n",
       "      <td>228</td>\n",
       "      <td>151.917969</td>\n",
       "      <td>79240</td>\n",
       "      <td>79240</td>\n",
       "      <td>471</td>\n",
       "      <td>475</td>\n",
       "      <td>471</td>\n",
       "      <td>9.889330</td>\n",
       "      <td>19</td>\n",
       "      <td>19</td>\n",
       "      <td>30</td>\n",
       "      <td>30</td>\n",
       "      <td>1</td>\n",
       "    </tr>\n",
       "    <tr>\n",
       "      <th>3668518</th>\n",
       "      <td>192.168.100.150:35066</td>\n",
       "      <td>192.168.100.3:22</td>\n",
       "      <td>434</td>\n",
       "      <td>1.529381e+09</td>\n",
       "      <td>0.000000</td>\n",
       "      <td>3</td>\n",
       "      <td>228</td>\n",
       "      <td>3484.320557</td>\n",
       "      <td>79240</td>\n",
       "      <td>79240</td>\n",
       "      <td>471</td>\n",
       "      <td>475</td>\n",
       "      <td>471</td>\n",
       "      <td>9.889330</td>\n",
       "      <td>19</td>\n",
       "      <td>19</td>\n",
       "      <td>30</td>\n",
       "      <td>30</td>\n",
       "      <td>1</td>\n",
       "    </tr>\n",
       "    <tr>\n",
       "      <th>3668519</th>\n",
       "      <td>192.168.100.150:35070</td>\n",
       "      <td>192.168.100.3:22</td>\n",
       "      <td>5472</td>\n",
       "      <td>1.529381e+09</td>\n",
       "      <td>0.000000</td>\n",
       "      <td>14</td>\n",
       "      <td>1802</td>\n",
       "      <td>4.522837</td>\n",
       "      <td>79240</td>\n",
       "      <td>79240</td>\n",
       "      <td>471</td>\n",
       "      <td>475</td>\n",
       "      <td>471</td>\n",
       "      <td>9.889330</td>\n",
       "      <td>19</td>\n",
       "      <td>19</td>\n",
       "      <td>441</td>\n",
       "      <td>441</td>\n",
       "      <td>1</td>\n",
       "    </tr>\n",
       "    <tr>\n",
       "      <th>3668520</th>\n",
       "      <td>192.168.100.3:43001</td>\n",
       "      <td>192.168.100.150:4433</td>\n",
       "      <td>134</td>\n",
       "      <td>1.529381e+09</td>\n",
       "      <td>0.000000</td>\n",
       "      <td>1</td>\n",
       "      <td>74</td>\n",
       "      <td>0.000000</td>\n",
       "      <td>1228</td>\n",
       "      <td>134</td>\n",
       "      <td>2</td>\n",
       "      <td>475</td>\n",
       "      <td>4</td>\n",
       "      <td>22346.400000</td>\n",
       "      <td>1</td>\n",
       "      <td>3</td>\n",
       "      <td>2</td>\n",
       "      <td>4</td>\n",
       "      <td>1</td>\n",
       "    </tr>\n",
       "    <tr>\n",
       "      <th>3668521</th>\n",
       "      <td>192.168.100.3:-1</td>\n",
       "      <td>192.168.100.149:-1</td>\n",
       "      <td>960</td>\n",
       "      <td>1.529382e+09</td>\n",
       "      <td>0.000056</td>\n",
       "      <td>8</td>\n",
       "      <td>480</td>\n",
       "      <td>0.008255</td>\n",
       "      <td>1228</td>\n",
       "      <td>1094</td>\n",
       "      <td>18</td>\n",
       "      <td>16</td>\n",
       "      <td>16</td>\n",
       "      <td>0.018868</td>\n",
       "      <td>2</td>\n",
       "      <td>3</td>\n",
       "      <td>16</td>\n",
       "      <td>16</td>\n",
       "      <td>1</td>\n",
       "    </tr>\n",
       "  </tbody>\n",
       "</table>\n",
       "<p>3668522 rows × 19 columns</p>\n",
       "</div>"
      ],
      "text/plain": [
       "                         saddr                 daddr  bytes         ltime  \\\n",
       "0        192.168.100.147:49960      192.168.100.7:80   1980  1.528089e+09   \n",
       "1             192.168.100.7:-1    192.168.100.147:-1    120  1.528089e+09   \n",
       "2        192.168.100.147:49962      192.168.100.7:80   2126  1.528089e+09   \n",
       "3        192.168.100.147:49964      192.168.100.7:80   2024  1.528089e+09   \n",
       "4        192.168.100.147:49966      192.168.100.7:80   2319  1.528089e+09   \n",
       "...                        ...                   ...    ...           ...   \n",
       "3668517  192.168.100.150:35064      192.168.100.3:22    434  1.529381e+09   \n",
       "3668518  192.168.100.150:35066      192.168.100.3:22    434  1.529381e+09   \n",
       "3668519  192.168.100.150:35070      192.168.100.3:22   5472  1.529381e+09   \n",
       "3668520    192.168.100.3:43001  192.168.100.150:4433    134  1.529381e+09   \n",
       "3668521       192.168.100.3:-1    192.168.100.149:-1    960  1.529382e+09   \n",
       "\n",
       "           stddev  spkts  sbytes        srate  TnBPSrcIP  TnBPDstIP  \\\n",
       "0        0.068909      5     650     0.566862     157426     201841   \n",
       "1        0.000000      1      60     0.000000        360        120   \n",
       "2        0.064494      5     796     0.567549     157426     201841   \n",
       "3        0.064189      5     694     0.567570     157426     201841   \n",
       "4        0.063887      5     989     0.567630     157426     201841   \n",
       "...           ...    ...     ...          ...        ...        ...   \n",
       "3668517  0.000000      3     228   151.917969      79240      79240   \n",
       "3668518  0.000000      3     228  3484.320557      79240      79240   \n",
       "3668519  0.000000     14    1802     4.522837      79240      79240   \n",
       "3668520  0.000000      1      74     0.000000       1228        134   \n",
       "3668521  0.000056      8     480     0.008255       1228       1094   \n",
       "\n",
       "         TnP_PDstIP  TnP_PerProto  TnP_Per_Dport  AR_P_Proto_P_SrcIP  \\\n",
       "0               770           772            772            1.142970   \n",
       "1                 2             8              8            0.003857   \n",
       "2               770           772            772            1.142970   \n",
       "3               770           772            772            1.142970   \n",
       "4               770           772            772            1.142970   \n",
       "...             ...           ...            ...                 ...   \n",
       "3668517         471           475            471            9.889330   \n",
       "3668518         471           475            471            9.889330   \n",
       "3668519         471           475            471            9.889330   \n",
       "3668520           2           475              4        22346.400000   \n",
       "3668521          18            16             16            0.018868   \n",
       "\n",
       "         N_IN_Conn_P_DstIP  N_IN_Conn_P_SrcIP  \\\n",
       "0                       96                 75   \n",
       "1                        1                  2   \n",
       "2                       96                 75   \n",
       "3                       96                 75   \n",
       "4                       96                 75   \n",
       "...                    ...                ...   \n",
       "3668517                 19                 19   \n",
       "3668518                 19                 19   \n",
       "3668519                 19                 19   \n",
       "3668520                  1                  3   \n",
       "3668521                  2                  3   \n",
       "\n",
       "         Pkts_P_State_P_Protocol_P_DestIP  Pkts_P_State_P_Protocol_P_SrcIP  \\\n",
       "0                                     770                              602   \n",
       "1                                       2                                6   \n",
       "2                                     770                              602   \n",
       "3                                     770                              602   \n",
       "4                                     770                              602   \n",
       "...                                   ...                              ...   \n",
       "3668517                                30                               30   \n",
       "3668518                                30                               30   \n",
       "3668519                               441                              441   \n",
       "3668520                                 2                                4   \n",
       "3668521                                16                               16   \n",
       "\n",
       "         label  \n",
       "0            1  \n",
       "1            1  \n",
       "2            1  \n",
       "3            1  \n",
       "4            1  \n",
       "...        ...  \n",
       "3668517      1  \n",
       "3668518      1  \n",
       "3668519      1  \n",
       "3668520      1  \n",
       "3668521      1  \n",
       "\n",
       "[3668522 rows x 19 columns]"
      ]
     },
     "execution_count": 14,
     "metadata": {},
     "output_type": "execute_result"
    }
   ],
   "source": [
    "data"
   ]
  },
  {
   "cell_type": "code",
   "execution_count": 15,
   "id": "9d1077b9",
   "metadata": {},
   "outputs": [],
   "source": [
    "scaler = StandardScaler()\n",
    "cols_to_norm = ['stddev',\n",
    " 'ltime',\n",
    " 'N_IN_Conn_P_DstIP',\n",
    " 'N_IN_Conn_P_SrcIP',\n",
    " 'TnP_Per_Dport',\n",
    " 'TnBPDstIP',\n",
    " 'TnP_PerProto',\n",
    " 'spkts',\n",
    " 'srate',\n",
    " 'Pkts_P_State_P_Protocol_P_SrcIP',\n",
    " 'TnP_PDstIP',\n",
    " 'TnBPSrcIP',\n",
    " 'AR_P_Proto_P_SrcIP',\n",
    " 'bytes',\n",
    " 'Pkts_P_State_P_Protocol_P_DestIP',\n",
    " 'sbytes']\n",
    "data[cols_to_norm] = scaler.fit_transform(data[cols_to_norm])"
   ]
  },
  {
   "cell_type": "code",
   "execution_count": 16,
   "id": "ed94dccf",
   "metadata": {},
   "outputs": [],
   "source": [
    "X_train, X_test, y_train, y_test = train_test_split(\n",
    "     data, label_ground_truth, test_size=0.3, random_state=42, stratify=label_ground_truth.label)"
   ]
  },
  {
   "cell_type": "code",
   "execution_count": 17,
   "id": "7fe94c49",
   "metadata": {},
   "outputs": [],
   "source": [
    "X_train['h'] = X_train[ cols_to_norm ].values.tolist()"
   ]
  },
  {
   "cell_type": "code",
   "execution_count": 18,
   "id": "10eedeeb",
   "metadata": {},
   "outputs": [
    {
     "data": {
      "text/plain": [
       "['stddev',\n",
       " 'ltime',\n",
       " 'N_IN_Conn_P_DstIP',\n",
       " 'N_IN_Conn_P_SrcIP',\n",
       " 'TnP_Per_Dport',\n",
       " 'TnBPDstIP',\n",
       " 'TnP_PerProto',\n",
       " 'spkts',\n",
       " 'srate',\n",
       " 'Pkts_P_State_P_Protocol_P_SrcIP',\n",
       " 'TnP_PDstIP',\n",
       " 'TnBPSrcIP',\n",
       " 'AR_P_Proto_P_SrcIP',\n",
       " 'bytes',\n",
       " 'Pkts_P_State_P_Protocol_P_DestIP',\n",
       " 'sbytes']"
      ]
     },
     "execution_count": 18,
     "metadata": {},
     "output_type": "execute_result"
    }
   ],
   "source": [
    "cols_to_norm"
   ]
  },
  {
   "cell_type": "code",
   "execution_count": 19,
   "id": "a2e18d0a",
   "metadata": {},
   "outputs": [],
   "source": [
    "G = nx.from_pandas_edgelist(X_train, \"daddr\", \"saddr\", ['h','label'],create_using=nx.MultiDiGraph)"
   ]
  },
  {
   "cell_type": "code",
   "execution_count": 20,
   "id": "243b162a",
   "metadata": {},
   "outputs": [
    {
     "data": {
      "text/plain": [
       "2567965"
      ]
     },
     "execution_count": 20,
     "metadata": {},
     "output_type": "execute_result"
    }
   ],
   "source": [
    "G.number_of_edges()"
   ]
  },
  {
   "cell_type": "code",
   "execution_count": 21,
   "id": "68b17353",
   "metadata": {},
   "outputs": [],
   "source": [
    "G1 = nx.from_pandas_edgelist(X_train, \"daddr\", \"saddr\",create_using=nx.MultiGraph)"
   ]
  },
  {
   "cell_type": "code",
   "execution_count": 22,
   "id": "4be730fd",
   "metadata": {},
   "outputs": [
    {
     "data": {
      "text/plain": [
       "2567965"
      ]
     },
     "execution_count": 22,
     "metadata": {},
     "output_type": "execute_result"
    }
   ],
   "source": [
    "G1.number_of_edges()"
   ]
  },
  {
   "cell_type": "code",
   "execution_count": 23,
   "id": "7ce96131",
   "metadata": {},
   "outputs": [],
   "source": [
    "G1 = G1.to_directed()"
   ]
  },
  {
   "cell_type": "code",
   "execution_count": 24,
   "id": "6e95b662",
   "metadata": {},
   "outputs": [],
   "source": [
    "G = from_networkx(G,edge_attrs=['h','label'] )"
   ]
  },
  {
   "cell_type": "code",
   "execution_count": 25,
   "id": "93f07ada",
   "metadata": {},
   "outputs": [],
   "source": [
    "G1 = from_networkx(G1)"
   ]
  },
  {
   "cell_type": "code",
   "execution_count": 26,
   "id": "56c04a7b",
   "metadata": {},
   "outputs": [],
   "source": [
    "G1 = dgl.add_self_loop(G1)"
   ]
  },
  {
   "cell_type": "code",
   "execution_count": 27,
   "id": "bfe29497",
   "metadata": {},
   "outputs": [],
   "source": [
    "G.edata['train_mask'] = th.ones(len(G.edata['h']), dtype=th.bool)"
   ]
  },
  {
   "cell_type": "code",
   "execution_count": 28,
   "id": "b508c6ae",
   "metadata": {},
   "outputs": [
    {
     "data": {
      "text/plain": [
       "Graph(num_nodes=272566, num_edges=2567965,\n",
       "      ndata_schemes={}\n",
       "      edata_schemes={'h': Scheme(shape=(16,), dtype=torch.float32), 'label': Scheme(shape=(), dtype=torch.int64), 'train_mask': Scheme(shape=(), dtype=torch.bool)})"
      ]
     },
     "execution_count": 28,
     "metadata": {},
     "output_type": "execute_result"
    }
   ],
   "source": [
    "G"
   ]
  },
  {
   "cell_type": "code",
   "execution_count": 29,
   "id": "262f60cc",
   "metadata": {},
   "outputs": [
    {
     "data": {
      "text/plain": [
       "Graph(num_nodes=272566, num_edges=5408496,\n",
       "      ndata_schemes={}\n",
       "      edata_schemes={})"
      ]
     },
     "execution_count": 29,
     "metadata": {},
     "output_type": "execute_result"
    }
   ],
   "source": [
    "G1"
   ]
  },
  {
   "cell_type": "code",
   "execution_count": 30,
   "id": "b4f371d5",
   "metadata": {},
   "outputs": [],
   "source": [
    "def compute_accuracy(pred, labels):\n",
    "    return (pred.argmax(1) == labels).float().mean().item()"
   ]
  },
  {
   "cell_type": "code",
   "execution_count": 31,
   "id": "51ca4453",
   "metadata": {},
   "outputs": [],
   "source": [
    "from dgl.utils import expand_as_pair\n",
    "from dgl.nn.functional import edge_softmax\n",
    "class GATConv(nn.Module):\n",
    "    def __init__(\n",
    "        self,\n",
    "        in_feats,\n",
    "        out_feats,\n",
    "        feat_drop=0.0,\n",
    "        attn_drop=0.0,\n",
    "        negative_slope=0.2,\n",
    "    ):\n",
    "        super(GATConv, self).__init__()\n",
    "        self._in_src_feats, self._in_dst_feats = expand_as_pair(in_feats)\n",
    "        self._out_feats = out_feats\n",
    "        \n",
    "        self.fc = nn.Linear(\n",
    "            self._in_src_feats, out_feats, bias=False\n",
    "        )\n",
    "        \n",
    "        self.attn = nn.Parameter(\n",
    "            th.FloatTensor(size=(1, out_feats))\n",
    "        )\n",
    "\n",
    "        self.feat_drop = nn.Dropout(feat_drop)\n",
    "        self.attn_drop = nn.Dropout(attn_drop)\n",
    "        self.leaky_relu = nn.LeakyReLU(negative_slope)\n",
    "\n",
    "        \n",
    "        self.reset_parameters()\n",
    "       \n",
    "    \n",
    "    def reset_parameters(self):\n",
    "        gain = nn.init.calculate_gain('relu')\n",
    "        \n",
    "        nn.init.xavier_normal_(self.fc.weight, gain=gain)\n",
    "\n",
    "        nn.init.xavier_normal_(self.attn, gain=gain)\n",
    "\n",
    "    \n",
    "    def message_func(self, edges):\n",
    "        return {'m': edges.data['a'] * edges.data['ft']}\n",
    "    \n",
    "    def forward(self, graph, efeat):\n",
    "        with graph.local_scope(): \n",
    "            efeat = self.feat_drop(efeat)\n",
    "            efeat = self.fc(efeat)\n",
    "            graph.edata['ft'] = efeat\n",
    "            e = (efeat * self.attn).sum(dim=-1).unsqueeze(-1)\n",
    "            graph.edata['e']= e         \n",
    "            e = self.leaky_relu(graph.edata.pop('e'))\n",
    "            graph.edata['a'] = self.attn_drop(edge_softmax(graph, e))\n",
    "            # message passing\n",
    "            graph.update_all(self.message_func, fn.sum('m', 'ft'))\n",
    "            rst = graph.ndata['ft']\n",
    "            return rst,efeat"
   ]
  },
  {
   "cell_type": "code",
   "execution_count": 32,
   "id": "932a0c7b",
   "metadata": {},
   "outputs": [],
   "source": [
    "class MLPPredictor(nn.Module):\n",
    "    def __init__(self, in_features, out_classes):\n",
    "        super().__init__()\n",
    "        self.W = nn.Linear(in_features * 3, out_classes)\n",
    "\n",
    "    def apply_edges(self, edges):\n",
    "        h_u = edges.src['h']\n",
    "        h_v = edges.dst['h']\n",
    "        h_e = edges.data['e']\n",
    "        score = self.W(th.cat([h_u, h_v, h_e], 1))\n",
    "        return {'score': score}\n",
    "\n",
    "    def forward(self, graph, h, e):\n",
    "        with graph.local_scope():\n",
    "            graph.ndata['h'] = h\n",
    "            graph.edata['e'] = e\n",
    "            graph.apply_edges(self.apply_edges)\n",
    "            return graph.edata['score']"
   ]
  },
  {
   "cell_type": "code",
   "execution_count": 33,
   "id": "d8a2d9e7",
   "metadata": {},
   "outputs": [],
   "source": [
    "class SAGEConv(nn.Module):\n",
    "   \n",
    "    def __init__(\n",
    "        self,\n",
    "        in_feats,\n",
    "        out_feats,\n",
    "        k=2,\n",
    "        feat_drop=0.1,\n",
    "        cached=False,\n",
    "        bias=True,\n",
    "    ):\n",
    "        super(SAGEConv, self).__init__()\n",
    "        self.fc = nn.Linear(in_feats, out_feats, bias=bias)\n",
    "        self._k = k\n",
    "        self.feat_drop = nn.Dropout(feat_drop)\n",
    "        self.reset_parameters()\n",
    "\n",
    "\n",
    "    def reset_parameters(self):\n",
    "        nn.init.xavier_uniform_(self.fc.weight)\n",
    "        if self.fc.bias is not None:\n",
    "            nn.init.zeros_(self.fc.bias)\n",
    "        \n",
    "    def forward(self, graph, feat, edge_weight=None):\n",
    "        with graph.local_scope():\n",
    "          \n",
    "            msg_fn = fn.copy_u(\"h\", \"m\")\n",
    "            \n",
    "            for _ in range(self._k):\n",
    "                h_self = self.feat_drop(feat)\n",
    "                graph.ndata[\"h\"] = h_self\n",
    "                graph.update_all(msg_fn, fn.mean(\"m\", \"neigh\"))\n",
    "#                 feat = self.feat_drop(graph.ndata.pop(\"neigh\"))\n",
    "                h_neigh = graph.ndata.pop(\"neigh\")\n",
    "                feat = h_neigh\n",
    "            return self.fc(feat)"
   ]
  },
  {
   "cell_type": "code",
   "execution_count": 34,
   "id": "cc5de6af",
   "metadata": {},
   "outputs": [],
   "source": [
    "class Model(nn.Module):\n",
    "    def __init__(self, edim_in, edim_out, ndim_out):\n",
    "        super().__init__()\n",
    "        self.gat = GATConv(edim_in, ndim_out)\n",
    "        self.conv1 = SAGEConv(ndim_out, edim_out, k=2)\n",
    "        self.pred = MLPPredictor(edim_out, 2)\n",
    "    def forward(self, g, g1, efeats):\n",
    "        h,e = self.gat(g, efeats)\n",
    "        h = F.relu(h)\n",
    "        h = self.conv1(g1, h)\n",
    "        return self.pred(g, h, e), h"
   ]
  },
  {
   "cell_type": "code",
   "execution_count": 35,
   "id": "f6e0e414",
   "metadata": {},
   "outputs": [],
   "source": [
    "class MLP(nn.Module):\n",
    "    def __init__(self, in_features, out_classes):\n",
    "        super().__init__()\n",
    "        self.W = nn.Linear(in_features, out_classes)\n",
    "        self.feat_drop = nn.Dropout(0.1)\n",
    "\n",
    "\n",
    "    def forward(self, h):\n",
    "        return self.feat_drop(self.W(h))"
   ]
  },
  {
   "cell_type": "code",
   "execution_count": 36,
   "id": "daaafbaf",
   "metadata": {},
   "outputs": [],
   "source": [
    "class Model1(nn.Module):\n",
    "    def __init__(self, edim_in, edim_out, ndim_out):\n",
    "        super().__init__()\n",
    "        self.gat = GATConv(edim_in, ndim_out)\n",
    "        self.conv1 = MLP(ndim_out, edim_out)\n",
    "        self.pred = MLPPredictor(edim_out, 2)\n",
    "    def forward(self, g, efeats):\n",
    "        h,e = self.gat(g, efeats)\n",
    "        h = F.relu(h)\n",
    "        h = self.conv1(h)\n",
    "        return self.pred(g, h, e),h"
   ]
  },
  {
   "cell_type": "code",
   "execution_count": 37,
   "id": "1298d4f7",
   "metadata": {},
   "outputs": [],
   "source": [
    "from sklearn.utils import class_weight\n",
    "class_weights = class_weight.compute_class_weight(class_weight = 'balanced',\n",
    "                                                  classes = np.unique(G.edata['label'].cpu().numpy()),\n",
    "                                                  y = G.edata['label'].cpu().numpy())\n",
    "class_weights = th.FloatTensor(class_weights).cuda()\n",
    "criterion = nn.CrossEntropyLoss(weight = class_weights)\n",
    "criterion1 = nn.KLDivLoss(reduction='batchmean')"
   ]
  },
  {
   "cell_type": "code",
   "execution_count": 38,
   "id": "8b8e7f3e",
   "metadata": {},
   "outputs": [],
   "source": [
    "# criterion = nn.CrossEntropyLoss()"
   ]
  },
  {
   "cell_type": "code",
   "execution_count": 39,
   "id": "d2804d1c",
   "metadata": {},
   "outputs": [],
   "source": [
    "G = G.to('cuda:0')\n",
    "G1 = G1.to('cuda:0')"
   ]
  },
  {
   "cell_type": "code",
   "execution_count": 40,
   "id": "c91694e4",
   "metadata": {},
   "outputs": [],
   "source": [
    "teacher = torch.load('binary.pth')"
   ]
  },
  {
   "cell_type": "code",
   "execution_count": 41,
   "id": "58996abc",
   "metadata": {},
   "outputs": [
    {
     "name": "stdout",
     "output_type": "stream",
     "text": [
      "epoc:100 Training acc:0.9138773083686829 loss:0.30112749338150024\n",
      "epoc:200 Training acc:0.9414722919464111 loss:0.22474297881126404\n",
      "epoc:300 Training acc:0.9451401829719543 loss:0.18550066649913788\n",
      "epoc:400 Training acc:0.976645290851593 loss:0.1427203267812729\n",
      "epoc:500 Training acc:0.9813061952590942 loss:0.12238001823425293\n",
      "epoc:600 Training acc:0.9832139015197754 loss:0.11158585548400879\n",
      "epoc:700 Training acc:0.9837392568588257 loss:0.1044960618019104\n",
      "epoc:800 Training acc:0.9847925901412964 loss:0.09794500470161438\n",
      "epoc:900 Training acc:0.9863506555557251 loss:0.09380430728197098\n",
      "epoc:1000 Training acc:0.9862026572227478 loss:0.08875012397766113\n",
      "epoc:1100 Training acc:0.9848915338516235 loss:0.09080341458320618\n",
      "epoc:1200 Training acc:0.9888701438903809 loss:0.08462009578943253\n",
      "epoc:1300 Training acc:0.9914897680282593 loss:0.08030154556035995\n",
      "epoc:1400 Training acc:0.9900789260864258 loss:0.07626968622207642\n",
      "epoc:1500 Training acc:0.991719126701355 loss:0.07257839292287827\n",
      "epoc:1600 Training acc:0.99237060546875 loss:0.07393472641706467\n",
      "epoc:1700 Training acc:0.993217945098877 loss:0.07440264523029327\n",
      "epoc:1800 Training acc:0.9931918978691101 loss:0.07116450369358063\n",
      "epoc:1900 Training acc:0.9954749941825867 loss:0.06349381804466248\n",
      "epoc:2000 Training acc:0.993996798992157 loss:0.06296951323747635\n",
      "epoc:2100 Training acc:0.993134617805481 loss:0.06275048851966858\n",
      "epoc:2200 Training acc:0.995383083820343 loss:0.06150084733963013\n",
      "epoc:2300 Training acc:0.9957959055900574 loss:0.06080715358257294\n",
      "epoc:2400 Training acc:0.996598482131958 loss:0.05749324709177017\n",
      "epoc:2500 Training acc:0.9974508881568909 loss:0.0557987280189991\n",
      "epoc:2600 Training acc:0.9964508414268494 loss:0.05687860772013664\n",
      "epoc:2700 Training acc:0.9969828128814697 loss:0.054356083273887634\n",
      "epoc:2800 Training acc:0.9979738593101501 loss:0.05317625030875206\n",
      "epoc:2900 Training acc:0.9973161220550537 loss:0.0541481152176857\n",
      "epoc:3000 Training acc:0.9972993731498718 loss:0.051844771951436996\n",
      "epoc:3100 Training acc:0.9971895813941956 loss:0.05183224380016327\n",
      "epoc:3200 Training acc:0.9981790781021118 loss:0.050293054431676865\n",
      "epoc:3300 Training acc:0.998606264591217 loss:0.049826718866825104\n",
      "epoc:3400 Training acc:0.9972487688064575 loss:0.0497419647872448\n",
      "epoc:3500 Training acc:0.9989442825317383 loss:0.04865441843867302\n",
      "epoc:3600 Training acc:0.9981678128242493 loss:0.04886694252490997\n",
      "epoc:3700 Training acc:0.9981210827827454 loss:0.049017533659935\n",
      "epoc:3800 Training acc:0.9987760782241821 loss:0.047620370984077454\n",
      "epoc:3900 Training acc:0.9972180128097534 loss:0.04924571514129639\n",
      "epoc:4000 Training acc:0.9990946054458618 loss:0.04694851487874985\n",
      "epoc:4100 Training acc:0.9989851713180542 loss:0.047844987362623215\n",
      "epoc:4200 Training acc:0.9991031885147095 loss:0.046364251524209976\n",
      "epoc:4300 Training acc:0.9983488917350769 loss:0.04688245803117752\n",
      "epoc:4400 Training acc:0.9994552135467529 loss:0.04668755084276199\n",
      "epoc:4500 Training acc:0.9992017149925232 loss:0.046442948281764984\n",
      "epoc:4600 Training acc:0.9978905320167542 loss:0.046368639916181564\n",
      "epoc:4700 Training acc:0.9991845488548279 loss:0.045644864439964294\n",
      "epoc:4800 Training acc:0.9995969533920288 loss:0.045469485223293304\n",
      "epoc:4900 Training acc:0.9996868968009949 loss:0.04528375715017319\n",
      "epoc:5000 Training acc:0.9994789361953735 loss:0.04528374224901199\n",
      "epoc:5100 Training acc:0.9988356232643127 loss:0.045413222163915634\n",
      "epoc:5200 Training acc:0.999711811542511 loss:0.04486043006181717\n",
      "epoc:5300 Training acc:0.9982620477676392 loss:0.04565087705850601\n",
      "epoc:5400 Training acc:0.9995564222335815 loss:0.04462685436010361\n",
      "epoc:5500 Training acc:0.999652624130249 loss:0.044450726360082626\n",
      "epoc:5600 Training acc:0.9997145533561707 loss:0.04452308639883995\n",
      "epoc:5700 Training acc:0.9997297525405884 loss:0.044426530599594116\n",
      "epoc:5800 Training acc:0.9995642304420471 loss:0.044151030480861664\n",
      "epoc:5900 Training acc:0.9995771050453186 loss:0.04416080191731453\n",
      "epoc:6000 Training acc:0.9996978044509888 loss:0.04410218819975853\n",
      "epoc:6100 Training acc:0.9997371435165405 loss:0.04392843693494797\n",
      "epoc:6200 Training acc:0.9996833801269531 loss:0.0440632589161396\n",
      "epoc:6300 Training acc:0.9996740221977234 loss:0.04370719566941261\n",
      "epoc:6400 Training acc:0.9997499585151672 loss:0.043509162962436676\n",
      "epoc:6500 Training acc:0.9995696544647217 loss:0.04346568137407303\n",
      "epoc:6600 Training acc:0.9996183514595032 loss:0.04356251657009125\n",
      "epoc:6700 Training acc:0.9996125102043152 loss:0.043441854417324066\n",
      "epoc:6800 Training acc:0.9995144009590149 loss:0.04349992796778679\n",
      "epoc:6900 Training acc:0.9995922446250916 loss:0.04353269934654236\n",
      "epoc:7000 Training acc:0.9995903372764587 loss:0.043085742741823196\n",
      "epoc:7100 Training acc:0.9997336268424988 loss:0.04320523887872696\n",
      "epoc:7200 Training acc:0.999652624130249 loss:0.04303436726331711\n",
      "epoc:7300 Training acc:0.9995439648628235 loss:0.04302656650543213\n",
      "epoc:7400 Training acc:0.9995774626731873 loss:0.042935390025377274\n",
      "epoc:7500 Training acc:0.9997546672821045 loss:0.0430157445371151\n",
      "epoc:7600 Training acc:0.9996627569198608 loss:0.04290188476443291\n",
      "epoc:7700 Training acc:0.998612105846405 loss:0.04330264404416084\n",
      "epoc:7800 Training acc:0.9998002052307129 loss:0.04284339398145676\n",
      "epoc:7900 Training acc:0.9997612833976746 loss:0.0427088588476181\n",
      "epoc:8000 Training acc:0.9998049139976501 loss:0.04261891543865204\n",
      "epoc:8100 Training acc:0.999705970287323 loss:0.042778246104717255\n",
      "epoc:8200 Training acc:0.9997282028198242 loss:0.04266650229692459\n",
      "epoc:8300 Training acc:0.9997966885566711 loss:0.04247305914759636\n",
      "epoc:8400 Training acc:0.9997998476028442 loss:0.04257454723119736\n",
      "epoc:8500 Training acc:0.9998177289962769 loss:0.042212992906570435\n",
      "epoc:8600 Training acc:0.9998072385787964 loss:0.04222951829433441\n",
      "epoc:8700 Training acc:0.9997928142547607 loss:0.042329318821430206\n",
      "epoc:8800 Training acc:0.9994454383850098 loss:0.042423494160175323\n",
      "epoc:8900 Training acc:0.9998095631599426 loss:0.042089901864528656\n",
      "epoc:9000 Training acc:0.9998270869255066 loss:0.04189708083868027\n",
      "epoc:9100 Training acc:0.9998200535774231 loss:0.04203159734606743\n",
      "epoc:9200 Training acc:0.9998111128807068 loss:0.04203874245285988\n",
      "epoc:9300 Training acc:0.9997959136962891 loss:0.041772667318582535\n",
      "epoc:9400 Training acc:0.9998270869255066 loss:0.04108520969748497\n",
      "epoc:9500 Training acc:0.999821662902832 loss:0.0405590645968914\n",
      "epoc:9600 Training acc:0.9997375011444092 loss:0.04063050448894501\n",
      "epoc:9700 Training acc:0.9998364448547363 loss:0.04100992903113365\n",
      "epoc:9800 Training acc:0.9997780323028564 loss:0.04032476246356964\n",
      "epoc:9900 Training acc:0.999809980392456 loss:0.040167659521102905\n",
      "epoc:10000 Training acc:0.9998115301132202 loss:0.039898406714200974\n",
      "epoc:10100 Training acc:0.9998146295547485 loss:0.04031548649072647\n",
      "epoc:10200 Training acc:0.9998123049736023 loss:0.03946302831172943\n",
      "epoc:10300 Training acc:0.9998091459274292 loss:0.03926378861069679\n",
      "epoc:10400 Training acc:0.9997955560684204 loss:0.03940555453300476\n",
      "epoc:10500 Training acc:0.9998123049736023 loss:0.039127156138420105\n",
      "epoc:10600 Training acc:0.9998149871826172 loss:0.03909337520599365\n",
      "epoc:10700 Training acc:0.9987596869468689 loss:0.03994203358888626\n",
      "epoc:10800 Training acc:0.9998220205307007 loss:0.03900710865855217\n",
      "epoc:10900 Training acc:0.9998111128807068 loss:0.03884436935186386\n",
      "epoc:11000 Training acc:0.9997963309288025 loss:0.03878974914550781\n",
      "epoc:11100 Training acc:0.9998204708099365 loss:0.03886284679174423\n",
      "epoc:11200 Training acc:0.9998243451118469 loss:0.03865601494908333\n",
      "epoc:11300 Training acc:0.9997605085372925 loss:0.038700204342603683\n",
      "epoc:11400 Training acc:0.9997585415840149 loss:0.03895961865782738\n",
      "epoc:11500 Training acc:0.9997795820236206 loss:0.038808707147836685\n",
      "epoc:11600 Training acc:0.9997846484184265 loss:0.03876191005110741\n",
      "epoc:11700 Training acc:0.9998044967651367 loss:0.03861980140209198\n",
      "epoc:11800 Training acc:0.9998049139976501 loss:0.038573551923036575\n",
      "epoc:11900 Training acc:0.9998056888580322 loss:0.03860432654619217\n",
      "程序执行时间为：696.811393737793 秒\n"
     ]
    }
   ],
   "source": [
    "import time\n",
    "start_time = time.time()\n",
    "\n",
    "edge_features = G.edata['h']\n",
    "\n",
    "edge_label = G.edata['label']\n",
    "train_mask = G.edata['train_mask']\n",
    "\n",
    "model = Model1(G.edata['h'].shape[1], 8, 8).cuda()\n",
    "opt = th.optim.Adam(model.parameters())\n",
    "\n",
    "with torch.no_grad():\n",
    "    out_t, h_feature_t = teacher(G, G1, edge_features)\n",
    "\n",
    "for epoch in range(1,12000):\n",
    "    pred,h_feature_s = model(G, edge_features)\n",
    "    loss_h = criterion(pred[train_mask] ,edge_label[train_mask])\n",
    "    loss_t1 = criterion1(F.log_softmax(h_feature_s, dim=1) ,F.softmax(h_feature_t, dim=1))\n",
    "    loss = 0.7*loss_h + 0.3*loss_t1\n",
    "    opt.zero_grad()\n",
    "    loss.backward()\n",
    "    opt.step()\n",
    "    if epoch % 100 == 0:\n",
    "        print('epoc:{} Training acc:{} loss:{}'.format(epoch, compute_accuracy(pred[train_mask], edge_label[train_mask]), loss))\n",
    "        \n",
    "end_time = time.time()\n",
    "execution_time = end_time - start_time\n",
    "print(f\"程序执行时间为：{execution_time} 秒\")"
   ]
  },
  {
   "cell_type": "code",
   "execution_count": 42,
   "id": "d9103c49",
   "metadata": {},
   "outputs": [],
   "source": [
    "X_test['h'] = X_test[ cols_to_norm ].values.tolist()"
   ]
  },
  {
   "cell_type": "code",
   "execution_count": 43,
   "id": "79ca777c",
   "metadata": {},
   "outputs": [],
   "source": [
    "G_test = nx.from_pandas_edgelist(X_test, \"daddr\", \"saddr\", ['h','label'],create_using=nx.MultiDiGraph)\n",
    "G_test = from_networkx(G_test, edge_attrs=['h','label'])\n",
    "actual = G_test.edata.pop('label')"
   ]
  },
  {
   "cell_type": "code",
   "execution_count": 44,
   "id": "cbccd12a",
   "metadata": {},
   "outputs": [],
   "source": [
    "G_test = G_test.to('cuda:0')"
   ]
  },
  {
   "cell_type": "code",
   "execution_count": 45,
   "id": "b513638c",
   "metadata": {},
   "outputs": [],
   "source": [
    "th.cuda.empty_cache()"
   ]
  },
  {
   "cell_type": "code",
   "execution_count": 46,
   "id": "cc106bf8",
   "metadata": {},
   "outputs": [],
   "source": [
    "import timeit\n",
    "\n",
    "edge_features_test = G_test.edata['h']\n",
    "\n",
    "torch.cuda.synchronize()\n",
    "start_time = timeit.default_timer()\n",
    "\n",
    "with torch.no_grad():\n",
    "    test_pred,h =model(G_test, edge_features_test)\n",
    "\n",
    "torch.cuda.synchronize()\n",
    "elapsed = timeit.default_timer() - start_time"
   ]
  },
  {
   "cell_type": "code",
   "execution_count": 47,
   "id": "9955b4dd",
   "metadata": {},
   "outputs": [
    {
     "name": "stdout",
     "output_type": "stream",
     "text": [
      "0.0025256860026274808 seconds\n"
     ]
    }
   ],
   "source": [
    "print(str(elapsed) + ' seconds')"
   ]
  },
  {
   "cell_type": "code",
   "execution_count": 48,
   "id": "577203a1",
   "metadata": {},
   "outputs": [
    {
     "name": "stdout",
     "output_type": "stream",
     "text": [
      "2.2949161221340472e-09\n"
     ]
    }
   ],
   "source": [
    "print(elapsed/len(X_test))"
   ]
  },
  {
   "cell_type": "code",
   "execution_count": 49,
   "id": "76a17022",
   "metadata": {},
   "outputs": [],
   "source": [
    "test_pred = test_pred.argmax(1)"
   ]
  },
  {
   "cell_type": "code",
   "execution_count": 50,
   "id": "4875bea8",
   "metadata": {},
   "outputs": [],
   "source": [
    "test_pred = th.Tensor.cpu(test_pred).detach().numpy()"
   ]
  },
  {
   "cell_type": "code",
   "execution_count": 51,
   "id": "b0324440",
   "metadata": {},
   "outputs": [
    {
     "name": "stdout",
     "output_type": "stream",
     "text": [
      "Accuracy: 0.999836446453932\n",
      "Precision: 1.0\n",
      "F1-Score: 0.9999182059102593\n",
      "Recall: 0.9998364251999702\n",
      "FAR: 0.0\n"
     ]
    }
   ],
   "source": [
    "from sklearn import metrics\n",
    "\n",
    "accuracy = metrics.accuracy_score(actual, test_pred)\n",
    "precision = metrics.precision_score(actual, test_pred)\n",
    "f1_score = metrics.f1_score(actual, test_pred)\n",
    "recall = metrics.recall_score(actual, test_pred)\n",
    "\n",
    "# 假阳性率（FAR）是混淆矩阵中假阳性（FP）与实际为负类（实际为负类的样本数为实际负例（TN）+假阳性（FP））的比率\n",
    "tn, fp, fn, tp = metrics.confusion_matrix(actual, test_pred).ravel()\n",
    "far = fp / (fp + tn)\n",
    "\n",
    "print(f\"Accuracy: {accuracy}\")\n",
    "print(f\"Precision: {precision}\")\n",
    "print(f\"F1-Score: {f1_score}\")\n",
    "print(f\"Recall: {recall}\")\n",
    "print(f\"FAR: {far}\")"
   ]
  },
  {
   "cell_type": "code",
   "execution_count": 52,
   "id": "bb6f13dc",
   "metadata": {},
   "outputs": [],
   "source": [
    "actual = [\"Normal\" if i == 0 else \"Attack\" for i in actual]\n",
    "test_pred = [\"Normal\" if i == 0 else \"Attack\" for i in test_pred]"
   ]
  },
  {
   "cell_type": "code",
   "execution_count": 53,
   "id": "25250756",
   "metadata": {},
   "outputs": [],
   "source": [
    "import numpy as np\n",
    "\n",
    "\n",
    "def plot_confusion_matrix(cm,\n",
    "                          target_names,\n",
    "                          title='Confusion matrix',\n",
    "                          cmap=None,\n",
    "                          normalize=True):\n",
    "    \n",
    "    import matplotlib.pyplot as plt\n",
    "    import numpy as np\n",
    "    import itertools\n",
    "\n",
    "    accuracy = np.trace(cm) / float(np.sum(cm))\n",
    "    misclass = 1 - accuracy\n",
    "\n",
    "    if cmap is None:\n",
    "        cmap = plt.get_cmap('Blues')\n",
    "\n",
    "    plt.figure(figsize=(12, 12))\n",
    "    plt.imshow(cm, interpolation='nearest', cmap=cmap)\n",
    "    plt.title(title)\n",
    "    plt.colorbar()\n",
    "\n",
    "    if target_names is not None:\n",
    "        tick_marks = np.arange(len(target_names))\n",
    "        plt.xticks(tick_marks, target_names, rotation=45)\n",
    "        plt.yticks(tick_marks, target_names)\n",
    "\n",
    "    if normalize:\n",
    "        cm = cm.astype('float') / cm.sum(axis=1)[:, np.newaxis]\n",
    "\n",
    "\n",
    "    thresh = cm.max() / 1.5 if normalize else cm.max() / 2\n",
    "    for i, j in itertools.product(range(cm.shape[0]), range(cm.shape[1])):\n",
    "        if normalize:\n",
    "            plt.text(j, i, \"{:0.4f}\".format(cm[i, j]),\n",
    "                     horizontalalignment=\"center\",\n",
    "                     color=\"white\" if cm[i, j] > thresh else \"black\")\n",
    "        else:\n",
    "            plt.text(j, i, \"{:,}\".format(cm[i, j]),\n",
    "                     horizontalalignment=\"center\",\n",
    "                     color=\"white\" if cm[i, j] > thresh else \"black\")\n",
    "\n",
    "\n",
    "    plt.tight_layout()\n",
    "    plt.ylabel('True label')\n",
    "    plt.xlabel('Predicted label\\naccuracy={:0.4f}; misclass={:0.4f}'.format(accuracy, misclass))\n",
    "    plt.show()"
   ]
  },
  {
   "cell_type": "code",
   "execution_count": 54,
   "id": "55795797",
   "metadata": {},
   "outputs": [
    {
     "data": {
      "image/png": "[encoded data removed]",
      "text/plain": [
       "<Figure size 1200x1200 with 2 Axes>"
      ]
     },
     "metadata": {},
     "output_type": "display_data"
    }
   ],
   "source": [
    "from sklearn.metrics import confusion_matrix\n",
    "\n",
    "plot_confusion_matrix(cm = confusion_matrix(actual, test_pred), \n",
    "                      normalize    = False,\n",
    "                      target_names = np.unique(actual),\n",
    "                      title        = \"Confusion Matrix\")"
   ]
  },
  {
   "cell_type": "code",
   "execution_count": 55,
   "id": "e817b0a0",
   "metadata": {},
   "outputs": [],
   "source": [
    "def plot_confusion_matrix(cm,\n",
    "                          target_names,\n",
    "                          title='Confusion matrix',\n",
    "                          cmap=None,\n",
    "                          normalize=True,\n",
    "                          title_fontsize=14):\n",
    "    \n",
    "    import matplotlib.pyplot as plt\n",
    "    import numpy as np\n",
    "    import itertools\n",
    "\n",
    "    accuracy = np.trace(cm) / float(np.sum(cm))\n",
    "    misclass = 1 - accuracy\n",
    "\n",
    "    if cmap is None:\n",
    "        cmap = plt.get_cmap('Blues')\n",
    "\n",
    "    plt.figure(figsize=(8, 5))\n",
    "    if normalize:\n",
    "        cm = cm.astype('float') / cm.sum(axis=1)[:, np.newaxis]\n",
    "\n",
    "    plt.imshow(cm, interpolation='nearest', cmap=cmap, vmin=0, vmax=1)\n",
    "    plt.title(title)\n",
    "    plt.colorbar()\n",
    "\n",
    "    if target_names is not None:\n",
    "        tick_marks = np.arange(len(target_names))\n",
    "        plt.xticks(tick_marks, target_names, rotation=45)\n",
    "        plt.yticks(tick_marks, target_names)\n",
    "\n",
    "    thresh = cm.max() / 1.5 if normalize else cm.max() / 2\n",
    "    for i, j in itertools.product(range(cm.shape[0]), range(cm.shape[1])):\n",
    "        if normalize:\n",
    "            plt.text(j, i, \"{:0.2f}\".format(cm[i, j]),\n",
    "                     horizontalalignment=\"center\",\n",
    "                     color=\"white\" if cm[i, j] > thresh else \"black\")\n",
    "        else:\n",
    "            plt.text(j, i, \"{:,}\".format(cm[i, j]),\n",
    "                     horizontalalignment=\"center\",\n",
    "                     color=\"white\" if cm[i, j] > thresh else \"black\")\n",
    "\n",
    "    plt.tight_layout()\n",
    "    plt.ylabel('True label',fontsize=14)\n",
    "#     plt.xlabel('Predicted label\\naccuracy={:0.4f}; misclass={:0.4f}'.format(accuracy, misclass))\n",
    "    plt.xlabel('Predicted label', fontsize=14)\n",
    "    plt.show()"
   ]
  },
  {
   "cell_type": "code",
   "execution_count": 56,
   "id": "83db2afd",
   "metadata": {},
   "outputs": [
    {
     "data": {
      "image/png": "[encoded data removed]",
      "text/plain": [
       "<Figure size 800x500 with 2 Axes>"
      ]
     },
     "metadata": {},
     "output_type": "display_data"
    }
   ],
   "source": [
    "from sklearn.metrics import confusion_matrix\n",
    "\n",
    "plot_confusion_matrix(cm = confusion_matrix(actual, test_pred), \n",
    "                      normalize    = True,\n",
    "                      target_names = np.unique(actual),\n",
    "                      title        = \"Confusion Matrix\")"
   ]
  },
  {
   "cell_type": "code",
   "execution_count": 57,
   "id": "5c4a0f1a",
   "metadata": {},
   "outputs": [
    {
     "name": "stdout",
     "output_type": "stream",
     "text": [
      "1032\n"
     ]
    }
   ],
   "source": [
    "model.parameters()\n",
    "print(sum(p.numel() for p in model.parameters())*4)"
   ]
  },
  {
   "cell_type": "code",
   "execution_count": 58,
   "id": "daa9ae89",
   "metadata": {},
   "outputs": [],
   "source": [
    "# torch.save(model, 'binary.pth')"
   ]
  },
  {
   "cell_type": "code",
   "execution_count": 59,
   "id": "9980160e",
   "metadata": {},
   "outputs": [],
   "source": [
    "# model"
   ]
  },
  {
   "cell_type": "code",
   "execution_count": 60,
   "id": "0b0fc933",
   "metadata": {},
   "outputs": [
    {
     "data": {
      "text/plain": [
       "Model1(\n",
       "  (gat): GATConv(\n",
       "    (fc): Linear(in_features=16, out_features=8, bias=False)\n",
       "    (feat_drop): Dropout(p=0.0, inplace=False)\n",
       "    (attn_drop): Dropout(p=0.0, inplace=False)\n",
       "    (leaky_relu): LeakyReLU(negative_slope=0.2)\n",
       "  )\n",
       "  (conv1): MLP(\n",
       "    (W): Linear(in_features=8, out_features=8, bias=True)\n",
       "    (feat_drop): Dropout(p=0.1, inplace=False)\n",
       "  )\n",
       "  (pred): MLPPredictor(\n",
       "    (W): Linear(in_features=24, out_features=2, bias=True)\n",
       "  )\n",
       ")"
      ]
     },
     "execution_count": 60,
     "metadata": {},
     "output_type": "execute_result"
    }
   ],
   "source": [
    "model"
   ]
  },
  {
   "cell_type": "code",
   "execution_count": null,
   "id": "24773cde",
   "metadata": {},
   "outputs": [],
   "source": []
  }
 ],
 "metadata": {
  "kernelspec": {
   "display_name": "Python 3 (ipykernel)",
   "language": "python",
   "name": "python3"
  },
  "language_info": {
   "codemirror_mode": {
    "name": "ipython",
    "version": 3
   },
   "file_extension": ".py",
   "mimetype": "text/x-python",
   "name": "python",
   "nbconvert_exporter": "python",
   "pygments_lexer": "ipython3",
   "version": "3.10.8"
  }
 },
 "nbformat": 4,
 "nbformat_minor": 5
}
