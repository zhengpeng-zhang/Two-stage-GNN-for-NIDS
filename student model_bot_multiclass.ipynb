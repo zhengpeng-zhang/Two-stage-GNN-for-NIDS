{
 "cells": [
  {
   "cell_type": "code",
   "execution_count": 1,
   "id": "bbce6068",
   "metadata": {},
   "outputs": [],
   "source": [
    "import dgl\n",
    "import dgl.nn as dglnn\n",
    "from dgl import from_networkx\n",
    "import torch\n",
    "import torch.nn as nn\n",
    "import torch as th\n",
    "import torch.nn.functional as F\n",
    "import dgl.function as fn\n",
    "from dgl.data.utils import load_graphs\n",
    "import networkx as nx\n",
    "import pandas as pd\n",
    "import socket\n",
    "import struct\n",
    "import random\n",
    "from sklearn.preprocessing import LabelEncoder\n",
    "from sklearn.preprocessing import StandardScaler\n",
    "from sklearn.model_selection import train_test_split\n",
    "import seaborn as sns\n",
    "import matplotlib.pyplot as plt\n",
    "import numpy as np"
   ]
  },
  {
   "cell_type": "code",
   "execution_count": 2,
   "id": "5e2d4682",
   "metadata": {},
   "outputs": [
    {
     "name": "stderr",
     "output_type": "stream",
     "text": [
      "/tmp/ipykernel_6283/3993269919.py:1: DtypeWarning: Columns (7,9) have mixed types. Specify dtype option on import or set low_memory=False.\n",
      "  data = pd.read_csv('../../../Untitled Folder 1/bot_iot/bot.csv')\n"
     ]
    }
   ],
   "source": [
    "data = pd.read_csv('../../../Untitled Folder 1/bot_iot/bot.csv')"
   ]
  },
  {
   "cell_type": "code",
   "execution_count": 3,
   "id": "8e64a276",
   "metadata": {},
   "outputs": [],
   "source": [
    "data.drop(columns=['subcategory','pkSeqID','stime','flgs','attack','state','proto','seq','rate','srate','AR_P_Proto_P_DstIP',\n",
    "                   'bytes', 'state_number','Pkts_P_State_P_Protocol_P_SrcIP', 'spkts', 'pkts', 'dbytes', 'mean', 'TnP_PSrcIP',\n",
    "                   'max', 'TnBPSrcIP', 'min', 'drate', 'dpkts', 'flgs_number'],inplace=True)"
   ]
  },
  {
   "cell_type": "code",
   "execution_count": 4,
   "id": "5571cf5b",
   "metadata": {},
   "outputs": [],
   "source": [
    "data.rename(columns={\"category\": \"label\"},inplace = True)"
   ]
  },
  {
   "cell_type": "code",
   "execution_count": 5,
   "id": "d33a9467",
   "metadata": {},
   "outputs": [
    {
     "data": {
      "text/plain": [
       "label\n",
       "DDoS              1926624\n",
       "DoS               1650260\n",
       "Reconnaissance      91082\n",
       "Normal                477\n",
       "Theft                  79\n",
       "Name: count, dtype: int64"
      ]
     },
     "execution_count": 5,
     "metadata": {},
     "output_type": "execute_result"
    }
   ],
   "source": [
    "data.label.value_counts()"
   ]
  },
  {
   "cell_type": "code",
   "execution_count": 6,
   "id": "04e58f5b",
   "metadata": {},
   "outputs": [],
   "source": [
    "le = LabelEncoder()\n",
    "le.fit_transform(data.label.values)\n",
    "data['label'] = le.transform(data['label'])"
   ]
  },
  {
   "cell_type": "code",
   "execution_count": 7,
   "id": "67fcfb80",
   "metadata": {},
   "outputs": [],
   "source": [
    "data['saddr'] = data.saddr.apply(str)\n",
    "data['sport'] = data.sport.apply(str)\n",
    "data['daddr'] = data.daddr.apply(str)\n",
    "data['dport'] = data.dport.apply(str)"
   ]
  },
  {
   "cell_type": "code",
   "execution_count": 8,
   "id": "52e9ec56",
   "metadata": {},
   "outputs": [],
   "source": [
    "data['saddr'] = data['saddr'] + ':' + data['sport']\n",
    "data['daddr'] = data['daddr'] + ':' + data['dport']"
   ]
  },
  {
   "cell_type": "code",
   "execution_count": 9,
   "id": "89ab6f98",
   "metadata": {},
   "outputs": [],
   "source": [
    "data.drop(columns=['sport','dport'],inplace=True)\n",
    "label_ground_truth = data[[\"saddr\", \"daddr\",\"label\"]]\n",
    "# data = pd.get_dummies(data, columns = ['flgs_number','state_number', 'proto_number'])"
   ]
  },
  {
   "cell_type": "code",
   "execution_count": 10,
   "id": "ed721798",
   "metadata": {},
   "outputs": [],
   "source": [
    "data = data.reset_index()\n",
    "data.replace([np.inf, -np.inf], np.nan,inplace = True)"
   ]
  },
  {
   "cell_type": "code",
   "execution_count": 11,
   "id": "ff459681",
   "metadata": {},
   "outputs": [],
   "source": [
    "data.fillna(0,inplace = True)"
   ]
  },
  {
   "cell_type": "code",
   "execution_count": 12,
   "id": "433ae531",
   "metadata": {},
   "outputs": [],
   "source": [
    "label_ground_truth = data[[\"saddr\", \"daddr\",\"label\"]]"
   ]
  },
  {
   "cell_type": "code",
   "execution_count": 13,
   "id": "a17d57a5",
   "metadata": {},
   "outputs": [],
   "source": [
    "data.drop(columns=['index'],inplace=True)"
   ]
  },
  {
   "cell_type": "code",
   "execution_count": 14,
   "id": "cf482003",
   "metadata": {},
   "outputs": [
    {
     "data": {
      "text/html": [
       "<div>\n",
       "<style scoped>\n",
       "    .dataframe tbody tr th:only-of-type {\n",
       "        vertical-align: middle;\n",
       "    }\n",
       "\n",
       "    .dataframe tbody tr th {\n",
       "        vertical-align: top;\n",
       "    }\n",
       "\n",
       "    .dataframe thead th {\n",
       "        text-align: right;\n",
       "    }\n",
       "</style>\n",
       "<table border=\"1\" class=\"dataframe\">\n",
       "  <thead>\n",
       "    <tr style=\"text-align: right;\">\n",
       "      <th></th>\n",
       "      <th>proto_number</th>\n",
       "      <th>saddr</th>\n",
       "      <th>daddr</th>\n",
       "      <th>ltime</th>\n",
       "      <th>dur</th>\n",
       "      <th>stddev</th>\n",
       "      <th>sum</th>\n",
       "      <th>sbytes</th>\n",
       "      <th>TnBPDstIP</th>\n",
       "      <th>TnP_PDstIP</th>\n",
       "      <th>TnP_PerProto</th>\n",
       "      <th>TnP_Per_Dport</th>\n",
       "      <th>AR_P_Proto_P_SrcIP</th>\n",
       "      <th>N_IN_Conn_P_DstIP</th>\n",
       "      <th>N_IN_Conn_P_SrcIP</th>\n",
       "      <th>AR_P_Proto_P_Sport</th>\n",
       "      <th>AR_P_Proto_P_Dport</th>\n",
       "      <th>Pkts_P_State_P_Protocol_P_DestIP</th>\n",
       "      <th>label</th>\n",
       "    </tr>\n",
       "  </thead>\n",
       "  <tbody>\n",
       "    <tr>\n",
       "      <th>0</th>\n",
       "      <td>1</td>\n",
       "      <td>192.168.100.147:49960</td>\n",
       "      <td>192.168.100.7:80</td>\n",
       "      <td>1.528089e+09</td>\n",
       "      <td>7.056393</td>\n",
       "      <td>0.068909</td>\n",
       "      <td>0.137818</td>\n",
       "      <td>650</td>\n",
       "      <td>201841</td>\n",
       "      <td>770</td>\n",
       "      <td>772</td>\n",
       "      <td>772</td>\n",
       "      <td>1.142970</td>\n",
       "      <td>96</td>\n",
       "      <td>75</td>\n",
       "      <td>1.133720</td>\n",
       "      <td>1.129970</td>\n",
       "      <td>770</td>\n",
       "      <td>1</td>\n",
       "    </tr>\n",
       "    <tr>\n",
       "      <th>1</th>\n",
       "      <td>2</td>\n",
       "      <td>192.168.100.7:-1</td>\n",
       "      <td>192.168.100.147:-1</td>\n",
       "      <td>1.528089e+09</td>\n",
       "      <td>0.000131</td>\n",
       "      <td>0.000000</td>\n",
       "      <td>0.000131</td>\n",
       "      <td>60</td>\n",
       "      <td>120</td>\n",
       "      <td>2</td>\n",
       "      <td>8</td>\n",
       "      <td>8</td>\n",
       "      <td>0.003857</td>\n",
       "      <td>1</td>\n",
       "      <td>2</td>\n",
       "      <td>0.005142</td>\n",
       "      <td>0.005142</td>\n",
       "      <td>2</td>\n",
       "      <td>1</td>\n",
       "    </tr>\n",
       "    <tr>\n",
       "      <th>2</th>\n",
       "      <td>1</td>\n",
       "      <td>192.168.100.147:49962</td>\n",
       "      <td>192.168.100.7:80</td>\n",
       "      <td>1.528089e+09</td>\n",
       "      <td>7.047852</td>\n",
       "      <td>0.064494</td>\n",
       "      <td>0.128988</td>\n",
       "      <td>796</td>\n",
       "      <td>201841</td>\n",
       "      <td>770</td>\n",
       "      <td>772</td>\n",
       "      <td>772</td>\n",
       "      <td>1.142970</td>\n",
       "      <td>96</td>\n",
       "      <td>75</td>\n",
       "      <td>1.135100</td>\n",
       "      <td>1.129970</td>\n",
       "      <td>770</td>\n",
       "      <td>1</td>\n",
       "    </tr>\n",
       "    <tr>\n",
       "      <th>3</th>\n",
       "      <td>1</td>\n",
       "      <td>192.168.100.147:49964</td>\n",
       "      <td>192.168.100.7:80</td>\n",
       "      <td>1.528089e+09</td>\n",
       "      <td>7.047592</td>\n",
       "      <td>0.064189</td>\n",
       "      <td>0.128378</td>\n",
       "      <td>694</td>\n",
       "      <td>201841</td>\n",
       "      <td>770</td>\n",
       "      <td>772</td>\n",
       "      <td>772</td>\n",
       "      <td>1.142970</td>\n",
       "      <td>96</td>\n",
       "      <td>75</td>\n",
       "      <td>1.135140</td>\n",
       "      <td>1.129970</td>\n",
       "      <td>770</td>\n",
       "      <td>1</td>\n",
       "    </tr>\n",
       "    <tr>\n",
       "      <th>4</th>\n",
       "      <td>1</td>\n",
       "      <td>192.168.100.147:49966</td>\n",
       "      <td>192.168.100.7:80</td>\n",
       "      <td>1.528089e+09</td>\n",
       "      <td>7.046841</td>\n",
       "      <td>0.063887</td>\n",
       "      <td>0.127774</td>\n",
       "      <td>989</td>\n",
       "      <td>201841</td>\n",
       "      <td>770</td>\n",
       "      <td>772</td>\n",
       "      <td>772</td>\n",
       "      <td>1.142970</td>\n",
       "      <td>96</td>\n",
       "      <td>75</td>\n",
       "      <td>1.135260</td>\n",
       "      <td>1.129970</td>\n",
       "      <td>770</td>\n",
       "      <td>1</td>\n",
       "    </tr>\n",
       "    <tr>\n",
       "      <th>...</th>\n",
       "      <td>...</td>\n",
       "      <td>...</td>\n",
       "      <td>...</td>\n",
       "      <td>...</td>\n",
       "      <td>...</td>\n",
       "      <td>...</td>\n",
       "      <td>...</td>\n",
       "      <td>...</td>\n",
       "      <td>...</td>\n",
       "      <td>...</td>\n",
       "      <td>...</td>\n",
       "      <td>...</td>\n",
       "      <td>...</td>\n",
       "      <td>...</td>\n",
       "      <td>...</td>\n",
       "      <td>...</td>\n",
       "      <td>...</td>\n",
       "      <td>...</td>\n",
       "      <td>...</td>\n",
       "    </tr>\n",
       "    <tr>\n",
       "      <th>3668517</th>\n",
       "      <td>1</td>\n",
       "      <td>192.168.100.150:35064</td>\n",
       "      <td>192.168.100.3:22</td>\n",
       "      <td>1.529381e+09</td>\n",
       "      <td>0.013165</td>\n",
       "      <td>0.000000</td>\n",
       "      <td>0.013165</td>\n",
       "      <td>228</td>\n",
       "      <td>79240</td>\n",
       "      <td>471</td>\n",
       "      <td>475</td>\n",
       "      <td>471</td>\n",
       "      <td>9.889330</td>\n",
       "      <td>19</td>\n",
       "      <td>19</td>\n",
       "      <td>455.754000</td>\n",
       "      <td>9.889330</td>\n",
       "      <td>30</td>\n",
       "      <td>4</td>\n",
       "    </tr>\n",
       "    <tr>\n",
       "      <th>3668518</th>\n",
       "      <td>1</td>\n",
       "      <td>192.168.100.150:35066</td>\n",
       "      <td>192.168.100.3:22</td>\n",
       "      <td>1.529381e+09</td>\n",
       "      <td>0.000574</td>\n",
       "      <td>0.000000</td>\n",
       "      <td>0.000574</td>\n",
       "      <td>228</td>\n",
       "      <td>79240</td>\n",
       "      <td>471</td>\n",
       "      <td>475</td>\n",
       "      <td>471</td>\n",
       "      <td>9.889330</td>\n",
       "      <td>19</td>\n",
       "      <td>19</td>\n",
       "      <td>10453.000000</td>\n",
       "      <td>9.889330</td>\n",
       "      <td>30</td>\n",
       "      <td>4</td>\n",
       "    </tr>\n",
       "    <tr>\n",
       "      <th>3668519</th>\n",
       "      <td>1</td>\n",
       "      <td>192.168.100.150:35070</td>\n",
       "      <td>192.168.100.3:22</td>\n",
       "      <td>1.529381e+09</td>\n",
       "      <td>2.874302</td>\n",
       "      <td>0.000000</td>\n",
       "      <td>2.874302</td>\n",
       "      <td>1802</td>\n",
       "      <td>79240</td>\n",
       "      <td>471</td>\n",
       "      <td>475</td>\n",
       "      <td>471</td>\n",
       "      <td>9.889330</td>\n",
       "      <td>19</td>\n",
       "      <td>19</td>\n",
       "      <td>10.785200</td>\n",
       "      <td>9.889330</td>\n",
       "      <td>441</td>\n",
       "      <td>4</td>\n",
       "    </tr>\n",
       "    <tr>\n",
       "      <th>3668520</th>\n",
       "      <td>1</td>\n",
       "      <td>192.168.100.3:43001</td>\n",
       "      <td>192.168.100.150:4433</td>\n",
       "      <td>1.529381e+09</td>\n",
       "      <td>0.000003</td>\n",
       "      <td>0.000000</td>\n",
       "      <td>0.000003</td>\n",
       "      <td>74</td>\n",
       "      <td>134</td>\n",
       "      <td>2</td>\n",
       "      <td>475</td>\n",
       "      <td>4</td>\n",
       "      <td>22346.400000</td>\n",
       "      <td>1</td>\n",
       "      <td>3</td>\n",
       "      <td>666667.000000</td>\n",
       "      <td>22346.400000</td>\n",
       "      <td>2</td>\n",
       "      <td>4</td>\n",
       "    </tr>\n",
       "    <tr>\n",
       "      <th>3668521</th>\n",
       "      <td>2</td>\n",
       "      <td>192.168.100.3:-1</td>\n",
       "      <td>192.168.100.149:-1</td>\n",
       "      <td>1.529382e+09</td>\n",
       "      <td>848.002686</td>\n",
       "      <td>0.000056</td>\n",
       "      <td>0.001160</td>\n",
       "      <td>480</td>\n",
       "      <td>1094</td>\n",
       "      <td>18</td>\n",
       "      <td>16</td>\n",
       "      <td>16</td>\n",
       "      <td>0.018868</td>\n",
       "      <td>2</td>\n",
       "      <td>3</td>\n",
       "      <td>0.018868</td>\n",
       "      <td>0.018868</td>\n",
       "      <td>16</td>\n",
       "      <td>4</td>\n",
       "    </tr>\n",
       "  </tbody>\n",
       "</table>\n",
       "<p>3668522 rows × 19 columns</p>\n",
       "</div>"
      ],
      "text/plain": [
       "         proto_number                  saddr                 daddr  \\\n",
       "0                   1  192.168.100.147:49960      192.168.100.7:80   \n",
       "1                   2       192.168.100.7:-1    192.168.100.147:-1   \n",
       "2                   1  192.168.100.147:49962      192.168.100.7:80   \n",
       "3                   1  192.168.100.147:49964      192.168.100.7:80   \n",
       "4                   1  192.168.100.147:49966      192.168.100.7:80   \n",
       "...               ...                    ...                   ...   \n",
       "3668517             1  192.168.100.150:35064      192.168.100.3:22   \n",
       "3668518             1  192.168.100.150:35066      192.168.100.3:22   \n",
       "3668519             1  192.168.100.150:35070      192.168.100.3:22   \n",
       "3668520             1    192.168.100.3:43001  192.168.100.150:4433   \n",
       "3668521             2       192.168.100.3:-1    192.168.100.149:-1   \n",
       "\n",
       "                ltime         dur    stddev       sum  sbytes  TnBPDstIP  \\\n",
       "0        1.528089e+09    7.056393  0.068909  0.137818     650     201841   \n",
       "1        1.528089e+09    0.000131  0.000000  0.000131      60        120   \n",
       "2        1.528089e+09    7.047852  0.064494  0.128988     796     201841   \n",
       "3        1.528089e+09    7.047592  0.064189  0.128378     694     201841   \n",
       "4        1.528089e+09    7.046841  0.063887  0.127774     989     201841   \n",
       "...               ...         ...       ...       ...     ...        ...   \n",
       "3668517  1.529381e+09    0.013165  0.000000  0.013165     228      79240   \n",
       "3668518  1.529381e+09    0.000574  0.000000  0.000574     228      79240   \n",
       "3668519  1.529381e+09    2.874302  0.000000  2.874302    1802      79240   \n",
       "3668520  1.529381e+09    0.000003  0.000000  0.000003      74        134   \n",
       "3668521  1.529382e+09  848.002686  0.000056  0.001160     480       1094   \n",
       "\n",
       "         TnP_PDstIP  TnP_PerProto  TnP_Per_Dport  AR_P_Proto_P_SrcIP  \\\n",
       "0               770           772            772            1.142970   \n",
       "1                 2             8              8            0.003857   \n",
       "2               770           772            772            1.142970   \n",
       "3               770           772            772            1.142970   \n",
       "4               770           772            772            1.142970   \n",
       "...             ...           ...            ...                 ...   \n",
       "3668517         471           475            471            9.889330   \n",
       "3668518         471           475            471            9.889330   \n",
       "3668519         471           475            471            9.889330   \n",
       "3668520           2           475              4        22346.400000   \n",
       "3668521          18            16             16            0.018868   \n",
       "\n",
       "         N_IN_Conn_P_DstIP  N_IN_Conn_P_SrcIP  AR_P_Proto_P_Sport  \\\n",
       "0                       96                 75            1.133720   \n",
       "1                        1                  2            0.005142   \n",
       "2                       96                 75            1.135100   \n",
       "3                       96                 75            1.135140   \n",
       "4                       96                 75            1.135260   \n",
       "...                    ...                ...                 ...   \n",
       "3668517                 19                 19          455.754000   \n",
       "3668518                 19                 19        10453.000000   \n",
       "3668519                 19                 19           10.785200   \n",
       "3668520                  1                  3       666667.000000   \n",
       "3668521                  2                  3            0.018868   \n",
       "\n",
       "         AR_P_Proto_P_Dport  Pkts_P_State_P_Protocol_P_DestIP  label  \n",
       "0                  1.129970                               770      1  \n",
       "1                  0.005142                                 2      1  \n",
       "2                  1.129970                               770      1  \n",
       "3                  1.129970                               770      1  \n",
       "4                  1.129970                               770      1  \n",
       "...                     ...                               ...    ...  \n",
       "3668517            9.889330                                30      4  \n",
       "3668518            9.889330                                30      4  \n",
       "3668519            9.889330                               441      4  \n",
       "3668520        22346.400000                                 2      4  \n",
       "3668521            0.018868                                16      4  \n",
       "\n",
       "[3668522 rows x 19 columns]"
      ]
     },
     "execution_count": 14,
     "metadata": {},
     "output_type": "execute_result"
    }
   ],
   "source": [
    "data"
   ]
  },
  {
   "cell_type": "code",
   "execution_count": 15,
   "id": "8254a540",
   "metadata": {},
   "outputs": [],
   "source": [
    "scaler = StandardScaler()\n",
    "cols_to_norm = ['stddev',\n",
    " 'dur',\n",
    " 'ltime',\n",
    " 'AR_P_Proto_P_Dport',\n",
    " 'sum',\n",
    " 'TnBPDstIP',\n",
    " 'sbytes',\n",
    " 'N_IN_Conn_P_SrcIP',\n",
    " 'N_IN_Conn_P_DstIP',\n",
    " 'TnP_PDstIP',\n",
    " 'AR_P_Proto_P_Sport',\n",
    " 'proto_number',\n",
    " 'TnP_Per_Dport',\n",
    " 'Pkts_P_State_P_Protocol_P_DestIP',\n",
    " 'AR_P_Proto_P_SrcIP',\n",
    " 'TnP_PerProto']\n",
    "data[cols_to_norm] = scaler.fit_transform(data[cols_to_norm])"
   ]
  },
  {
   "cell_type": "code",
   "execution_count": 16,
   "id": "9d1077b9",
   "metadata": {},
   "outputs": [],
   "source": [
    "X_train, X_test, y_train, y_test = train_test_split(\n",
    "     data, label_ground_truth, test_size=0.3, random_state=123, stratify=label_ground_truth.label)"
   ]
  },
  {
   "cell_type": "code",
   "execution_count": 17,
   "id": "7fe94c49",
   "metadata": {},
   "outputs": [],
   "source": [
    "X_train['h'] = X_train[cols_to_norm].values.tolist()"
   ]
  },
  {
   "cell_type": "code",
   "execution_count": 18,
   "id": "a2e18d0a",
   "metadata": {},
   "outputs": [],
   "source": [
    "G = nx.from_pandas_edgelist(X_train, \"daddr\", \"saddr\",  ['h','label'],create_using=nx.MultiDiGraph)"
   ]
  },
  {
   "cell_type": "code",
   "execution_count": 19,
   "id": "243b162a",
   "metadata": {},
   "outputs": [
    {
     "data": {
      "text/plain": [
       "2567965"
      ]
     },
     "execution_count": 19,
     "metadata": {},
     "output_type": "execute_result"
    }
   ],
   "source": [
    "G.number_of_edges()"
   ]
  },
  {
   "cell_type": "code",
   "execution_count": 20,
   "id": "c57829fc",
   "metadata": {},
   "outputs": [],
   "source": [
    "G1 = nx.from_pandas_edgelist(X_train, \"daddr\", \"saddr\",create_using=nx.MultiGraph)"
   ]
  },
  {
   "cell_type": "code",
   "execution_count": 21,
   "id": "4be730fd",
   "metadata": {},
   "outputs": [
    {
     "data": {
      "text/plain": [
       "2567965"
      ]
     },
     "execution_count": 21,
     "metadata": {},
     "output_type": "execute_result"
    }
   ],
   "source": [
    "G1.number_of_edges()"
   ]
  },
  {
   "cell_type": "code",
   "execution_count": 22,
   "id": "7ce96131",
   "metadata": {},
   "outputs": [],
   "source": [
    "G1 = G1.to_directed()"
   ]
  },
  {
   "cell_type": "code",
   "execution_count": 23,
   "id": "6e95b662",
   "metadata": {},
   "outputs": [],
   "source": [
    "G = from_networkx(G,edge_attrs=['h','label'] )"
   ]
  },
  {
   "cell_type": "code",
   "execution_count": 24,
   "id": "93f07ada",
   "metadata": {},
   "outputs": [],
   "source": [
    "G1 = from_networkx(G1)"
   ]
  },
  {
   "cell_type": "code",
   "execution_count": 25,
   "id": "45529e06",
   "metadata": {},
   "outputs": [],
   "source": [
    "G1 = dgl.add_self_loop(G1)"
   ]
  },
  {
   "cell_type": "code",
   "execution_count": 26,
   "id": "b72e45cb",
   "metadata": {},
   "outputs": [],
   "source": [
    "G.edata['train_mask'] = th.ones(len(G.edata['h']), dtype=th.bool)"
   ]
  },
  {
   "cell_type": "code",
   "execution_count": 27,
   "id": "b508c6ae",
   "metadata": {},
   "outputs": [
    {
     "data": {
      "text/plain": [
       "Graph(num_nodes=272559, num_edges=2567965,\n",
       "      ndata_schemes={}\n",
       "      edata_schemes={'h': Scheme(shape=(16,), dtype=torch.float32), 'label': Scheme(shape=(), dtype=torch.int64), 'train_mask': Scheme(shape=(), dtype=torch.bool)})"
      ]
     },
     "execution_count": 27,
     "metadata": {},
     "output_type": "execute_result"
    }
   ],
   "source": [
    "G"
   ]
  },
  {
   "cell_type": "code",
   "execution_count": 28,
   "id": "262f60cc",
   "metadata": {},
   "outputs": [
    {
     "data": {
      "text/plain": [
       "Graph(num_nodes=272559, num_edges=5408489,\n",
       "      ndata_schemes={}\n",
       "      edata_schemes={})"
      ]
     },
     "execution_count": 28,
     "metadata": {},
     "output_type": "execute_result"
    }
   ],
   "source": [
    "G1"
   ]
  },
  {
   "cell_type": "code",
   "execution_count": 29,
   "id": "f02ca8ca",
   "metadata": {},
   "outputs": [],
   "source": [
    "from dgl.data.utils import save_graphs, load_graphs\n",
    "save_graphs(\"G.bin\", [G])\n",
    "save_graphs(\"G1.bin\", [G])"
   ]
  },
  {
   "cell_type": "code",
   "execution_count": null,
   "id": "664c93dd",
   "metadata": {},
   "outputs": [],
   "source": []
  },
  {
   "cell_type": "code",
   "execution_count": 30,
   "id": "b4f371d5",
   "metadata": {},
   "outputs": [],
   "source": [
    "def compute_accuracy(pred, labels):\n",
    "    return (pred.argmax(1) == labels).float().mean().item()"
   ]
  },
  {
   "cell_type": "code",
   "execution_count": 31,
   "id": "51ca4453",
   "metadata": {},
   "outputs": [],
   "source": [
    "from dgl.utils import expand_as_pair\n",
    "from dgl.nn.functional import edge_softmax\n",
    "class GATConv(nn.Module):\n",
    "    def __init__(\n",
    "        self,\n",
    "        in_feats,\n",
    "        out_feats,\n",
    "        feat_drop=0.0,\n",
    "        attn_drop=0.0,\n",
    "        negative_slope=0.2,\n",
    "    ):\n",
    "        super(GATConv, self).__init__()\n",
    "        self._in_src_feats, self._in_dst_feats = expand_as_pair(in_feats)\n",
    "        self._out_feats = out_feats\n",
    "        \n",
    "        self.fc = nn.Linear(\n",
    "            self._in_src_feats, out_feats, bias=False\n",
    "        )\n",
    "        \n",
    "        self.attn = nn.Parameter(\n",
    "            th.FloatTensor(size=(1, out_feats))\n",
    "        )\n",
    "\n",
    "        self.feat_drop = nn.Dropout(feat_drop)\n",
    "        self.attn_drop = nn.Dropout(attn_drop)\n",
    "        self.leaky_relu = nn.LeakyReLU(negative_slope)\n",
    "\n",
    "        \n",
    "        self.reset_parameters()\n",
    "       \n",
    "    \n",
    "    def reset_parameters(self):\n",
    "        gain = nn.init.calculate_gain('relu')\n",
    "        \n",
    "        nn.init.xavier_normal_(self.fc.weight, gain=gain)\n",
    "\n",
    "        nn.init.xavier_normal_(self.attn, gain=gain)\n",
    "\n",
    "    \n",
    "    def message_func(self, edges):\n",
    "        return {'m': edges.data['a'] * edges.data['ft']}\n",
    "    \n",
    "    def forward(self, graph, efeat):\n",
    "        with graph.local_scope(): \n",
    "            efeat = self.feat_drop(efeat)\n",
    "            efeat = self.fc(efeat)\n",
    "            graph.edata['ft'] = efeat\n",
    "            e = (efeat * self.attn).sum(dim=-1).unsqueeze(-1)\n",
    "            graph.edata['e']= e         \n",
    "            e = self.leaky_relu(graph.edata.pop('e'))\n",
    "            graph.edata['a'] = self.attn_drop(edge_softmax(graph, e))\n",
    "            # message passing\n",
    "            graph.update_all(self.message_func, fn.sum('m', 'ft'))\n",
    "            rst = graph.ndata['ft']\n",
    "            return rst,efeat"
   ]
  },
  {
   "cell_type": "code",
   "execution_count": 32,
   "id": "932a0c7b",
   "metadata": {},
   "outputs": [],
   "source": [
    "class MLPPredictor(nn.Module):\n",
    "    def __init__(self, in_features, out_classes):\n",
    "        super().__init__()\n",
    "        self.W = nn.Linear(in_features * 3, out_classes)\n",
    "\n",
    "    def apply_edges(self, edges):\n",
    "        h_u = edges.src['h']\n",
    "        h_v = edges.dst['h']\n",
    "        h_e = edges.data['e']\n",
    "        score = self.W(th.cat([h_u, h_v, h_e], 1))\n",
    "        return {'score': score}\n",
    "\n",
    "    def forward(self, graph, h, e):\n",
    "        with graph.local_scope():\n",
    "            graph.ndata['h'] = h\n",
    "            graph.edata['e'] = e\n",
    "            graph.apply_edges(self.apply_edges)\n",
    "            return graph.edata['score']"
   ]
  },
  {
   "cell_type": "code",
   "execution_count": 33,
   "id": "d490b863",
   "metadata": {},
   "outputs": [],
   "source": [
    "class SAGEConv(nn.Module):\n",
    "   \n",
    "    def __init__(\n",
    "        self,\n",
    "        in_feats,\n",
    "        out_feats,\n",
    "        k=2,\n",
    "        feat_drop=0.2,\n",
    "        cached=False,\n",
    "        bias=True,\n",
    "    ):\n",
    "        super(SAGEConv, self).__init__()\n",
    "        self.fc = nn.Linear(in_feats, out_feats, bias=bias)\n",
    "        self._k = k\n",
    "        self.feat_drop = nn.Dropout(feat_drop)\n",
    "        self.reset_parameters()\n",
    "\n",
    "\n",
    "    def reset_parameters(self):\n",
    "        nn.init.xavier_uniform_(self.fc.weight)\n",
    "        if self.fc.bias is not None:\n",
    "            nn.init.zeros_(self.fc.bias)\n",
    "        \n",
    "    def forward(self, graph, feat, edge_weight=None):\n",
    "        with graph.local_scope():\n",
    "          \n",
    "            msg_fn = fn.copy_u(\"h\", \"m\")\n",
    "            \n",
    "            for _ in range(self._k):\n",
    "                h_self = self.feat_drop(feat)\n",
    "                graph.ndata[\"h\"] = h_self\n",
    "                graph.update_all(msg_fn, fn.mean(\"m\", \"neigh\"))\n",
    "#                 feat = self.feat_drop(graph.ndata.pop(\"neigh\"))\n",
    "                h_neigh = graph.ndata.pop(\"neigh\")\n",
    "                feat = h_neigh\n",
    "            return self.fc(feat)"
   ]
  },
  {
   "cell_type": "code",
   "execution_count": 34,
   "id": "c6d4a108",
   "metadata": {},
   "outputs": [],
   "source": [
    "class Model(nn.Module):\n",
    "    def __init__(self, edim_in, edim_out, ndim_out):\n",
    "        super().__init__()\n",
    "        self.gat = GATConv(edim_in, ndim_out)\n",
    "        self.conv1 = SAGEConv(ndim_out, edim_out, k=2)\n",
    "        self.pred = MLPPredictor(edim_out, 5)\n",
    "    def forward(self, g, g1, efeats):\n",
    "        h,e = self.gat(g, efeats)\n",
    "        h = F.relu(h)\n",
    "        h = self.conv1(g1, h)\n",
    "        return self.pred(g, h, e),h"
   ]
  },
  {
   "cell_type": "code",
   "execution_count": 35,
   "id": "59a50b08",
   "metadata": {},
   "outputs": [],
   "source": [
    "class MLP(nn.Module):\n",
    "    def __init__(self, in_features, out_classes):\n",
    "        super().__init__()\n",
    "        self.W = nn.Linear(in_features, out_classes)\n",
    "        self.feat_drop = nn.Dropout(0.1)\n",
    "\n",
    "\n",
    "    def forward(self, h):\n",
    "        return self.feat_drop(self.W(h))"
   ]
  },
  {
   "cell_type": "code",
   "execution_count": 36,
   "id": "cc5de6af",
   "metadata": {},
   "outputs": [],
   "source": [
    "class Model1(nn.Module):\n",
    "    def __init__(self, edim_in, edim_out, ndim_out):\n",
    "        super().__init__()\n",
    "        self.gat = GATConv(edim_in, ndim_out)\n",
    "        self.conv1 = MLP(ndim_out, edim_out)\n",
    "        self.pred = MLPPredictor(edim_out, 5)\n",
    "    def forward(self, g, efeats):\n",
    "        h,e = self.gat(g, efeats)\n",
    "        h = F.relu(h)\n",
    "        h = self.conv1(h)\n",
    "        return self.pred(g, h, e),h"
   ]
  },
  {
   "cell_type": "code",
   "execution_count": 37,
   "id": "a72acb01",
   "metadata": {},
   "outputs": [],
   "source": [
    "criterion = nn.CrossEntropyLoss()\n",
    "criterion1 = nn.KLDivLoss(reduction='batchmean')"
   ]
  },
  {
   "cell_type": "code",
   "execution_count": 38,
   "id": "75e09b2e",
   "metadata": {},
   "outputs": [],
   "source": [
    "teacher = torch.load('model.pth')"
   ]
  },
  {
   "cell_type": "code",
   "execution_count": 39,
   "id": "d2804d1c",
   "metadata": {},
   "outputs": [],
   "source": [
    "G = G.to('cuda:0')\n",
    "G1 = G1.to('cuda:0')"
   ]
  },
  {
   "cell_type": "code",
   "execution_count": 40,
   "id": "58996abc",
   "metadata": {
    "scrolled": false
   },
   "outputs": [
    {
     "name": "stdout",
     "output_type": "stream",
     "text": [
      "epoc:100 Training acc:0.7874188423156738 loss:0.7772988080978394\n",
      "epoc:200 Training acc:0.8852371573448181 loss:0.4650796055793762\n",
      "epoc:300 Training acc:0.8957135081291199 loss:0.3463500440120697\n",
      "epoc:400 Training acc:0.9362853169441223 loss:0.2625461220741272\n",
      "epoc:500 Training acc:0.9447017312049866 loss:0.24185019731521606\n",
      "epoc:600 Training acc:0.9510433077812195 loss:0.2153649479150772\n",
      "epoc:700 Training acc:0.9560083150863647 loss:0.20833607017993927\n",
      "epoc:800 Training acc:0.9513587355613708 loss:0.1971801519393921\n",
      "epoc:900 Training acc:0.9618659019470215 loss:0.1885497123003006\n",
      "epoc:1000 Training acc:0.9542123675346375 loss:0.1815098226070404\n",
      "epoc:1100 Training acc:0.9504615664482117 loss:0.17878161370754242\n",
      "epoc:1200 Training acc:0.9568222165107727 loss:0.17294654250144958\n",
      "epoc:1300 Training acc:0.9589200019836426 loss:0.1665685921907425\n",
      "epoc:1400 Training acc:0.965560257434845 loss:0.16532719135284424\n",
      "epoc:1500 Training acc:0.9628094434738159 loss:0.16058063507080078\n",
      "epoc:1600 Training acc:0.9574347734451294 loss:0.16267958283424377\n",
      "epoc:1700 Training acc:0.9634426236152649 loss:0.1605140119791031\n",
      "epoc:1800 Training acc:0.966458261013031 loss:0.15170110762119293\n",
      "epoc:1900 Training acc:0.9688398838043213 loss:0.14714480936527252\n",
      "epoc:2000 Training acc:0.9638075232505798 loss:0.14743652939796448\n",
      "epoc:2100 Training acc:0.9684049487113953 loss:0.1416110247373581\n",
      "epoc:2200 Training acc:0.9625504612922668 loss:0.14351311326026917\n",
      "epoc:2300 Training acc:0.9698920845985413 loss:0.13776446878910065\n",
      "epoc:2400 Training acc:0.9714555740356445 loss:0.1334933489561081\n",
      "epoc:2500 Training acc:0.9720218181610107 loss:0.13705334067344666\n",
      "epoc:2600 Training acc:0.9736039638519287 loss:0.12861713767051697\n",
      "epoc:2700 Training acc:0.962497889995575 loss:0.13999496400356293\n",
      "epoc:2800 Training acc:0.9686670303344727 loss:0.12521424889564514\n",
      "epoc:2900 Training acc:0.9748625755310059 loss:0.12456007301807404\n",
      "epoc:3000 Training acc:0.9733501076698303 loss:0.11932559311389923\n",
      "epoc:3100 Training acc:0.9758832454681396 loss:0.11758048832416534\n",
      "epoc:3200 Training acc:0.9762111306190491 loss:0.11378777027130127\n",
      "epoc:3300 Training acc:0.9760097861289978 loss:0.11456017196178436\n",
      "epoc:3400 Training acc:0.978393018245697 loss:0.11039964854717255\n",
      "epoc:3500 Training acc:0.9786994457244873 loss:0.10946804285049438\n",
      "epoc:3600 Training acc:0.978964626789093 loss:0.10456445813179016\n",
      "epoc:3700 Training acc:0.9781893491744995 loss:0.10357052087783813\n",
      "epoc:3800 Training acc:0.982008695602417 loss:0.10067030787467957\n",
      "epoc:3900 Training acc:0.9864270091056824 loss:0.10075746476650238\n",
      "epoc:4000 Training acc:0.9833813905715942 loss:0.0977243036031723\n",
      "epoc:4100 Training acc:0.9798163175582886 loss:0.09553752839565277\n",
      "epoc:4200 Training acc:0.9894986748695374 loss:0.10234809666872025\n",
      "epoc:4300 Training acc:0.9865154027938843 loss:0.09106998145580292\n",
      "epoc:4400 Training acc:0.9922413229942322 loss:0.08938542008399963\n",
      "epoc:4500 Training acc:0.9950832724571228 loss:0.08978196978569031\n",
      "epoc:4600 Training acc:0.9882875680923462 loss:0.08587619662284851\n",
      "epoc:4700 Training acc:0.9941880106925964 loss:0.08557548373937607\n",
      "epoc:4800 Training acc:0.989692211151123 loss:0.08386114984750748\n",
      "epoc:4900 Training acc:0.9968071579933167 loss:0.08159402757883072\n",
      "epoc:5000 Training acc:0.997368335723877 loss:0.08239450305700302\n",
      "epoc:5100 Training acc:0.995251476764679 loss:0.078843854367733\n",
      "epoc:5200 Training acc:0.996071994304657 loss:0.07815215736627579\n",
      "epoc:5300 Training acc:0.9967102408409119 loss:0.0768149197101593\n",
      "epoc:5400 Training acc:0.9971206784248352 loss:0.07555718719959259\n",
      "epoc:5500 Training acc:0.9973122477531433 loss:0.07652948796749115\n",
      "epoc:5600 Training acc:0.9982079267501831 loss:0.07373234629631042\n",
      "epoc:5700 Training acc:0.9967102408409119 loss:0.07316575944423676\n",
      "epoc:5800 Training acc:0.9980361461639404 loss:0.07332970947027206\n",
      "epoc:5900 Training acc:0.998730480670929 loss:0.07263726741075516\n",
      "epoc:6000 Training acc:0.998450517654419 loss:0.07014934718608856\n",
      "epoc:6100 Training acc:0.9988991022109985 loss:0.07016922533512115\n",
      "epoc:6200 Training acc:0.9986136555671692 loss:0.0689081996679306\n",
      "epoc:6300 Training acc:0.9988235831260681 loss:0.06834681332111359\n",
      "epoc:6400 Training acc:0.9988508224487305 loss:0.06800560653209686\n",
      "epoc:6500 Training acc:0.9987269639968872 loss:0.06720846146345139\n",
      "epoc:6600 Training acc:0.9989991784095764 loss:0.06655441224575043\n",
      "epoc:6700 Training acc:0.9988858699798584 loss:0.06571047008037567\n",
      "epoc:6800 Training acc:0.9989610314369202 loss:0.06648021936416626\n",
      "epoc:6900 Training acc:0.9985252618789673 loss:0.06743502616882324\n",
      "epoc:7000 Training acc:0.9739548563957214 loss:0.09754826128482819\n",
      "epoc:7100 Training acc:0.9990330934524536 loss:0.06359054148197174\n",
      "epoc:7200 Training acc:0.9990057945251465 loss:0.06407658755779266\n",
      "epoc:7300 Training acc:0.9990350008010864 loss:0.06284922361373901\n",
      "epoc:7400 Training acc:0.9990440011024475 loss:0.06224961578845978\n",
      "epoc:7500 Training acc:0.9990934133529663 loss:0.06137942895293236\n",
      "epoc:7600 Training acc:0.9988625049591064 loss:0.06335928291082382\n",
      "epoc:7700 Training acc:0.9983710646629333 loss:0.06271952390670776\n",
      "epoc:7800 Training acc:0.9990248680114746 loss:0.060486145317554474\n",
      "epoc:7900 Training acc:0.9991276860237122 loss:0.06129060685634613\n",
      "epoc:8000 Training acc:0.9991580843925476 loss:0.058761440217494965\n",
      "epoc:8100 Training acc:0.999226987361908 loss:0.059189215302467346\n",
      "epoc:8200 Training acc:0.9990836977958679 loss:0.05848344415426254\n",
      "epoc:8300 Training acc:0.9991927146911621 loss:0.05765647441148758\n",
      "epoc:8400 Training acc:0.9992678761482239 loss:0.05760268121957779\n",
      "epoc:8500 Training acc:0.9987491965293884 loss:0.059955790638923645\n",
      "epoc:8600 Training acc:0.9989337921142578 loss:0.057887401431798935\n",
      "epoc:8700 Training acc:0.9992939829826355 loss:0.05602635070681572\n",
      "epoc:8800 Training acc:0.9993204474449158 loss:0.055329203605651855\n",
      "epoc:8900 Training acc:0.9991050958633423 loss:0.05557635426521301\n",
      "epoc:9000 Training acc:0.9993165731430054 loss:0.05538685992360115\n",
      "epoc:9100 Training acc:0.9992889165878296 loss:0.055138081312179565\n",
      "epoc:9200 Training acc:0.9993188977241516 loss:0.054416391998529434\n",
      "epoc:9300 Training acc:0.9992200136184692 loss:0.0543854720890522\n",
      "epoc:9400 Training acc:0.9991705417633057 loss:0.05469144508242607\n",
      "epoc:9500 Training acc:0.9993488788604736 loss:0.05351248010993004\n",
      "epoc:9600 Training acc:0.9992861747741699 loss:0.05359891429543495\n",
      "epoc:9700 Training acc:0.9992488026618958 loss:0.053748004138469696\n",
      "epoc:9800 Training acc:0.9993851184844971 loss:0.052812885493040085\n",
      "epoc:9900 Training acc:0.9994158744812012 loss:0.05250546336174011\n",
      "epoc:10000 Training acc:0.9992238879203796 loss:0.05331936851143837\n",
      "epoc:10100 Training acc:0.9930625557899475 loss:0.062452785670757294\n",
      "epoc:10200 Training acc:0.9991537928581238 loss:0.05239096283912659\n",
      "epoc:10300 Training acc:0.9993800520896912 loss:0.0515097975730896\n",
      "epoc:10400 Training acc:0.9991740584373474 loss:0.05475728586316109\n",
      "epoc:10500 Training acc:0.999387800693512 loss:0.051987405866384506\n",
      "epoc:10600 Training acc:0.9991599917411804 loss:0.052361808717250824\n",
      "epoc:10700 Training acc:0.9994263648986816 loss:0.051385000348091125\n",
      "epoc:10800 Training acc:0.9992246627807617 loss:0.051508836448192596\n",
      "epoc:10900 Training acc:0.9994193911552429 loss:0.05120232701301575\n",
      "epoc:11000 Training acc:0.9994575381278992 loss:0.050463490188121796\n",
      "epoc:11100 Training acc:0.9992784261703491 loss:0.05079474672675133\n",
      "epoc:11200 Training acc:0.9994454383850098 loss:0.05045125633478165\n",
      "epoc:11300 Training acc:0.9993025660514832 loss:0.05057968199253082\n",
      "epoc:11400 Training acc:0.9992192387580872 loss:0.050701867789030075\n",
      "epoc:11500 Training acc:0.9994746446609497 loss:0.04971705377101898\n",
      "epoc:11600 Training acc:0.9994536638259888 loss:0.049754224717617035\n",
      "epoc:11700 Training acc:0.9994509220123291 loss:0.05003298819065094\n",
      "epoc:11800 Training acc:0.9994181990623474 loss:0.04956626892089844\n",
      "epoc:11900 Training acc:0.9994532465934753 loss:0.049940325319767\n",
      "程序执行时间为：923.2388756275177 秒\n"
     ]
    }
   ],
   "source": [
    "import time\n",
    "start_time = time.time()\n",
    "\n",
    "edge_features = G.edata['h']\n",
    "\n",
    "edge_label = G.edata['label']\n",
    "train_mask = G.edata['train_mask']\n",
    "\n",
    "model = Model1(G.edata['h'].shape[1], 8, 8).cuda()\n",
    "opt = th.optim.Adam(model.parameters())\n",
    "\n",
    "with torch.no_grad():\n",
    "    out_t, h_feature_t = teacher(G, G1, edge_features)\n",
    "\n",
    "for epoch in range(1,12000):\n",
    "    pred,h_feature_s = model(G, edge_features)\n",
    "    loss_h = criterion(pred[train_mask] ,edge_label[train_mask])\n",
    "    loss_t1 = criterion1(F.log_softmax(h_feature_s, dim=1) ,F.softmax(h_feature_t, dim=1))\n",
    "#     loss_t2= criterion1(F.log_softmax(pred, dim=1) ,F.softmax(out_t, dim=1))\n",
    "    loss = 0.7*loss_h + 0.3*loss_t1\n",
    "    opt.zero_grad()\n",
    "    loss.backward()\n",
    "    opt.step()\n",
    "    if epoch % 100 == 0:\n",
    "        print('epoc:{} Training acc:{} loss:{}'.format(epoch, compute_accuracy(pred[train_mask], edge_label[train_mask]), loss))\n",
    "        \n",
    "end_time = time.time()\n",
    "execution_time = end_time - start_time\n",
    "print(f\"程序执行时间为：{execution_time} 秒\")"
   ]
  },
  {
   "cell_type": "code",
   "execution_count": 41,
   "id": "19bb85bc",
   "metadata": {},
   "outputs": [
    {
     "data": {
      "text/plain": [
       "tensor(0.0124, device='cuda:0', grad_fn=<NllLossBackward0>)"
      ]
     },
     "execution_count": 41,
     "metadata": {},
     "output_type": "execute_result"
    }
   ],
   "source": [
    "loss_h"
   ]
  },
  {
   "cell_type": "code",
   "execution_count": 43,
   "id": "07477c0c",
   "metadata": {},
   "outputs": [
    {
     "data": {
      "text/plain": [
       "tensor(0.1388, device='cuda:0', grad_fn=<DivBackward0>)"
      ]
     },
     "execution_count": 43,
     "metadata": {},
     "output_type": "execute_result"
    }
   ],
   "source": [
    "loss_t1"
   ]
  },
  {
   "cell_type": "code",
   "execution_count": 44,
   "id": "d9103c49",
   "metadata": {},
   "outputs": [],
   "source": [
    "X_test['h'] = X_test[ cols_to_norm ].values.tolist()"
   ]
  },
  {
   "cell_type": "code",
   "execution_count": 45,
   "id": "79ca777c",
   "metadata": {},
   "outputs": [],
   "source": [
    "G_test = nx.from_pandas_edgelist(X_test, \"daddr\", \"saddr\", ['h','label'],create_using=nx.MultiDiGraph)\n",
    "G_test = from_networkx(G_test, edge_attrs=['h','label'])\n",
    "actual = G_test.edata.pop('label')"
   ]
  },
  {
   "cell_type": "code",
   "execution_count": 46,
   "id": "0584a8b9",
   "metadata": {},
   "outputs": [],
   "source": [
    "save_graphs(\"G_test.bin\", [G_test])"
   ]
  },
  {
   "cell_type": "code",
   "execution_count": 47,
   "id": "cbccd12a",
   "metadata": {},
   "outputs": [],
   "source": [
    "G_test = G_test.to('cuda:0')"
   ]
  },
  {
   "cell_type": "code",
   "execution_count": 48,
   "id": "e7da04f1",
   "metadata": {},
   "outputs": [],
   "source": [
    "th.cuda.empty_cache()"
   ]
  },
  {
   "cell_type": "code",
   "execution_count": 49,
   "id": "cc106bf8",
   "metadata": {},
   "outputs": [],
   "source": [
    "import timeit\n",
    "\n",
    "edge_features_test = G_test.edata['h']\n",
    "\n",
    "torch.cuda.synchronize()\n",
    "start_time = timeit.default_timer()\n",
    "\n",
    "with torch.no_grad():\n",
    "    test_pred,h =model(G_test, edge_features_test)\n",
    "\n",
    "torch.cuda.synchronize()\n",
    "elapsed = timeit.default_timer() - start_time"
   ]
  },
  {
   "cell_type": "code",
   "execution_count": 50,
   "id": "9955b4dd",
   "metadata": {},
   "outputs": [
    {
     "name": "stdout",
     "output_type": "stream",
     "text": [
      "0.002583241992397234 seconds\n"
     ]
    }
   ],
   "source": [
    "print(str(elapsed) + ' seconds')"
   ]
  },
  {
   "cell_type": "code",
   "execution_count": 51,
   "id": "e1f38635",
   "metadata": {},
   "outputs": [
    {
     "name": "stdout",
     "output_type": "stream",
     "text": [
      "2.347213267824596e-09\n"
     ]
    }
   ],
   "source": [
    "print(elapsed/len(X_test))"
   ]
  },
  {
   "cell_type": "code",
   "execution_count": 52,
   "id": "76a17022",
   "metadata": {},
   "outputs": [],
   "source": [
    "test_pred = test_pred.argmax(1)"
   ]
  },
  {
   "cell_type": "code",
   "execution_count": 53,
   "id": "4875bea8",
   "metadata": {},
   "outputs": [],
   "source": [
    "test_pred = th.Tensor.cpu(test_pred).detach().numpy()"
   ]
  },
  {
   "cell_type": "code",
   "execution_count": 54,
   "id": "bb6f13dc",
   "metadata": {},
   "outputs": [],
   "source": [
    "edge_label = le.inverse_transform(actual)\n",
    "test_pred = le.inverse_transform(test_pred)"
   ]
  },
  {
   "cell_type": "code",
   "execution_count": 55,
   "id": "25250756",
   "metadata": {},
   "outputs": [],
   "source": [
    "def plot_confusion_matrix(cm,\n",
    "                          target_names,\n",
    "                          title='Confusion matrix',\n",
    "                          cmap=None,\n",
    "                          normalize=True):\n",
    "    \n",
    "    import matplotlib.pyplot as plt\n",
    "    import numpy as np\n",
    "    import itertools\n",
    "\n",
    "    accuracy = np.trace(cm) / float(np.sum(cm))\n",
    "    misclass = 1 - accuracy\n",
    "\n",
    "    if cmap is None:\n",
    "        cmap = plt.get_cmap('Blues')\n",
    "\n",
    "    plt.figure(figsize=(12, 12))\n",
    "    plt.imshow(cm, interpolation='nearest', cmap=cmap)\n",
    "    plt.title(title)\n",
    "    plt.colorbar()\n",
    "\n",
    "    if target_names is not None:\n",
    "        tick_marks = np.arange(len(target_names))\n",
    "        plt.xticks(tick_marks, target_names, rotation=45)\n",
    "        plt.yticks(tick_marks, target_names)\n",
    "\n",
    "    if normalize:\n",
    "        cm = cm.astype('float') / cm.sum(axis=1)[:, np.newaxis]\n",
    "\n",
    "\n",
    "    thresh = cm.max() / 1.5 if normalize else cm.max() / 2\n",
    "    for i, j in itertools.product(range(cm.shape[0]), range(cm.shape[1])):\n",
    "        if normalize:\n",
    "            plt.text(j, i, \"{:0.4f}\".format(cm[i, j]),\n",
    "                     horizontalalignment=\"center\",\n",
    "                     color=\"white\" if cm[i, j] > thresh else \"black\")\n",
    "        else:\n",
    "            plt.text(j, i, \"{:,}\".format(cm[i, j]),\n",
    "                     horizontalalignment=\"center\",\n",
    "                     color=\"white\" if cm[i, j] > thresh else \"black\")\n",
    "\n",
    "\n",
    "    plt.tight_layout()\n",
    "    plt.ylabel('True label')\n",
    "    plt.xlabel('Predicted label\\naccuracy={:0.4f}; misclass={:0.4f}'.format(accuracy, misclass))\n",
    "    plt.show()"
   ]
  },
  {
   "cell_type": "code",
   "execution_count": 56,
   "id": "55795797",
   "metadata": {},
   "outputs": [
    {
     "data": {
      "image/png": "[encoded data removed]",
      "text/plain": [
       "<Figure size 1200x1200 with 2 Axes>"
      ]
     },
     "metadata": {},
     "output_type": "display_data"
    }
   ],
   "source": [
    "from sklearn.metrics import confusion_matrix\n",
    "\n",
    "plot_confusion_matrix(cm = confusion_matrix(edge_label, test_pred), \n",
    "                      normalize    = False,\n",
    "                      target_names = np.unique(edge_label),\n",
    "                      title        = \"Confusion Matrix\")"
   ]
  },
  {
   "cell_type": "code",
   "execution_count": 57,
   "id": "3ff5a1b0",
   "metadata": {},
   "outputs": [],
   "source": [
    "def plot_confusion_matrix(cm,\n",
    "                          target_names,\n",
    "                          title='Confusion matrix',\n",
    "                          cmap=None,\n",
    "                          normalize=True,\n",
    "                          title_fontsize=14):\n",
    "    \n",
    "    import matplotlib.pyplot as plt\n",
    "    import numpy as np\n",
    "    import itertools\n",
    "\n",
    "    accuracy = np.trace(cm) / float(np.sum(cm))\n",
    "    misclass = 1 - accuracy\n",
    "\n",
    "    if cmap is None:\n",
    "        cmap = plt.get_cmap('Blues')\n",
    "\n",
    "    plt.figure(figsize=(8, 5))\n",
    "    if normalize:\n",
    "        cm = cm.astype('float') / cm.sum(axis=1)[:, np.newaxis]\n",
    "\n",
    "    plt.imshow(cm, interpolation='nearest', cmap=cmap, vmin=0, vmax=1)\n",
    "    plt.title(title)\n",
    "    plt.colorbar()\n",
    "\n",
    "    if target_names is not None:\n",
    "        tick_marks = np.arange(len(target_names))\n",
    "        plt.xticks(tick_marks, target_names, rotation=45)\n",
    "        plt.yticks(tick_marks, target_names)\n",
    "\n",
    "    thresh = cm.max() / 1.5 if normalize else cm.max() / 2\n",
    "    for i, j in itertools.product(range(cm.shape[0]), range(cm.shape[1])):\n",
    "        if normalize:\n",
    "            plt.text(j, i, \"{:0.2f}\".format(cm[i, j]),\n",
    "                     horizontalalignment=\"center\",\n",
    "                     color=\"white\" if cm[i, j] > thresh else \"black\")\n",
    "        else:\n",
    "            plt.text(j, i, \"{:,}\".format(cm[i, j]),\n",
    "                     horizontalalignment=\"center\",\n",
    "                     color=\"white\" if cm[i, j] > thresh else \"black\")\n",
    "\n",
    "    plt.tight_layout()\n",
    "    plt.ylabel('True label',fontsize=14)\n",
    "#     plt.xlabel('Predicted label\\naccuracy={:0.4f}; misclass={:0.4f}'.format(accuracy, misclass))\n",
    "    plt.xlabel('Predicted label', fontsize=14)\n",
    "    plt.show()"
   ]
  },
  {
   "cell_type": "code",
   "execution_count": 58,
   "id": "e0ebb3a1",
   "metadata": {},
   "outputs": [
    {
     "data": {
      "image/png": "[encoded data removed]",
      "text/plain": [
       "<Figure size 800x500 with 2 Axes>"
      ]
     },
     "metadata": {},
     "output_type": "display_data"
    }
   ],
   "source": [
    "from sklearn.metrics import confusion_matrix\n",
    "\n",
    "plot_confusion_matrix(cm = confusion_matrix(edge_label, test_pred), \n",
    "                      normalize    = True,\n",
    "                      target_names = np.unique(edge_label),\n",
    "                      title        = \"Confusion Matrix\")"
   ]
  },
  {
   "cell_type": "code",
   "execution_count": 59,
   "id": "6c76ea56",
   "metadata": {},
   "outputs": [
    {
     "name": "stdout",
     "output_type": "stream",
     "text": [
      "                precision    recall  f1-score   support\n",
      "\n",
      "          DDoS     0.9989    0.9998    0.9993    577987\n",
      "           DoS     0.9998    0.9987    0.9992    495078\n",
      "        Normal     0.7554    0.7343    0.7447       143\n",
      "Reconnaissance     0.9988    0.9987    0.9987     27325\n",
      "         Theft     0.9231    1.0000    0.9600        24\n",
      "\n",
      "      accuracy                         0.9992   1100557\n",
      "     macro avg     0.9352    0.9463    0.9404   1100557\n",
      "  weighted avg     0.9992    0.9992    0.9992   1100557\n",
      "\n"
     ]
    }
   ],
   "source": [
    "from sklearn.metrics import classification_report\n",
    "target_names = np.unique(edge_label)\n",
    "print(classification_report(edge_label, test_pred, target_names=target_names, digits=4))"
   ]
  },
  {
   "cell_type": "code",
   "execution_count": 60,
   "id": "c4fb2667",
   "metadata": {},
   "outputs": [
    {
     "name": "stdout",
     "output_type": "stream",
     "text": [
      "class 0 acc 0.9998148747290164\n",
      "class 1 acc 0.9986668767345751\n",
      "class 2 acc 0.7342657342657343\n",
      "class 3 acc 0.9986825251601098\n",
      "class 4 acc 1.0\n"
     ]
    }
   ],
   "source": [
    "cm = confusion_matrix(edge_label, test_pred)\n",
    "class_acc = {}\n",
    "for i in range(len(cm)):\n",
    "    class_ac = cm[i,i]/cm[i,:].sum()\n",
    "    class_acc[i] = class_ac\n",
    "    \n",
    "for class_label, acc in class_acc.items():\n",
    "    print(f\"class {class_label} acc\", acc)"
   ]
  },
  {
   "cell_type": "code",
   "execution_count": 61,
   "id": "0f5a2f75",
   "metadata": {},
   "outputs": [
    {
     "name": "stdout",
     "output_type": "stream",
     "text": [
      "1332\n"
     ]
    }
   ],
   "source": [
    "model.parameters()\n",
    "print(sum(p.numel() for p in model.parameters())*4)"
   ]
  },
  {
   "cell_type": "code",
   "execution_count": null,
   "id": "9d8d38d1",
   "metadata": {},
   "outputs": [],
   "source": [
    "# torch.save(model, 'model.pth')"
   ]
  },
  {
   "cell_type": "code",
   "execution_count": null,
   "id": "05cff03c",
   "metadata": {},
   "outputs": [],
   "source": [
    "# import torch\n",
    "\n",
    "\n",
    "# # 加载模型之前的内存量\n",
    "# initial_memory = torch.cuda.memory_allocated()\n",
    "\n",
    "# # 加载模型\n",
    "# model_100 = torch.load('model.pth')\n",
    "\n",
    "# # 加载模型后的内存量\n",
    "# final_memory = torch.cuda.memory_allocated()\n",
    "\n",
    "# # 计算模型大小的增量\n",
    "# model_size = final_memory - initial_memory\n",
    "# print(\"模型大小（增量）：\", model_size, \"字节\")"
   ]
  }
 ],
 "metadata": {
  "kernelspec": {
   "display_name": "Python 3 (ipykernel)",
   "language": "python",
   "name": "python3"
  },
  "language_info": {
   "codemirror_mode": {
    "name": "ipython",
    "version": 3
   },
   "file_extension": ".py",
   "mimetype": "text/x-python",
   "name": "python",
   "nbconvert_exporter": "python",
   "pygments_lexer": "ipython3",
   "version": "3.10.8"
  }
 },
 "nbformat": 4,
 "nbformat_minor": 5
}
